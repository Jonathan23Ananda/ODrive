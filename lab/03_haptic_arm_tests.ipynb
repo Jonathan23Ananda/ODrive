{
 "cells": [
  {
   "cell_type": "code",
   "execution_count": 1,
   "metadata": {},
   "outputs": [
    {
     "name": "stdout",
     "output_type": "stream",
     "text": [
      "finding an odrive...\n"
     ]
    }
   ],
   "source": [
    "import odrive\n",
    "from odrive.enums import *\n",
    "import time, sys\n",
    "import math\n",
    "import numpy as np\n",
    "import tqdm\n",
    "import matplotlib.pyplot as plt\n",
    "from tqdm import tnrange\n",
    "\n",
    "# Find a connected ODrive (this will block until you connect one)\n",
    "print(\"finding an odrive...\")\n",
    "my_drive = odrive.find_any()\n",
    "\n",
    "# Find an ODrive that is connected on the serial port /dev/ttyUSB0\n",
    "#my_drive = odrive.find_any(\"serial:/dev/ttyUSB0\")\n"
   ]
  },
  {
   "cell_type": "code",
   "execution_count": 247,
   "metadata": {},
   "outputs": [
    {
     "ename": "ChannelBrokenException",
     "evalue": "",
     "output_type": "error",
     "traceback": [
      "\u001b[0;31m---------------------------------------------------------------------------\u001b[0m",
      "\u001b[0;31mChannelBrokenException\u001b[0m                    Traceback (most recent call last)",
      "\u001b[0;32m<ipython-input-247-11a834f1c51e>\u001b[0m in \u001b[0;36m<module>\u001b[0;34m\u001b[0m\n\u001b[0;32m----> 1\u001b[0;31m \u001b[0mmy_drive\u001b[0m\u001b[0;34m.\u001b[0m\u001b[0mreboot\u001b[0m\u001b[0;34m(\u001b[0m\u001b[0;34m)\u001b[0m\u001b[0;34m\u001b[0m\u001b[0;34m\u001b[0m\u001b[0m\n\u001b[0m",
      "\u001b[0;32m~/anaconda3/envs/py37/lib/python3.7/site-packages/fibre/remote_object.py\u001b[0m in \u001b[0;36m__call__\u001b[0;34m(self, *args)\u001b[0m\n\u001b[1;32m    160\u001b[0m         \u001b[0;32mfor\u001b[0m \u001b[0mi\u001b[0m \u001b[0;32min\u001b[0m \u001b[0mrange\u001b[0m\u001b[0;34m(\u001b[0m\u001b[0mlen\u001b[0m\u001b[0;34m(\u001b[0m\u001b[0margs\u001b[0m\u001b[0;34m)\u001b[0m\u001b[0;34m)\u001b[0m\u001b[0;34m:\u001b[0m\u001b[0;34m\u001b[0m\u001b[0;34m\u001b[0m\u001b[0m\n\u001b[1;32m    161\u001b[0m             \u001b[0mself\u001b[0m\u001b[0;34m.\u001b[0m\u001b[0m_inputs\u001b[0m\u001b[0;34m[\u001b[0m\u001b[0mi\u001b[0m\u001b[0;34m]\u001b[0m\u001b[0;34m.\u001b[0m\u001b[0mset_value\u001b[0m\u001b[0;34m(\u001b[0m\u001b[0margs\u001b[0m\u001b[0;34m[\u001b[0m\u001b[0mi\u001b[0m\u001b[0;34m]\u001b[0m\u001b[0;34m)\u001b[0m\u001b[0;34m\u001b[0m\u001b[0;34m\u001b[0m\u001b[0m\n\u001b[0;32m--> 162\u001b[0;31m         \u001b[0mself\u001b[0m\u001b[0;34m.\u001b[0m\u001b[0m_parent\u001b[0m\u001b[0;34m.\u001b[0m\u001b[0m__channel__\u001b[0m\u001b[0;34m.\u001b[0m\u001b[0mremote_endpoint_operation\u001b[0m\u001b[0;34m(\u001b[0m\u001b[0mself\u001b[0m\u001b[0;34m.\u001b[0m\u001b[0m_trigger_id\u001b[0m\u001b[0;34m,\u001b[0m \u001b[0;32mNone\u001b[0m\u001b[0;34m,\u001b[0m \u001b[0;32mTrue\u001b[0m\u001b[0;34m,\u001b[0m \u001b[0;36m0\u001b[0m\u001b[0;34m)\u001b[0m\u001b[0;34m\u001b[0m\u001b[0;34m\u001b[0m\u001b[0m\n\u001b[0m\u001b[1;32m    163\u001b[0m         \u001b[0;32mif\u001b[0m \u001b[0mlen\u001b[0m\u001b[0;34m(\u001b[0m\u001b[0mself\u001b[0m\u001b[0;34m.\u001b[0m\u001b[0m_outputs\u001b[0m\u001b[0;34m)\u001b[0m \u001b[0;34m>\u001b[0m \u001b[0;36m0\u001b[0m\u001b[0;34m:\u001b[0m\u001b[0;34m\u001b[0m\u001b[0;34m\u001b[0m\u001b[0m\n\u001b[1;32m    164\u001b[0m             \u001b[0;32mreturn\u001b[0m \u001b[0mself\u001b[0m\u001b[0;34m.\u001b[0m\u001b[0m_outputs\u001b[0m\u001b[0;34m[\u001b[0m\u001b[0;36m0\u001b[0m\u001b[0;34m]\u001b[0m\u001b[0;34m.\u001b[0m\u001b[0mget_value\u001b[0m\u001b[0;34m(\u001b[0m\u001b[0;34m)\u001b[0m\u001b[0;34m\u001b[0m\u001b[0;34m\u001b[0m\u001b[0m\n",
      "\u001b[0;32m~/anaconda3/envs/py37/lib/python3.7/site-packages/fibre/protocol.py\u001b[0m in \u001b[0;36mremote_endpoint_operation\u001b[0;34m(self, endpoint_id, input, expect_ack, output_length)\u001b[0m\n\u001b[1;32m    307\u001b[0m                     \u001b[0;32mtry\u001b[0m\u001b[0;34m:\u001b[0m\u001b[0;34m\u001b[0m\u001b[0;34m\u001b[0m\u001b[0m\n\u001b[1;32m    308\u001b[0m                         \u001b[0;32mif\u001b[0m \u001b[0mwait_any\u001b[0m\u001b[0;34m(\u001b[0m\u001b[0mself\u001b[0m\u001b[0;34m.\u001b[0m\u001b[0m_resend_timeout\u001b[0m\u001b[0;34m,\u001b[0m \u001b[0mack_event\u001b[0m\u001b[0;34m,\u001b[0m \u001b[0mself\u001b[0m\u001b[0;34m.\u001b[0m\u001b[0m_channel_broken\u001b[0m\u001b[0;34m)\u001b[0m \u001b[0;34m!=\u001b[0m \u001b[0;36m0\u001b[0m\u001b[0;34m:\u001b[0m\u001b[0;34m\u001b[0m\u001b[0;34m\u001b[0m\u001b[0m\n\u001b[0;32m--> 309\u001b[0;31m                             \u001b[0;32mraise\u001b[0m \u001b[0mChannelBrokenException\u001b[0m\u001b[0;34m(\u001b[0m\u001b[0;34m)\u001b[0m\u001b[0;34m\u001b[0m\u001b[0;34m\u001b[0m\u001b[0m\n\u001b[0m\u001b[1;32m    310\u001b[0m                     \u001b[0;32mexcept\u001b[0m \u001b[0mTimeoutError\u001b[0m\u001b[0;34m:\u001b[0m\u001b[0;34m\u001b[0m\u001b[0;34m\u001b[0m\u001b[0m\n\u001b[1;32m    311\u001b[0m                         \u001b[0mattempt\u001b[0m \u001b[0;34m+=\u001b[0m \u001b[0;36m1\u001b[0m\u001b[0;34m\u001b[0m\u001b[0;34m\u001b[0m\u001b[0m\n",
      "\u001b[0;31mChannelBrokenException\u001b[0m: "
     ]
    }
   ],
   "source": [
    "my_drive.reboot()"
   ]
  },
  {
   "cell_type": "code",
   "execution_count": 245,
   "metadata": {},
   "outputs": [
    {
     "data": {
      "text/plain": [
       "'0x41'"
      ]
     },
     "execution_count": 245,
     "metadata": {},
     "output_type": "execute_result"
    }
   ],
   "source": [
    "hex(my_drive.axis1.error)"
   ]
  },
  {
   "cell_type": "code",
   "execution_count": 246,
   "metadata": {},
   "outputs": [
    {
     "data": {
      "text/plain": [
       "'0x90'"
      ]
     },
     "execution_count": 246,
     "metadata": {},
     "output_type": "execute_result"
    }
   ],
   "source": [
    "hex(my_drive.axis0.motor.error)\n",
    "# ERROR_CONTROL_DEADLINE_MISSED\n",
    "# ERROR_MODULATION_MAGNITUDE"
   ]
  },
  {
   "cell_type": "code",
   "execution_count": 167,
   "metadata": {},
   "outputs": [],
   "source": [
    "my_drive.axis0.requested_state = AXIS_STATE_IDLE\n",
    "my_drive.axis1.requested_state = AXIS_STATE_IDLE"
   ]
  },
  {
   "cell_type": "code",
   "execution_count": 249,
   "metadata": {},
   "outputs": [],
   "source": [
    "my_drive.axis0.encoder.config.idx_search_speed = 5\n",
    "my_drive.axis0.requested_state = AXIS_STATE_ENCODER_INDEX_SEARCH\n",
    "\n",
    "my_drive.axis1.encoder.config.idx_search_speed = -5\n",
    "my_drive.axis1.requested_state = AXIS_STATE_ENCODER_INDEX_SEARCH\n"
   ]
  },
  {
   "cell_type": "code",
   "execution_count": 215,
   "metadata": {},
   "outputs": [],
   "source": [
    "my_drive.axis0.motor.config.direction = 1"
   ]
  },
  {
   "cell_type": "code",
   "execution_count": 216,
   "metadata": {},
   "outputs": [],
   "source": [
    "my_drive.axis1.motor.config.direction = 1"
   ]
  },
  {
   "cell_type": "code",
   "execution_count": 181,
   "metadata": {},
   "outputs": [
    {
     "data": {
      "text/plain": [
       "pre_calibrated = True (bool)\n",
       "pole_pairs = 7 (int)\n",
       "calibration_current = 8.0 (float)\n",
       "resistance_calib_max_voltage = 2.0 (float)\n",
       "phase_inductance = 0.0 (float)\n",
       "phase_resistance = 0.0 (float)\n",
       "direction = 1 (int)\n",
       "motor_type = 2 (int)\n",
       "current_lim = 20.0 (float)\n",
       "requested_current_range = 60.0 (float)"
      ]
     },
     "execution_count": 181,
     "metadata": {},
     "output_type": "execute_result"
    }
   ],
   "source": [
    "my_drive.axis0.motor.config"
   ]
  },
  {
   "cell_type": "code",
   "execution_count": 183,
   "metadata": {},
   "outputs": [
    {
     "data": {
      "text/plain": [
       "pre_calibrated = True (bool)\n",
       "pole_pairs = 7 (int)\n",
       "calibration_current = 5.0 (float)\n",
       "resistance_calib_max_voltage = 2.0 (float)\n",
       "phase_inductance = 0.0 (float)\n",
       "phase_resistance = 0.0 (float)\n",
       "direction = -1 (int)\n",
       "motor_type = 2 (int)\n",
       "current_lim = 20.0 (float)\n",
       "requested_current_range = 60.0 (float)"
      ]
     },
     "execution_count": 183,
     "metadata": {},
     "output_type": "execute_result"
    }
   ],
   "source": [
    "my_drive.axis1.motor.config"
   ]
  },
  {
   "cell_type": "code",
   "execution_count": 175,
   "metadata": {},
   "outputs": [],
   "source": [
    "def set_PID(pos_gain=5, vel_gain=0.0003, vel_integrator_gain=0):\n",
    "    my_drive.axis0.controller.config.pos_gain = pos_gain\n",
    "    my_drive.axis0.controller.config.vel_gain = vel_gain\n",
    "    my_drive.axis0.controller.config.vel_integrator_gain = vel_integrator_gain\n",
    "    \n",
    "    my_drive.axis1.controller.config.pos_gain = pos_gain\n",
    "    my_drive.axis1.controller.config.vel_gain = vel_gain\n",
    "    my_drive.axis1.controller.config.vel_integrator_gain = vel_integrator_gain\n",
    "    \n",
    "set_PID(10, 3e-4, 1e-5)"
   ]
  },
  {
   "cell_type": "code",
   "execution_count": 176,
   "metadata": {},
   "outputs": [
    {
     "data": {
      "text/plain": [
       "(1640.1307373046875, 1788.2379150390625)"
      ]
     },
     "execution_count": 176,
     "metadata": {},
     "output_type": "execute_result"
    }
   ],
   "source": [
    "my_drive.axis0.encoder.pos_estimate, my_drive.axis0.encoder.pos_cpr"
   ]
  },
  {
   "cell_type": "code",
   "execution_count": 122,
   "metadata": {},
   "outputs": [
    {
     "data": {
      "text/plain": [
       "0.0"
      ]
     },
     "execution_count": 122,
     "metadata": {},
     "output_type": "execute_result"
    }
   ],
   "source": [
    "my_drive.axis0.controller.vel_setpoint"
   ]
  },
  {
   "cell_type": "code",
   "execution_count": 128,
   "metadata": {},
   "outputs": [
    {
     "data": {
      "text/plain": [
       "1"
      ]
     },
     "execution_count": 128,
     "metadata": {},
     "output_type": "execute_result"
    }
   ],
   "source": [
    "my_drive.fw_version_revision"
   ]
  },
  {
   "cell_type": "code",
   "execution_count": 187,
   "metadata": {},
   "outputs": [
    {
     "data": {
      "text/plain": [
       "(997.365478515625, -2336.252197265625)"
      ]
     },
     "execution_count": 187,
     "metadata": {},
     "output_type": "execute_result"
    }
   ],
   "source": [
    "my_drive.axis0.encoder.pos_estimate, my_drive.axis1.encoder.pos_estimate"
   ]
  },
  {
   "cell_type": "code",
   "execution_count": 206,
   "metadata": {},
   "outputs": [],
   "source": [
    "my_drive.axis0.requested_state = AXIS_STATE_IDLE\n",
    "my_drive.axis1.requested_state = AXIS_STATE_IDLE"
   ]
  },
  {
   "cell_type": "code",
   "execution_count": 227,
   "metadata": {},
   "outputs": [],
   "source": [
    "trajectory = []"
   ]
  },
  {
   "cell_type": "code",
   "execution_count": 250,
   "metadata": {},
   "outputs": [
    {
     "name": "stdout",
     "output_type": "stream",
     "text": [
      "hold:  -278.8623962402344 -1740.9029541015625\n",
      "cpr0: 161.47555541992188 cpr1: -1439.3680419921875\t vel_setpoint0.0"
     ]
    }
   ],
   "source": [
    "set_PID(20, 3e-4, 1e-4)\n",
    "\n",
    "hold0 = my_drive.axis0.encoder.pos_estimate\n",
    "hold1 = my_drive.axis1.encoder.pos_estimate\n",
    "print(\"hold: \", hold0, hold1)\n",
    "\n",
    "my_drive.axis0.controller.pos_setpoint = hold0\n",
    "my_drive.axis1.controller.pos_setpoint = hold1\n",
    "\n",
    "my_drive.axis0.requested_state = AXIS_STATE_CLOSED_LOOP_CONTROL\n",
    "my_drive.axis1.requested_state = AXIS_STATE_CLOSED_LOOP_CONTROL\n",
    "\n",
    "for _ in range(30):\n",
    "    pos0 = my_drive.axis0.encoder.pos_estimate\n",
    "    pos1 = my_drive.axis1.encoder.pos_estimate\n",
    "    trajectory.append([pos0, pos1])\n",
    "\n",
    "    sys.stdout.write(\"\\r\\rcpr0: \" + str(pos0) \\\n",
    "                      + \" cpr1: \" + str(pos1) \\\n",
    "              + \"\\t vel_setpoint\" + str(my_drive.axis0.controller.vel_setpoint)) \n",
    "    time.sleep(0.1)\n",
    "    \n",
    "my_drive.axis0.requested_state = AXIS_STATE_IDLE\n",
    "my_drive.axis1.requested_state = AXIS_STATE_IDLE"
   ]
  },
  {
   "cell_type": "code",
   "execution_count": 251,
   "metadata": {},
   "outputs": [
    {
     "data": {
      "text/plain": [
       "[<matplotlib.lines.Line2D at 0x11b007c88>]"
      ]
     },
     "execution_count": 251,
     "metadata": {},
     "output_type": "execute_result"
    },
    {
     "data": {
      "image/png": "[encoded data removed]",
      "text/plain": [
       "<Figure size 432x288 with 1 Axes>"
      ]
     },
     "metadata": {
      "needs_background": "light"
     },
     "output_type": "display_data"
    }
   ],
   "source": [
    "plt.plot(trajectory)\n",
    "plt.plot([0,30],[hold0, hold0] ,'--')\n",
    "plt.plot([0,30],[hold1, hold1] ,'--')"
   ]
  },
  {
   "cell_type": "code",
   "execution_count": 203,
   "metadata": {},
   "outputs": [
    {
     "name": "stdout",
     "output_type": "stream",
     "text": [
      "hold:  1185.741943359375 -2394.087158203125\n",
      "cpr0: 1037.1826171875 cpr1: -2118.956787109375\t vel_setpoint0.0\n",
      "hold:  1185.741943359375 -2394.087158203125\n",
      "cpr0: 1046.5732421875 cpr1:-2154.85546875\t vel_setpoint0.0"
     ]
    }
   ],
   "source": [
    "print()\n",
    "print(\"hold: \", hold0, hold1)\n",
    "\n",
    "my_drive.axis0.controller.pos_setpoint = hold0\n",
    "# my_drive.axis1.controller.pos_setpoint = hold1\n",
    "\n",
    "\n",
    "for _ in range(30):\n",
    "    pos0 = my_drive.axis0.encoder.pos_estimate\n",
    "    pos1 = my_drive.axis1.encoder.pos_estimate\n",
    "    sys.stdout.write(\"\\r\\rcpr0: \" + str(pos0) + \" cpr1:\" + str(pos1) + \"\\t vel_setpoint\" + str(my_drive.axis0.controller.vel_setpoint)) \n",
    "    time.sleep(0.1)\n",
    "    \n",
    "    \n",
    "my_drive.axis0.requested_state = AXIS_STATE_IDLE\n",
    "my_drive.axis1.requested_state = AXIS_STATE_IDLE"
   ]
  },
  {
   "cell_type": "code",
   "execution_count": 192,
   "metadata": {},
   "outputs": [
    {
     "name": "stdout",
     "output_type": "stream",
     "text": [
      "hold:  901.958984375 -2312.85400390625\n",
      "cpr0: 1035.828125 cpr1:-2119.792724609375\t vel_setpoint0.0"
     ]
    }
   ],
   "source": [
    "set_PID(21, 3e-4, 3e-5)\n",
    "\n",
    "hold0 = my_drive.axis0.encoder.pos_estimate\n",
    "hold1 = my_drive.axis1.encoder.pos_estimate\n",
    "\n",
    "print(\"hold: \", hold0, hold1)\n",
    "\n",
    "my_drive.axis0.controller.pos_setpoint = hold0\n",
    "my_drive.axis1.controller.pos_setpoint = hold1\n",
    "\n",
    "my_drive.axis0.requested_state = AXIS_STATE_CLOSED_LOOP_CONTROL\n",
    "my_drive.axis1.requested_state = AXIS_STATE_CLOSED_LOOP_CONTROL\n",
    "\n",
    "for _ in range(30):\n",
    "    pos0 = my_drive.axis0.encoder.pos_estimate\n",
    "    pos1 = my_drive.axis1.encoder.pos_estimate\n",
    "    \n",
    "    sys.stdout.write(\"\\r\\rcpr0: \" + str(pos0) + \" cpr1:\" + str(pos1) + \"\\t vel_setpoint\" + str(my_drive.axis0.controller.vel_setpoint)) \n",
    "    time.sleep(0.1)\n",
    "\n",
    "my_drive.axis0.requested_state = AXIS_STATE_IDLE\n",
    "my_drive.axis1.requested_state = AXIS_STATE_IDLE"
   ]
  },
  {
   "cell_type": "code",
   "execution_count": 173,
   "metadata": {},
   "outputs": [
    {
     "name": "stdout",
     "output_type": "stream",
     "text": [
      "\n",
      "hold:  1168.14892578125 -2447.9052734375\n",
      "cpr0: 107.4240951538086 cpr1:-1175.8602294921875"
     ]
    }
   ],
   "source": [
    "# hold0 = my_drive.axis0.encoder.pos_estimate\n",
    "# hold1 = my_drive.axis1.encoder.pos_estimate\n",
    "\n",
    "# my_drive.axis0.controller.pos_setpoint = hold0\n",
    "# my_drive.axis1.controller.pos_setpoint = hold1\n",
    "\n",
    "print(\"\\nhold: \", hold0, hold1)\n",
    "\n",
    "for _ in range(30):\n",
    "    pos0 = my_drive.axis0.encoder.pos_estimate\n",
    "    pos1 = my_drive.axis1.encoder.pos_estimate\n",
    "\n",
    "    sys.stdout.write(\"\\r\\rcpr0: \" + str(pos0) + \" cpr1:\" + str(pos1)) \n",
    "    time.sleep(0.1)\n",
    "    \n",
    "my_drive.axis0.requested_state = AXIS_STATE_IDLE\n",
    "my_drive.axis1.requested_state = AXIS_STATE_IDLE"
   ]
  },
  {
   "cell_type": "code",
   "execution_count": 120,
   "metadata": {},
   "outputs": [
    {
     "data": {
      "text/plain": [
       "<fibre.remote_object.RemoteFunction at 0x1188b1e80>"
      ]
     },
     "execution_count": 120,
     "metadata": {},
     "output_type": "execute_result"
    }
   ],
   "source": [
    "my_drive.axis0.controller.set_pos_setpoint"
   ]
  },
  {
   "cell_type": "code",
   "execution_count": 119,
   "metadata": {},
   "outputs": [
    {
     "data": {
      "text/plain": [
       "20.0"
      ]
     },
     "execution_count": 119,
     "metadata": {},
     "output_type": "execute_result"
    }
   ],
   "source": [
    "my_drive.axis1.motor.config.current_lim"
   ]
  },
  {
   "cell_type": "code",
   "execution_count": 71,
   "metadata": {},
   "outputs": [],
   "source": [
    "my_drive.axis0.requested_state = AXIS_STATE_IDLE\n",
    "my_drive.axis1.requested_state = AXIS_STATE_IDLE"
   ]
  },
  {
   "cell_type": "code",
   "execution_count": 174,
   "metadata": {},
   "outputs": [
    {
     "name": "stdout",
     "output_type": "stream",
     "text": [
      "cpr0: 1012 cpr1:6874"
     ]
    }
   ],
   "source": [
    "for _ in range(100):\n",
    "    cpr0 = my_drive.axis0.encoder.count_in_cpr\n",
    "    cpr1 = my_drive.axis1.encoder.count_in_cpr\n",
    "\n",
    "    sys.stdout.write(\"\\r\\rcpr0: \" + str(cpr0) + \" cpr1:\" + str(cpr1)) \n",
    "    time.sleep(0.1)"
   ]
  },
  {
   "cell_type": "code",
   "execution_count": 3,
   "metadata": {},
   "outputs": [
    {
     "name": "stdout",
     "output_type": "stream",
     "text": [
      "Position motor 1...\n",
      "Done 1949\n",
      "Calibrating motor 2... \n",
      "Done -8028\n"
     ]
    }
   ],
   "source": [
    "''' Calibrate zeros '''\n",
    "\n",
    "zero = np.array([0,0])\n",
    "print(\"Position motor 1...\", )\n",
    "time.sleep(1)\n",
    "zero[1] = my_drive.axis0.encoder.count_in_cpr\n",
    "print(\"Done\", zero[1])\n",
    "print(\"Calibrating motor 2... \")\n",
    "time.sleep(3)\n",
    "zero[0] = -my_drive.axis1.encoder.count_in_cpr\n",
    "print(\"Done\", zero[0])"
   ]
  },
  {
   "cell_type": "code",
   "execution_count": 4,
   "metadata": {},
   "outputs": [
    {
     "name": "stdout",
     "output_type": "stream",
     "text": [
      "cpr: 95.00, -128.00\tθ: 0.07, -0.10\tmm: 0.79, -354.02\tpix: 962.93, 1114.90"
     ]
    }
   ],
   "source": [
    "import pickle\n",
    "with open('theta2xy.pkl', 'rb') as f:\n",
    "    mapping = pickle.load(f)\n",
    "    \n",
    "def theta2xy(_t):\n",
    "    idx = np.sum((mapping['theta'][:,:2] - _t)**2, axis=1).argmin()\n",
    "    return mapping['xy'][idx]\n",
    "\n",
    "def xy2pixel(p):\n",
    "    ''' y^2 = 24in/(ratio^2+1) \n",
    "        x^2 = 24in/(1/ratio^2 + 1)'''\n",
    "    screen = np.array([1920, -1200])\n",
    "    center = screen/2 + np.array([0, 400])\n",
    "    scale = screen/np.array([516.94, 323.087])\n",
    "    \n",
    "    return p*scale + center\n",
    "\n",
    "theta2xy(np.array([0,0]))\n",
    "\n",
    "def getAngles():\n",
    "    pmpi = lambda t: (t+np.pi) % (2*np.pi) - np.pi\n",
    "    cpr = np.array([-my_drive.axis1.encoder.count_in_cpr, \\\n",
    "                    my_drive.axis0.encoder.count_in_cpr])\n",
    "    \n",
    "    return pmpi((cpr-zero)*2*np.pi/2**13)\n",
    "\n",
    "\n",
    "for _ in range(10):\n",
    "    cpr = np.array([-my_drive.axis1.encoder.count_in_cpr, my_drive.axis0.encoder.count_in_cpr]) - zero\n",
    "    theta = getAngles()\n",
    "    xy = theta2xy(theta)\n",
    "    pix = xy2pixel(xy)\n",
    "    digits = tuple(cpr) + tuple(theta) + tuple(xy) + tuple(pix)\n",
    "    sys.stdout.write(\"\\rcpr: %.2f, %.2f\\tθ: %.2f, %.2f\\tmm: %.2f, %.2f\\tpix: %.2f, %.2f\" % digits)\n",
    "    try:\n",
    "        time.sleep(0.1)\n",
    "    except KeyboardInterrupt:\n",
    "        break"
   ]
  },
  {
   "cell_type": "code",
   "execution_count": 41,
   "metadata": {},
   "outputs": [],
   "source": [
    "!cp /Users/ben/gitgit/odrive/lab/01_transformation.ipynb 08_transformation.ipynb"
   ]
  },
  {
   "cell_type": "code",
   "execution_count": 5,
   "metadata": {},
   "outputs": [],
   "source": [
    "import asyncio\n",
    "import datetime\n",
    "import random\n",
    "import websockets\n",
    "import numpy as np\n",
    "\n",
    "_c = np.array([1920/2, 1200/2])\n",
    "_r = 300\n",
    "_t = np.linspace(0, 2*np.pi, 512)\n",
    "circle = _r*np.vstack([np.sin(_t), np.cos(_t)]).T + _c\n",
    "\n",
    "def arr2str(arr):\n",
    "    return \",\".join(map(str,arr))"
   ]
  },
  {
   "cell_type": "code",
   "execution_count": 6,
   "metadata": {},
   "outputs": [
    {
     "data": {
      "text/plain": [
       "<websockets.server.WebSocketServer at 0x111277390>"
      ]
     },
     "execution_count": 6,
     "metadata": {},
     "output_type": "execute_result"
    }
   ],
   "source": [
    "async def tick(websocket, path):\n",
    "    i = 0\n",
    "    while True:\n",
    "        now = datetime.datetime.utcnow().isoformat() + 'Z'\n",
    "        theta = getAngles()\n",
    "        xy = theta2xy(theta)\n",
    "        pix = xy2pixel(xy)\n",
    "        sys.stdout.write(\"\\rcpr: %.2f, %.2f\\tθ: %.2f, %.2f\\tmm: %.2f, %.2f\\tpix: %.2f, %.2f\" % digits)\n",
    "\n",
    "        await websocket.send(arr2str(pix))\n",
    "        await asyncio.sleep(.005)\n",
    "\n",
    "start_server = websockets.serve(tick, '127.0.0.1', 5678)\n",
    "\n",
    "asyncio.get_event_loop().run_until_complete(start_server)"
   ]
  },
  {
   "cell_type": "code",
   "execution_count": null,
   "metadata": {},
   "outputs": [
    {
     "name": "stdout",
     "output_type": "stream",
     "text": [
      "cpr: 95.00, -128.00\tθ: 0.07, -0.10\tmm: 0.79, -354.02\tpix: 962.93, 1114.90"
     ]
    }
   ],
   "source": [
    "try:\n",
    "    asyncio.get_event_loop().run_forever()\n",
    "except KeyboardInterrupt:\n",
    "    start_server.ws_server.close()"
   ]
  },
  {
   "cell_type": "code",
   "execution_count": 137,
   "metadata": {},
   "outputs": [],
   "source": [
    "import threading"
   ]
  },
  {
   "cell_type": "code",
   "execution_count": 151,
   "metadata": {},
   "outputs": [
    {
     "name": "stdout",
     "output_type": "stream",
     "text": [
      "cpr: 194.00, -226.00\tθ: 0.15, -0.17\tmm: -2.45, -351.22\tpix: 950.88, 1104.48"
     ]
    },
    {
     "data": {
      "text/plain": [
       "<websockets.server.WebSocketServer at 0x1188df668>"
      ]
     },
     "execution_count": 151,
     "metadata": {},
     "output_type": "execute_result"
    }
   ],
   "source": [
    "start_server = websockets.serve(tick, '127.0.0.1', 5678)\n",
    "asyncio.get_event_loop().run_until_complete(start_server)\n"
   ]
  },
  {
   "cell_type": "code",
   "execution_count": 152,
   "metadata": {},
   "outputs": [],
   "source": [
    "class stream(threading.Thread):\n",
    "    def __init__(self):\n",
    "        threading.Thread.__init__(self)\n",
    "        self.kill = False\n",
    "        \n",
    "    def run(self):\n",
    "        \n",
    "        try:\n",
    "            asyncio.get_event_loop().run_forever()\n",
    "        except KeyboardInterrupt:\n",
    "            start_server.ws_server.close()"
   ]
  },
  {
   "cell_type": "code",
   "execution_count": 154,
   "metadata": {},
   "outputs": [
    {
     "name": "stderr",
     "output_type": "stream",
     "text": [
      "Exception in thread Thread-17:\n",
      "Traceback (most recent call last):\n",
      "  File \"/Users/ben/anaconda3/envs/py37/lib/python3.7/threading.py\", line 917, in _bootstrap_inner\n",
      "    self.run()\n",
      "  File \"<ipython-input-152-ff769fc173ad>\", line 9, in run\n",
      "    asyncio.get_event_loop().run_forever()\n",
      "  File \"/Users/ben/anaconda3/envs/py37/lib/python3.7/asyncio/events.py\", line 644, in get_event_loop\n",
      "    % threading.current_thread().name)\n",
      "RuntimeError: There is no current event loop in thread 'Thread-17'.\n",
      "\n"
     ]
    }
   ],
   "source": [
    "s = stream()\n",
    "s.start()"
   ]
  },
  {
   "cell_type": "code",
   "execution_count": null,
   "metadata": {},
   "outputs": [],
   "source": []
  }
 ],
 "metadata": {
  "kernelspec": {
   "display_name": "py37",
   "language": "python",
   "name": "py37"
  },
  "language_info": {
   "codemirror_mode": {
    "name": "ipython",
    "version": 3
   },
   "file_extension": ".py",
   "mimetype": "text/x-python",
   "name": "python",
   "nbconvert_exporter": "python",
   "pygments_lexer": "ipython3",
   "version": "3.7.2"
  }
 },
 "nbformat": 4,
 "nbformat_minor": 2
}
