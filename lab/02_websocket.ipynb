{
 "cells": [
  {
   "cell_type": "code",
   "execution_count": 1,
   "metadata": {},
   "outputs": [],
   "source": [
    "import asyncio\n",
    "import datetime\n",
    "import random\n",
    "import websockets\n",
    "import numpy as np\n",
    "\n",
    "_c = np.array([1920/2, 1200/2])\n",
    "_r = 300\n",
    "_t = np.linspace(0, 2*np.pi, 512)\n",
    "circle = _r*np.vstack([np.sin(_t), np.cos(_t)]).T + _c\n",
    "\n",
    "def arr2str(arr):\n",
    "    return \",\".join(map(str,arr))"
   ]
  },
  {
   "cell_type": "code",
   "execution_count": null,
   "metadata": {},
   "outputs": [],
   "source": [
    "async def time(websocket, path):\n",
    "    i = 0\n",
    "    while True:\n",
    "        now = datetime.datetime.utcnow().isoformat() + 'Z'\n",
    "        i = (i+1) % len(circle)\n",
    "        await websocket.send(arr2str(circle[i]))\n",
    "        await asyncio.sleep(.005)\n",
    "\n",
    "start_server = websockets.serve(time, '127.0.0.1', 5678)\n",
    "\n",
    "asyncio.get_event_loop().run_until_complete(start_server)\n",
    "asyncio.get_event_loop().run_forever()"
   ]
  },
  {
   "cell_type": "code",
   "execution_count": null,
   "metadata": {},
   "outputs": [],
   "source": []
  }
 ],
 "metadata": {
  "kernelspec": {
   "display_name": "py37",
   "language": "python",
   "name": "py37"
  },
  "language_info": {
   "codemirror_mode": {
    "name": "ipython",
    "version": 3
   },
   "file_extension": ".py",
   "mimetype": "text/x-python",
   "name": "python",
   "nbconvert_exporter": "python",
   "pygments_lexer": "ipython3",
   "version": "3.7.2"
  }
 },
 "nbformat": 4,
 "nbformat_minor": 2
}
