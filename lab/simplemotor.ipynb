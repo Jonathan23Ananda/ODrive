{
 "cells": [
  {
   "cell_type": "code",
   "execution_count": 19,
   "metadata": {},
   "outputs": [],
   "source": [
    "# ---------------------------------Load Odrive----------------------------------------------------"
   ]
  },
  {
   "cell_type": "code",
   "execution_count": 1,
   "metadata": {},
   "outputs": [
    {
     "name": "stdout",
     "output_type": "stream",
     "text": [
      "finding an odrive...\n"
     ]
    }
   ],
   "source": [
    "\"\"\"\n",
    "Example usage of the ODrive python library to monitor and control ODrive devices\n",
    "\"\"\"\n",
    "\n",
    "from __future__ import print_function\n",
    "\n",
    "import odrive\n",
    "from odrive.enums import *\n",
    "import time, sys\n",
    "import math\n",
    "import numpy as np\n",
    "import tqdm\n",
    "import matplotlib.pyplot as plt\n",
    "from tqdm import tnrange\n",
    "\n",
    "# Find a connected ODrive (this will block until you connect one)\n",
    "print(\"finding an odrive...\")\n",
    "my_drive = odrive.find_any()\n",
    "\n",
    "# Find an ODrive that is connected on the serial port /dev/ttyUSB0\n",
    "#my_drive = odrive.find_any(\"serial:/dev/ttyUSB0\")"
   ]
  },
  {
   "cell_type": "code",
   "execution_count": null,
   "metadata": {},
   "outputs": [],
   "source": [
    "# -------------------------------------Reboot-------------------------------------------------------"
   ]
  },
  {
   "cell_type": "code",
   "execution_count": 108,
   "metadata": {},
   "outputs": [
    {
     "ename": "ChannelBrokenException",
     "evalue": "",
     "output_type": "error",
     "traceback": [
      "\u001b[0;31m---------------------------------------------------------------------------\u001b[0m",
      "\u001b[0;31mChannelBrokenException\u001b[0m                    Traceback (most recent call last)",
      "\u001b[0;32m<ipython-input-108-11a834f1c51e>\u001b[0m in \u001b[0;36m<module>\u001b[0;34m()\u001b[0m\n\u001b[0;32m----> 1\u001b[0;31m \u001b[0mmy_drive\u001b[0m\u001b[0;34m.\u001b[0m\u001b[0mreboot\u001b[0m\u001b[0;34m(\u001b[0m\u001b[0;34m)\u001b[0m\u001b[0;34m\u001b[0m\u001b[0m\n\u001b[0m",
      "\u001b[0;32m/anaconda3/lib/python3.7/site-packages/fibre/remote_object.py\u001b[0m in \u001b[0;36m__call__\u001b[0;34m(self, *args)\u001b[0m\n\u001b[1;32m    160\u001b[0m         \u001b[0;32mfor\u001b[0m \u001b[0mi\u001b[0m \u001b[0;32min\u001b[0m \u001b[0mrange\u001b[0m\u001b[0;34m(\u001b[0m\u001b[0mlen\u001b[0m\u001b[0;34m(\u001b[0m\u001b[0margs\u001b[0m\u001b[0;34m)\u001b[0m\u001b[0;34m)\u001b[0m\u001b[0;34m:\u001b[0m\u001b[0;34m\u001b[0m\u001b[0m\n\u001b[1;32m    161\u001b[0m             \u001b[0mself\u001b[0m\u001b[0;34m.\u001b[0m\u001b[0m_inputs\u001b[0m\u001b[0;34m[\u001b[0m\u001b[0mi\u001b[0m\u001b[0;34m]\u001b[0m\u001b[0;34m.\u001b[0m\u001b[0mset_value\u001b[0m\u001b[0;34m(\u001b[0m\u001b[0margs\u001b[0m\u001b[0;34m[\u001b[0m\u001b[0mi\u001b[0m\u001b[0;34m]\u001b[0m\u001b[0;34m)\u001b[0m\u001b[0;34m\u001b[0m\u001b[0m\n\u001b[0;32m--> 162\u001b[0;31m         \u001b[0mself\u001b[0m\u001b[0;34m.\u001b[0m\u001b[0m_parent\u001b[0m\u001b[0;34m.\u001b[0m\u001b[0m__channel__\u001b[0m\u001b[0;34m.\u001b[0m\u001b[0mremote_endpoint_operation\u001b[0m\u001b[0;34m(\u001b[0m\u001b[0mself\u001b[0m\u001b[0;34m.\u001b[0m\u001b[0m_trigger_id\u001b[0m\u001b[0;34m,\u001b[0m \u001b[0;32mNone\u001b[0m\u001b[0;34m,\u001b[0m \u001b[0;32mTrue\u001b[0m\u001b[0;34m,\u001b[0m \u001b[0;36m0\u001b[0m\u001b[0;34m)\u001b[0m\u001b[0;34m\u001b[0m\u001b[0m\n\u001b[0m\u001b[1;32m    163\u001b[0m         \u001b[0;32mif\u001b[0m \u001b[0mlen\u001b[0m\u001b[0;34m(\u001b[0m\u001b[0mself\u001b[0m\u001b[0;34m.\u001b[0m\u001b[0m_outputs\u001b[0m\u001b[0;34m)\u001b[0m \u001b[0;34m>\u001b[0m \u001b[0;36m0\u001b[0m\u001b[0;34m:\u001b[0m\u001b[0;34m\u001b[0m\u001b[0m\n\u001b[1;32m    164\u001b[0m             \u001b[0;32mreturn\u001b[0m \u001b[0mself\u001b[0m\u001b[0;34m.\u001b[0m\u001b[0m_outputs\u001b[0m\u001b[0;34m[\u001b[0m\u001b[0;36m0\u001b[0m\u001b[0;34m]\u001b[0m\u001b[0;34m.\u001b[0m\u001b[0mget_value\u001b[0m\u001b[0;34m(\u001b[0m\u001b[0;34m)\u001b[0m\u001b[0;34m\u001b[0m\u001b[0m\n",
      "\u001b[0;32m/anaconda3/lib/python3.7/site-packages/fibre/protocol.py\u001b[0m in \u001b[0;36mremote_endpoint_operation\u001b[0;34m(self, endpoint_id, input, expect_ack, output_length)\u001b[0m\n\u001b[1;32m    307\u001b[0m                     \u001b[0;32mtry\u001b[0m\u001b[0;34m:\u001b[0m\u001b[0;34m\u001b[0m\u001b[0m\n\u001b[1;32m    308\u001b[0m                         \u001b[0;32mif\u001b[0m \u001b[0mwait_any\u001b[0m\u001b[0;34m(\u001b[0m\u001b[0mself\u001b[0m\u001b[0;34m.\u001b[0m\u001b[0m_resend_timeout\u001b[0m\u001b[0;34m,\u001b[0m \u001b[0mack_event\u001b[0m\u001b[0;34m,\u001b[0m \u001b[0mself\u001b[0m\u001b[0;34m.\u001b[0m\u001b[0m_channel_broken\u001b[0m\u001b[0;34m)\u001b[0m \u001b[0;34m!=\u001b[0m \u001b[0;36m0\u001b[0m\u001b[0;34m:\u001b[0m\u001b[0;34m\u001b[0m\u001b[0m\n\u001b[0;32m--> 309\u001b[0;31m                             \u001b[0;32mraise\u001b[0m \u001b[0mChannelBrokenException\u001b[0m\u001b[0;34m(\u001b[0m\u001b[0;34m)\u001b[0m\u001b[0;34m\u001b[0m\u001b[0m\n\u001b[0m\u001b[1;32m    310\u001b[0m                     \u001b[0;32mexcept\u001b[0m \u001b[0mTimeoutError\u001b[0m\u001b[0;34m:\u001b[0m\u001b[0;34m\u001b[0m\u001b[0m\n\u001b[1;32m    311\u001b[0m                         \u001b[0mattempt\u001b[0m \u001b[0;34m+=\u001b[0m \u001b[0;36m1\u001b[0m\u001b[0;34m\u001b[0m\u001b[0m\n",
      "\u001b[0;31mChannelBrokenException\u001b[0m: "
     ]
    }
   ],
   "source": [
    "my_drive.reboot()"
   ]
  },
  {
   "cell_type": "code",
   "execution_count": 57,
   "metadata": {},
   "outputs": [],
   "source": [
    "# ---------------------------------Configuration Values----------------------------------------------"
   ]
  },
  {
   "cell_type": "code",
   "execution_count": 2,
   "metadata": {},
   "outputs": [
    {
     "data": {
      "text/plain": [
       "(control_mode = 3 (int)\n",
       " pos_gain = 5.0 (float)\n",
       " vel_gain = 0.0003000000142492354 (float)\n",
       " vel_integrator_gain = 0.0 (float)\n",
       " vel_limit = 20000.0 (float), pre_calibrated = True (bool)\n",
       " pole_pairs = 7 (int)\n",
       " calibration_current = 8.0 (float)\n",
       " resistance_calib_max_voltage = 2.0 (float)\n",
       " phase_inductance = 0.0 (float)\n",
       " phase_resistance = 0.0 (float)\n",
       " direction = -1 (int)\n",
       " motor_type = 2 (int)\n",
       " current_lim = 20.0 (float)\n",
       " requested_current_range = 60.0 (float), mode = 0 (int)\n",
       " use_index = True (bool)\n",
       " pre_calibrated = True (bool)\n",
       " idx_search_speed = 10.0 (float)\n",
       " cpr = 8192 (int)\n",
       " offset = 7136 (int)\n",
       " offset_float = 1.393671989440918 (float)\n",
       " calib_range = 0.019999999552965164 (float))"
      ]
     },
     "execution_count": 2,
     "metadata": {},
     "output_type": "execute_result"
    }
   ],
   "source": [
    "my_drive.axis0.controller.config, my_drive.axis0.motor.config, my_drive.axis0.encoder.config"
   ]
  },
  {
   "cell_type": "code",
   "execution_count": 142,
   "metadata": {},
   "outputs": [
    {
     "data": {
      "text/plain": [
       "(control_mode = 3 (int)\n",
       " pos_gain = 5.0 (float)\n",
       " vel_gain = 0.0003000000142492354 (float)\n",
       " vel_integrator_gain = 0.0 (float)\n",
       " vel_limit = 20000.0 (float), pre_calibrated = True (bool)\n",
       " pole_pairs = 7 (int)\n",
       " calibration_current = 8.0 (float)\n",
       " resistance_calib_max_voltage = 2.0 (float)\n",
       " phase_inductance = 0.0 (float)\n",
       " phase_resistance = 0.0 (float)\n",
       " direction = -1 (int)\n",
       " motor_type = 2 (int)\n",
       " current_lim = 20.0 (float)\n",
       " requested_current_range = 60.0 (float), mode = 0 (int)\n",
       " use_index = True (bool)\n",
       " pre_calibrated = True (bool)\n",
       " idx_search_speed = 10.0 (float)\n",
       " cpr = 8192 (int)\n",
       " offset = 10963 (int)\n",
       " offset_float = 0.6993386745452881 (float)\n",
       " calib_range = 0.019999999552965164 (float))"
      ]
     },
     "execution_count": 142,
     "metadata": {},
     "output_type": "execute_result"
    }
   ],
   "source": [
    "my_drive.axis1.controller.config, my_drive.axis1.motor.config, my_drive.axis1.encoder.config"
   ]
  },
  {
   "cell_type": "code",
   "execution_count": 180,
   "metadata": {},
   "outputs": [
    {
     "data": {
      "text/plain": [
       "24.231958389282227"
      ]
     },
     "execution_count": 180,
     "metadata": {},
     "output_type": "execute_result"
    }
   ],
   "source": [
    "my_drive.vbus_voltage"
   ]
  },
  {
   "cell_type": "code",
   "execution_count": null,
   "metadata": {},
   "outputs": [],
   "source": [
    "# ---------------------------------Motor Setup----------------------------------------------------------"
   ]
  },
  {
   "cell_type": "code",
   "execution_count": 288,
   "metadata": {},
   "outputs": [],
   "source": [
    "# Motor 0\n",
    "my_drive.axis0.motor.config.calibration_current = 8.0\n",
    "my_drive.axis0.motor.config.current_lim = 20.0\n",
    "my_drive.axis0.motor.config.motor_type = 2\n",
    "# Motor 1\n",
    "my_drive.axis1.motor.config.calibration_current = 8.0\n",
    "my_drive.axis1.motor.config.current_lim = 10\n",
    "my_drive.axis1.motor.config.motor_type = 2"
   ]
  },
  {
   "cell_type": "code",
   "execution_count": 81,
   "metadata": {},
   "outputs": [],
   "source": [
    "# ---------------------------------Calibration modes----------------------------------------------------"
   ]
  },
  {
   "cell_type": "code",
   "execution_count": 144,
   "metadata": {},
   "outputs": [],
   "source": [
    "my_drive.axis0.encoder.config.idx_search_speed = 3\n",
    "my_drive.axis1.encoder.config.idx_search_speed = 3"
   ]
  },
  {
   "cell_type": "code",
   "execution_count": 253,
   "metadata": {
    "scrolled": true
   },
   "outputs": [
    {
     "name": "stdout",
     "output_type": "stream",
     "text": [
      "starting calibration...\n"
     ]
    }
   ],
   "source": [
    "# Full calibration\n",
    "print(\"starting calibration...\")\n",
    "my_drive.axis0.requested_state = AXIS_STATE_FULL_CALIBRATION_SEQUENCE\n",
    "while my_drive.axis0.current_state != AXIS_STATE_IDLE:\n",
    "    time.sleep(0.1)"
   ]
  },
  {
   "cell_type": "code",
   "execution_count": 32,
   "metadata": {},
   "outputs": [],
   "source": [
    "my_drive.axis0.encoder.config.idx_search_speed = 3\n",
    "my_drive.axis1.encoder.config.idx_search_speed = 3\n",
    "\n",
    "my_drive.axis0.requested_state = AXIS_STATE_ENCODER_INDEX_SEARCH\n",
    "my_drive.axis1.requested_state = AXIS_STATE_ENCODER_INDEX_SEARCH"
   ]
  },
  {
   "cell_type": "code",
   "execution_count": 3,
   "metadata": {},
   "outputs": [],
   "source": [
    "my_drive.axis0.requested_state = AXIS_STATE_ENCODER_INDEX_SEARCH"
   ]
  },
  {
   "cell_type": "code",
   "execution_count": 4,
   "metadata": {},
   "outputs": [],
   "source": [
    "my_drive.axis1.requested_state = AXIS_STATE_ENCODER_INDEX_SEARCH"
   ]
  },
  {
   "cell_type": "code",
   "execution_count": 56,
   "metadata": {},
   "outputs": [
    {
     "name": "stdout",
     "output_type": "stream",
     "text": [
      "starting calibration...\n"
     ]
    }
   ],
   "source": [
    "# Full calibration\n",
    "print(\"starting calibration...\")\n",
    "my_drive.axis1.requested_state = AXIS_STATE_FULL_CALIBRATION_SEQUENCE\n",
    "while my_drive.axis1.current_state != AXIS_STATE_IDLE:\n",
    "    time.sleep(0.1)"
   ]
  },
  {
   "cell_type": "code",
   "execution_count": 101,
   "metadata": {},
   "outputs": [],
   "source": [
    "# ---------------------------------Closed Loop Control-------------------------------------------------"
   ]
  },
  {
   "cell_type": "code",
   "execution_count": 7,
   "metadata": {},
   "outputs": [],
   "source": [
    "def set_PID(pos_gain, vel_gain, vel_integrator_gain):\n",
    "    my_drive.axis0.controller.config.pos_gain = pos_gain\n",
    "    my_drive.axis0.controller.config.vel_gain = vel_gain\n",
    "    my_drive.axis0.controller.config.vel_integrator_gain = vel_integrator_gain\n",
    "    \n",
    "    my_drive.axis1.controller.config.pos_gain = pos_gain\n",
    "    my_drive.axis1.controller.config.vel_gain = vel_gain\n",
    "    my_drive.axis1.controller.config.vel_integrator_gain = vel_integrator_gain"
   ]
  },
  {
   "cell_type": "code",
   "execution_count": 8,
   "metadata": {},
   "outputs": [],
   "source": [
    "def set_axis0_angle(x):\n",
    "    if x > 90:\n",
    "        print(\"INVALID ANGLE, DEGREES CAN ONLY BE 0-90\")\n",
    "    elif x == 0:\n",
    "        my_drive.axis0.controller.pos_setpoint = -40 # limit at 102\n",
    "    else:\n",
    "        setpoint = x/90*-1900-40  \n",
    "        if setpoint > -40:\n",
    "            my_drive.axis0.controller.pos_setpoint = -40\n",
    "        else:\n",
    "            my_drive.axis0.controller.pos_setpoint = setpoint"
   ]
  },
  {
   "cell_type": "code",
   "execution_count": 9,
   "metadata": {},
   "outputs": [],
   "source": [
    "def set_axis1_angle(x):\n",
    "    if x > 90:\n",
    "        print(\"INVALID ANGLE, DEGREES CAN ONLY BE 0-90\")\n",
    "    elif x == 0:\n",
    "        my_drive.axis1.controller.pos_setpoint = 132\n",
    "    else:\n",
    "        setpoint = x/90*-1932+132\n",
    "        if setpoint > 132:\n",
    "            my_drive.axis1.controller.pos_setpoint = 132\n",
    "        else:\n",
    "            my_drive.axis1.controller.pos_setpoint = setpoint"
   ]
  },
  {
   "cell_type": "code",
   "execution_count": 242,
   "metadata": {},
   "outputs": [],
   "source": [
    "my_drive.axis0.requested_state = AXIS_STATE_CLOSED_LOOP_CONTROL"
   ]
  },
  {
   "cell_type": "code",
   "execution_count": 346,
   "metadata": {},
   "outputs": [],
   "source": [
    "my_drive.axis1.requested_state = AXIS_STATE_CLOSED_LOOP_CONTROL"
   ]
  },
  {
   "cell_type": "code",
   "execution_count": 250,
   "metadata": {},
   "outputs": [],
   "source": [
    "my_drive.axis0.requested_state = AXIS_STATE_IDLE"
   ]
  },
  {
   "cell_type": "code",
   "execution_count": 349,
   "metadata": {},
   "outputs": [],
   "source": [
    "my_drive.axis1.requested_state = AXIS_STATE_IDLE"
   ]
  },
  {
   "cell_type": "code",
   "execution_count": 307,
   "metadata": {},
   "outputs": [],
   "source": [
    "my_drive.axis0.controller.config.control_mode = 3\n",
    "my_drive.axis1.controller.config.control_mode = 3"
   ]
  },
  {
   "cell_type": "code",
   "execution_count": 117,
   "metadata": {},
   "outputs": [
    {
     "name": "stdout",
     "output_type": "stream",
     "text": [
      "Position setpoint is -40.0\n",
      "Angle setpoint is -0.0\n"
     ]
    }
   ],
   "source": [
    "# -40 makes axis0 at zero position, with pos_gain 60\n",
    "# -1940 makes axis0 at theta1 90 degrees, pos_gain 60\n",
    "my_drive.axis0.controller.pos_setpoint = -40\n",
    "print(\"Position setpoint is \" + str(my_drive.axis0.controller.pos_setpoint))\n",
    "print(\"Angle setpoint is \" + str((my_drive.axis0.controller.pos_setpoint+40)/-1900*90))"
   ]
  },
  {
   "cell_type": "code",
   "execution_count": 382,
   "metadata": {},
   "outputs": [
    {
     "name": "stdout",
     "output_type": "stream",
     "text": [
      "Position setpoint is 7187.0\n",
      "Angle setpoint is 983.34375\n"
     ]
    }
   ],
   "source": [
    "# 7130 makes axis1 at zero position, with gain 60\n",
    "# 5230 makes axis1 at theta2 at 90, with gain 60\n",
    "my_drive.axis1.controller.pos_setpoint = 7187\n",
    "print(\"Position setpoint is \" + str(my_drive.axis1.controller.pos_setpoint))\n",
    "print(\"Angle setpoint is \" + str((my_drive.axis1.controller.pos_setpoint-28165)/-1920*90))"
   ]
  },
  {
   "cell_type": "code",
   "execution_count": 381,
   "metadata": {},
   "outputs": [
    {
     "data": {
      "text/plain": [
       "7208.08642578125"
      ]
     },
     "execution_count": 381,
     "metadata": {},
     "output_type": "execute_result"
    }
   ],
   "source": [
    "my_drive.axis1.encoder.pos_estimate"
   ]
  },
  {
   "cell_type": "code",
   "execution_count": 330,
   "metadata": {},
   "outputs": [
    {
     "name": "stdout",
     "output_type": "stream",
     "text": [
      "\n",
      "hold:  -95.94629669189453 -50.21567153930664\n",
      "cpr0: 71.08673095703125 cpr1:17.091154098510742\t vel_setpoint0.0"
     ]
    },
    {
     "ename": "KeyboardInterrupt",
     "evalue": "",
     "output_type": "error",
     "traceback": [
      "\u001b[0;31m---------------------------------------------------------------------------\u001b[0m",
      "\u001b[0;31mKeyboardInterrupt\u001b[0m                         Traceback (most recent call last)",
      "\u001b[0;32m<ipython-input-330-b39ff77ebf6e>\u001b[0m in \u001b[0;36m<module>\u001b[0;34m()\u001b[0m\n\u001b[1;32m     10\u001b[0m     \u001b[0mpos1\u001b[0m \u001b[0;34m=\u001b[0m \u001b[0mmy_drive\u001b[0m\u001b[0;34m.\u001b[0m\u001b[0maxis1\u001b[0m\u001b[0;34m.\u001b[0m\u001b[0mencoder\u001b[0m\u001b[0;34m.\u001b[0m\u001b[0mpos_estimate\u001b[0m\u001b[0;34m\u001b[0m\u001b[0m\n\u001b[1;32m     11\u001b[0m     \u001b[0msys\u001b[0m\u001b[0;34m.\u001b[0m\u001b[0mstdout\u001b[0m\u001b[0;34m.\u001b[0m\u001b[0mwrite\u001b[0m\u001b[0;34m(\u001b[0m\u001b[0;34m\"\\r\\rcpr0: \"\u001b[0m \u001b[0;34m+\u001b[0m \u001b[0mstr\u001b[0m\u001b[0;34m(\u001b[0m\u001b[0mpos0\u001b[0m\u001b[0;34m)\u001b[0m \u001b[0;34m+\u001b[0m \u001b[0;34m\" cpr1:\"\u001b[0m \u001b[0;34m+\u001b[0m \u001b[0mstr\u001b[0m\u001b[0;34m(\u001b[0m\u001b[0mpos1\u001b[0m\u001b[0;34m)\u001b[0m \u001b[0;34m+\u001b[0m \u001b[0;34m\"\\t vel_setpoint\"\u001b[0m \u001b[0;34m+\u001b[0m \u001b[0mstr\u001b[0m\u001b[0;34m(\u001b[0m\u001b[0mmy_drive\u001b[0m\u001b[0;34m.\u001b[0m\u001b[0maxis0\u001b[0m\u001b[0;34m.\u001b[0m\u001b[0mcontroller\u001b[0m\u001b[0;34m.\u001b[0m\u001b[0mvel_setpoint\u001b[0m\u001b[0;34m)\u001b[0m\u001b[0;34m)\u001b[0m\u001b[0;34m\u001b[0m\u001b[0m\n\u001b[0;32m---> 12\u001b[0;31m     \u001b[0mtime\u001b[0m\u001b[0;34m.\u001b[0m\u001b[0msleep\u001b[0m\u001b[0;34m(\u001b[0m\u001b[0;36m0.1\u001b[0m\u001b[0;34m)\u001b[0m\u001b[0;34m\u001b[0m\u001b[0m\n\u001b[0m\u001b[1;32m     13\u001b[0m \u001b[0;34m\u001b[0m\u001b[0m\n\u001b[1;32m     14\u001b[0m \u001b[0;34m\u001b[0m\u001b[0m\n",
      "\u001b[0;31mKeyboardInterrupt\u001b[0m: "
     ]
    }
   ],
   "source": [
    "print()\n",
    "print(\"hold: \", hold0, hold1)\n",
    "\n",
    "my_drive.axis0.controller.pos_setpoint = hold0\n",
    "# my_drive.axis1.controller.pos_setpoint = hold1\n",
    "\n",
    "\n",
    "while(1):\n",
    "    pos0 = my_drive.axis0.encoder.pos_estimate\n",
    "    pos1 = my_drive.axis1.encoder.pos_estimate\n",
    "    sys.stdout.write(\"\\r\\rcpr0: \" + str(pos0) + \" cpr1:\" + str(pos1) + \"\\t vel_setpoint\" + str(my_drive.axis0.controller.vel_setpoint)) \n",
    "    time.sleep(0.1)\n",
    "    \n",
    "    \n",
    "my_drive.axis0.requested_state = AXIS_STATE_IDLE\n",
    "my_drive.axis1.requested_state = AXIS_STATE_IDLE"
   ]
  },
  {
   "cell_type": "code",
   "execution_count": 281,
   "metadata": {},
   "outputs": [],
   "source": [
    "set_PID(10, 0.0006, 0.0)"
   ]
  },
  {
   "cell_type": "code",
   "execution_count": 125,
   "metadata": {},
   "outputs": [],
   "source": [
    "set_axis0_angle(30)"
   ]
  },
  {
   "cell_type": "code",
   "execution_count": 230,
   "metadata": {},
   "outputs": [
    {
     "name": "stdout",
     "output_type": "stream",
     "text": [
      "INVALID ANGLE\n"
     ]
    }
   ],
   "source": [
    "set_axis1_angle(91)"
   ]
  },
  {
   "cell_type": "code",
   "execution_count": null,
   "metadata": {},
   "outputs": [],
   "source": [
    "# ---------------------------------Motion Experiments----------------------------------------------------"
   ]
  },
  {
   "cell_type": "code",
   "execution_count": 5,
   "metadata": {},
   "outputs": [],
   "source": [
    "def check_in_array(pos0, pos1, array):\n",
    "    flag = 0\n",
    "    for i in range(len(array)):\n",
    "        if array[i] == [pos0, pos1]:\n",
    "            flag = 1\n",
    "        \n",
    "    if flag == 1:\n",
    "        return True\n",
    "    else:\n",
    "        return False"
   ]
  },
  {
   "cell_type": "code",
   "execution_count": 6,
   "metadata": {},
   "outputs": [],
   "source": [
    "def find_closest(pos0, pos1, array):\n",
    "    point = [10000, 10000] # set initial to very large distance first\n",
    "    for i in range(len(array)):\n",
    "        \n",
    "        #NEED TO TAKE ACCOUNT THE UNSIGNED VALUES OF SETPOINT\n",
    "        \n",
    "        if ((pos0 - array[i][0])**2 +(pos1 - array[i][1] )**2)**(1/2) < ((pos0 - point[0])**2 +(pos1 - point[1])**2)**(1/2):\n",
    "            point = [array[i][0],array[i][1]]\n",
    "            \n",
    "    return point\n"
   ]
  },
  {
   "cell_type": "code",
   "execution_count": 23,
   "metadata": {},
   "outputs": [],
   "source": [
    "my_drive.axis0.requested_state = AXIS_STATE_IDLE\n",
    "my_drive.axis1.requested_state = AXIS_STATE_IDLE"
   ]
  },
  {
   "cell_type": "code",
   "execution_count": 22,
   "metadata": {},
   "outputs": [
    {
     "ename": "KeyboardInterrupt",
     "evalue": "",
     "output_type": "error",
     "traceback": [
      "\u001b[0;31m---------------------------------------------------------------------------\u001b[0m",
      "\u001b[0;31mKeyboardInterrupt\u001b[0m                         Traceback (most recent call last)",
      "\u001b[0;32m<ipython-input-22-3a1ff5bd4d2c>\u001b[0m in \u001b[0;36m<module>\u001b[0;34m()\u001b[0m\n\u001b[1;32m      8\u001b[0m \u001b[0;32mwhile\u001b[0m \u001b[0;32mTrue\u001b[0m\u001b[0;34m:\u001b[0m\u001b[0;34m\u001b[0m\u001b[0m\n\u001b[1;32m      9\u001b[0m \u001b[0;34m\u001b[0m\u001b[0m\n\u001b[0;32m---> 10\u001b[0;31m     \u001b[0mpos0\u001b[0m \u001b[0;34m=\u001b[0m \u001b[0mmy_drive\u001b[0m\u001b[0;34m.\u001b[0m\u001b[0maxis0\u001b[0m\u001b[0;34m.\u001b[0m\u001b[0mencoder\u001b[0m\u001b[0;34m.\u001b[0m\u001b[0mpos_estimate\u001b[0m\u001b[0;34m\u001b[0m\u001b[0m\n\u001b[0m\u001b[1;32m     11\u001b[0m     \u001b[0mpos1\u001b[0m \u001b[0;34m=\u001b[0m \u001b[0mmy_drive\u001b[0m\u001b[0;34m.\u001b[0m\u001b[0maxis1\u001b[0m\u001b[0;34m.\u001b[0m\u001b[0mencoder\u001b[0m\u001b[0;34m.\u001b[0m\u001b[0mpos_estimate\u001b[0m\u001b[0;34m\u001b[0m\u001b[0m\n\u001b[1;32m     12\u001b[0m \u001b[0;34m\u001b[0m\u001b[0m\n",
      "\u001b[0;32m/anaconda3/lib/python3.7/site-packages/fibre/remote_object.py\u001b[0m in \u001b[0;36m__getattribute__\u001b[0;34m(self, name)\u001b[0m\n\u001b[1;32m    237\u001b[0m         \u001b[0;32mif\u001b[0m \u001b[0misinstance\u001b[0m\u001b[0;34m(\u001b[0m\u001b[0mattr\u001b[0m\u001b[0;34m,\u001b[0m \u001b[0mRemoteProperty\u001b[0m\u001b[0;34m)\u001b[0m\u001b[0;34m:\u001b[0m\u001b[0;34m\u001b[0m\u001b[0m\n\u001b[1;32m    238\u001b[0m             \u001b[0;32mif\u001b[0m \u001b[0mattr\u001b[0m\u001b[0;34m.\u001b[0m\u001b[0m_can_read\u001b[0m\u001b[0;34m:\u001b[0m\u001b[0;34m\u001b[0m\u001b[0m\n\u001b[0;32m--> 239\u001b[0;31m                 \u001b[0;32mreturn\u001b[0m \u001b[0mattr\u001b[0m\u001b[0;34m.\u001b[0m\u001b[0mget_value\u001b[0m\u001b[0;34m(\u001b[0m\u001b[0;34m)\u001b[0m\u001b[0;34m\u001b[0m\u001b[0m\n\u001b[0m\u001b[1;32m    240\u001b[0m             \u001b[0;32melse\u001b[0m\u001b[0;34m:\u001b[0m\u001b[0;34m\u001b[0m\u001b[0m\n\u001b[1;32m    241\u001b[0m                 \u001b[0;32mraise\u001b[0m \u001b[0mException\u001b[0m\u001b[0;34m(\u001b[0m\u001b[0;34m\"Cannot read from property {}\"\u001b[0m\u001b[0;34m.\u001b[0m\u001b[0mformat\u001b[0m\u001b[0;34m(\u001b[0m\u001b[0mname\u001b[0m\u001b[0;34m)\u001b[0m\u001b[0;34m)\u001b[0m\u001b[0;34m\u001b[0m\u001b[0m\n",
      "\u001b[0;32m/anaconda3/lib/python3.7/site-packages/fibre/remote_object.py\u001b[0m in \u001b[0;36mget_value\u001b[0;34m(self)\u001b[0m\n\u001b[1;32m     70\u001b[0m \u001b[0;34m\u001b[0m\u001b[0m\n\u001b[1;32m     71\u001b[0m     \u001b[0;32mdef\u001b[0m \u001b[0mget_value\u001b[0m\u001b[0;34m(\u001b[0m\u001b[0mself\u001b[0m\u001b[0;34m)\u001b[0m\u001b[0;34m:\u001b[0m\u001b[0;34m\u001b[0m\u001b[0m\n\u001b[0;32m---> 72\u001b[0;31m         \u001b[0mbuffer\u001b[0m \u001b[0;34m=\u001b[0m \u001b[0mself\u001b[0m\u001b[0;34m.\u001b[0m\u001b[0m_parent\u001b[0m\u001b[0;34m.\u001b[0m\u001b[0m__channel__\u001b[0m\u001b[0;34m.\u001b[0m\u001b[0mremote_endpoint_operation\u001b[0m\u001b[0;34m(\u001b[0m\u001b[0mself\u001b[0m\u001b[0;34m.\u001b[0m\u001b[0m_id\u001b[0m\u001b[0;34m,\u001b[0m \u001b[0;32mNone\u001b[0m\u001b[0;34m,\u001b[0m \u001b[0;32mTrue\u001b[0m\u001b[0;34m,\u001b[0m \u001b[0mself\u001b[0m\u001b[0;34m.\u001b[0m\u001b[0m_codec\u001b[0m\u001b[0;34m.\u001b[0m\u001b[0mget_length\u001b[0m\u001b[0;34m(\u001b[0m\u001b[0;34m)\u001b[0m\u001b[0;34m)\u001b[0m\u001b[0;34m\u001b[0m\u001b[0m\n\u001b[0m\u001b[1;32m     73\u001b[0m         \u001b[0;32mreturn\u001b[0m \u001b[0mself\u001b[0m\u001b[0;34m.\u001b[0m\u001b[0m_codec\u001b[0m\u001b[0;34m.\u001b[0m\u001b[0mdeserialize\u001b[0m\u001b[0;34m(\u001b[0m\u001b[0mbuffer\u001b[0m\u001b[0;34m)\u001b[0m\u001b[0;34m\u001b[0m\u001b[0m\n\u001b[1;32m     74\u001b[0m \u001b[0;34m\u001b[0m\u001b[0m\n",
      "\u001b[0;32m/anaconda3/lib/python3.7/site-packages/fibre/protocol.py\u001b[0m in \u001b[0;36mremote_endpoint_operation\u001b[0;34m(self, endpoint_id, input, expect_ack, output_length)\u001b[0m\n\u001b[1;32m    306\u001b[0m                     \u001b[0;31m# Wait for ACK until the resend timeout is exceeded\u001b[0m\u001b[0;34m\u001b[0m\u001b[0;34m\u001b[0m\u001b[0m\n\u001b[1;32m    307\u001b[0m                     \u001b[0;32mtry\u001b[0m\u001b[0;34m:\u001b[0m\u001b[0;34m\u001b[0m\u001b[0m\n\u001b[0;32m--> 308\u001b[0;31m                         \u001b[0;32mif\u001b[0m \u001b[0mwait_any\u001b[0m\u001b[0;34m(\u001b[0m\u001b[0mself\u001b[0m\u001b[0;34m.\u001b[0m\u001b[0m_resend_timeout\u001b[0m\u001b[0;34m,\u001b[0m \u001b[0mack_event\u001b[0m\u001b[0;34m,\u001b[0m \u001b[0mself\u001b[0m\u001b[0;34m.\u001b[0m\u001b[0m_channel_broken\u001b[0m\u001b[0;34m)\u001b[0m \u001b[0;34m!=\u001b[0m \u001b[0;36m0\u001b[0m\u001b[0;34m:\u001b[0m\u001b[0;34m\u001b[0m\u001b[0m\n\u001b[0m\u001b[1;32m    309\u001b[0m                             \u001b[0;32mraise\u001b[0m \u001b[0mChannelBrokenException\u001b[0m\u001b[0;34m(\u001b[0m\u001b[0;34m)\u001b[0m\u001b[0;34m\u001b[0m\u001b[0m\n\u001b[1;32m    310\u001b[0m                     \u001b[0;32mexcept\u001b[0m \u001b[0mTimeoutError\u001b[0m\u001b[0;34m:\u001b[0m\u001b[0;34m\u001b[0m\u001b[0m\n",
      "\u001b[0;32m/anaconda3/lib/python3.7/site-packages/fibre/utils.py\u001b[0m in \u001b[0;36mwait_any\u001b[0;34m(timeout, *events)\u001b[0m\n\u001b[1;32m    115\u001b[0m     \u001b[0;32mfor\u001b[0m \u001b[0mevent\u001b[0m \u001b[0;32min\u001b[0m \u001b[0mevents\u001b[0m\u001b[0;34m:\u001b[0m\u001b[0;34m\u001b[0m\u001b[0m\n\u001b[1;32m    116\u001b[0m         \u001b[0msubscriptions\u001b[0m\u001b[0;34m.\u001b[0m\u001b[0mappend\u001b[0m\u001b[0;34m(\u001b[0m\u001b[0;34m(\u001b[0m\u001b[0mevent\u001b[0m\u001b[0;34m,\u001b[0m \u001b[0mevent\u001b[0m\u001b[0;34m.\u001b[0m\u001b[0msubscribe\u001b[0m\u001b[0;34m(\u001b[0m\u001b[0;32mlambda\u001b[0m\u001b[0;34m:\u001b[0m \u001b[0mor_event\u001b[0m\u001b[0;34m.\u001b[0m\u001b[0mset\u001b[0m\u001b[0;34m(\u001b[0m\u001b[0;34m)\u001b[0m\u001b[0;34m)\u001b[0m\u001b[0;34m)\u001b[0m\u001b[0;34m)\u001b[0m\u001b[0;34m\u001b[0m\u001b[0m\n\u001b[0;32m--> 117\u001b[0;31m     \u001b[0mor_event\u001b[0m\u001b[0;34m.\u001b[0m\u001b[0mwait\u001b[0m\u001b[0;34m(\u001b[0m\u001b[0mtimeout\u001b[0m\u001b[0;34m=\u001b[0m\u001b[0mtimeout\u001b[0m\u001b[0;34m)\u001b[0m\u001b[0;34m\u001b[0m\u001b[0m\n\u001b[0m\u001b[1;32m    118\u001b[0m     \u001b[0;32mfor\u001b[0m \u001b[0mevent\u001b[0m\u001b[0;34m,\u001b[0m \u001b[0msub\u001b[0m \u001b[0;32min\u001b[0m \u001b[0msubscriptions\u001b[0m\u001b[0;34m:\u001b[0m\u001b[0;34m\u001b[0m\u001b[0m\n\u001b[1;32m    119\u001b[0m         \u001b[0mevent\u001b[0m\u001b[0;34m.\u001b[0m\u001b[0munsubscribe\u001b[0m\u001b[0;34m(\u001b[0m\u001b[0msub\u001b[0m\u001b[0;34m)\u001b[0m\u001b[0;34m\u001b[0m\u001b[0m\n",
      "\u001b[0;32m/anaconda3/lib/python3.7/threading.py\u001b[0m in \u001b[0;36mwait\u001b[0;34m(self, timeout)\u001b[0m\n\u001b[1;32m    550\u001b[0m             \u001b[0msignaled\u001b[0m \u001b[0;34m=\u001b[0m \u001b[0mself\u001b[0m\u001b[0;34m.\u001b[0m\u001b[0m_flag\u001b[0m\u001b[0;34m\u001b[0m\u001b[0m\n\u001b[1;32m    551\u001b[0m             \u001b[0;32mif\u001b[0m \u001b[0;32mnot\u001b[0m \u001b[0msignaled\u001b[0m\u001b[0;34m:\u001b[0m\u001b[0;34m\u001b[0m\u001b[0m\n\u001b[0;32m--> 552\u001b[0;31m                 \u001b[0msignaled\u001b[0m \u001b[0;34m=\u001b[0m \u001b[0mself\u001b[0m\u001b[0;34m.\u001b[0m\u001b[0m_cond\u001b[0m\u001b[0;34m.\u001b[0m\u001b[0mwait\u001b[0m\u001b[0;34m(\u001b[0m\u001b[0mtimeout\u001b[0m\u001b[0;34m)\u001b[0m\u001b[0;34m\u001b[0m\u001b[0m\n\u001b[0m\u001b[1;32m    553\u001b[0m             \u001b[0;32mreturn\u001b[0m \u001b[0msignaled\u001b[0m\u001b[0;34m\u001b[0m\u001b[0m\n\u001b[1;32m    554\u001b[0m \u001b[0;34m\u001b[0m\u001b[0m\n",
      "\u001b[0;32m/anaconda3/lib/python3.7/threading.py\u001b[0m in \u001b[0;36mwait\u001b[0;34m(self, timeout)\u001b[0m\n\u001b[1;32m    298\u001b[0m             \u001b[0;32melse\u001b[0m\u001b[0;34m:\u001b[0m\u001b[0;34m\u001b[0m\u001b[0m\n\u001b[1;32m    299\u001b[0m                 \u001b[0;32mif\u001b[0m \u001b[0mtimeout\u001b[0m \u001b[0;34m>\u001b[0m \u001b[0;36m0\u001b[0m\u001b[0;34m:\u001b[0m\u001b[0;34m\u001b[0m\u001b[0m\n\u001b[0;32m--> 300\u001b[0;31m                     \u001b[0mgotit\u001b[0m \u001b[0;34m=\u001b[0m \u001b[0mwaiter\u001b[0m\u001b[0;34m.\u001b[0m\u001b[0macquire\u001b[0m\u001b[0;34m(\u001b[0m\u001b[0;32mTrue\u001b[0m\u001b[0;34m,\u001b[0m \u001b[0mtimeout\u001b[0m\u001b[0;34m)\u001b[0m\u001b[0;34m\u001b[0m\u001b[0m\n\u001b[0m\u001b[1;32m    301\u001b[0m                 \u001b[0;32melse\u001b[0m\u001b[0;34m:\u001b[0m\u001b[0;34m\u001b[0m\u001b[0m\n\u001b[1;32m    302\u001b[0m                     \u001b[0mgotit\u001b[0m \u001b[0;34m=\u001b[0m \u001b[0mwaiter\u001b[0m\u001b[0;34m.\u001b[0m\u001b[0macquire\u001b[0m\u001b[0;34m(\u001b[0m\u001b[0;32mFalse\u001b[0m\u001b[0;34m)\u001b[0m\u001b[0;34m\u001b[0m\u001b[0m\n",
      "\u001b[0;31mKeyboardInterrupt\u001b[0m: "
     ]
    }
   ],
   "source": [
    "'''REGION'''\n",
    "\n",
    "set_PID(100, 4.5e-4, 0)# 650 2e-4 3e-4\n",
    "\n",
    "my_drive.axis0.requested_state = AXIS_STATE_CLOSED_LOOP_CONTROL\n",
    "my_drive.axis1.requested_state = AXIS_STATE_CLOSED_LOOP_CONTROL\n",
    "\n",
    "while True:\n",
    "    \n",
    "    pos0 = my_drive.axis0.encoder.pos_estimate\n",
    "    pos1 = my_drive.axis1.encoder.pos_estimate\n",
    "    \n",
    "    if check_in_array(pos0, pos1, trajectory_pos) == False: # current position not in saved array\n",
    "        \n",
    "        # find closest point in array from current location\n",
    "        set0, set1 = find_closest(pos0, pos1, trajectory_pos)\n",
    "        \n",
    "        my_drive.axis0.controller.pos_setpoint = set0\n",
    "        my_drive.axis1.controller.pos_setpoint = set1\n",
    "\n",
    "\n",
    "    "
   ]
  },
  {
   "cell_type": "code",
   "execution_count": 71,
   "metadata": {},
   "outputs": [
    {
     "data": {
      "text/plain": [
       "100040"
      ]
     },
     "execution_count": 71,
     "metadata": {},
     "output_type": "execute_result"
    }
   ],
   "source": [
    "    point = [10000, 100040]\n",
    "    point[1]"
   ]
  },
  {
   "cell_type": "code",
   "execution_count": 232,
   "metadata": {},
   "outputs": [
    {
     "ename": "KeyboardInterrupt",
     "evalue": "",
     "output_type": "error",
     "traceback": [
      "\u001b[0;31m---------------------------------------------------------------------------\u001b[0m",
      "\u001b[0;31mKeyboardInterrupt\u001b[0m                         Traceback (most recent call last)",
      "\u001b[0;32m<ipython-input-232-14c7965f0eb2>\u001b[0m in \u001b[0;36m<module>\u001b[0;34m()\u001b[0m\n\u001b[1;32m     33\u001b[0m \u001b[0;34m\u001b[0m\u001b[0m\n\u001b[1;32m     34\u001b[0m     \u001b[0mtrajectory\u001b[0m\u001b[0;34m.\u001b[0m\u001b[0mappend\u001b[0m\u001b[0;34m(\u001b[0m\u001b[0;34m[\u001b[0m\u001b[0mpos0\u001b[0m\u001b[0;34m,\u001b[0m \u001b[0mpos1\u001b[0m\u001b[0;34m]\u001b[0m\u001b[0;34m)\u001b[0m\u001b[0;34m\u001b[0m\u001b[0m\n\u001b[0;32m---> 35\u001b[0;31m     \u001b[0mtime\u001b[0m\u001b[0;34m.\u001b[0m\u001b[0msleep\u001b[0m\u001b[0;34m(\u001b[0m\u001b[0mdt\u001b[0m\u001b[0;34m)\u001b[0m\u001b[0;34m\u001b[0m\u001b[0m\n\u001b[0m\u001b[1;32m     36\u001b[0m \u001b[0;34m\u001b[0m\u001b[0m\n\u001b[1;32m     37\u001b[0m \u001b[0mplt\u001b[0m\u001b[0;34m.\u001b[0m\u001b[0mplot\u001b[0m\u001b[0;34m(\u001b[0m\u001b[0mtrajectory\u001b[0m\u001b[0;34m)\u001b[0m\u001b[0;34m\u001b[0m\u001b[0m\n",
      "\u001b[0;31mKeyboardInterrupt\u001b[0m: "
     ]
    }
   ],
   "source": []
  },
  {
   "cell_type": "code",
   "execution_count": 24,
   "metadata": {},
   "outputs": [
    {
     "data": {
      "text/plain": [
       "[<matplotlib.lines.Line2D at 0x11b2e4a58>,\n",
       " <matplotlib.lines.Line2D at 0x11b2e4be0>]"
      ]
     },
     "execution_count": 24,
     "metadata": {},
     "output_type": "execute_result"
    },
    {
     "data": {
      "image/png": "[encoded data removed]",
      "text/plain": [
       "<Figure size 432x288 with 1 Axes>"
      ]
     },
     "metadata": {
      "needs_background": "light"
     },
     "output_type": "display_data"
    }
   ],
   "source": [
    "'''RECORD'''\n",
    "\n",
    "trajectory_pos = []\n",
    "duration = 2 # seconds\n",
    "dt = 0.01 # seconds\n",
    "num = int(duration/dt)\n",
    "\n",
    "for _ in range(num):\n",
    "    pos0 = my_drive.axis0.encoder.pos_estimate\n",
    "    pos1 = my_drive.axis1.encoder.pos_estimate\n",
    "    trajectory_pos.append([pos0, pos1])\n",
    "    \n",
    "    #vel0 = my_drive.axis0.encoder.vel_estimate\n",
    "    #vel1 = my_drive.axis1.encoder.vel_estimate\n",
    "    #trajectory_vel.append([vel0, vel1])\n",
    "    \n",
    "    time.sleep(dt)\n",
    "    \n",
    "plt.plot(trajectory_pos)"
   ]
  },
  {
   "cell_type": "code",
   "execution_count": 66,
   "metadata": {},
   "outputs": [
    {
     "data": {
      "text/plain": [
       "4"
      ]
     },
     "execution_count": 66,
     "metadata": {},
     "output_type": "execute_result"
    }
   ],
   "source": [
    "test = []\n",
    "test.append([1, 2])\n",
    "test.append([4, 5])\n",
    "test.append([7,8])\n",
    "test[1][0]"
   ]
  },
  {
   "cell_type": "code",
   "execution_count": 36,
   "metadata": {},
   "outputs": [
    {
     "data": {
      "image/png": "[encoded data removed]",
      "text/plain": [
       "<Figure size 1440x720 with 1 Axes>"
      ]
     },
     "metadata": {
      "needs_background": "light"
     },
     "output_type": "display_data"
    }
   ],
   "source": [
    "plt.figure(1, figsize=(20,10))\n",
    "plt.plot([1,2,3,4], [1,4,9,16], 'y-', label = 'test')\n",
    "plt.legend(loc='upper left')\n",
    "plt.title('title', fontsize=18)\n",
    "plt.axis([0, 6, 0, 20])\n",
    "plt.xlabel('Encoder position / counts', fontsize=16)\n",
    "plt.ylabel('Time / s', fontsize=16)\n",
    "plt.show()"
   ]
  },
  {
   "cell_type": "code",
   "execution_count": 28,
   "metadata": {},
   "outputs": [
    {
     "data": {
      "image/png": "[encoded data removed]",
      "text/plain": [
       "<Figure size 1440x720 with 1 Axes>"
      ]
     },
     "metadata": {
      "needs_background": "light"
     },
     "output_type": "display_data"
    }
   ],
   "source": [
    "'''EXECUTE'''\n",
    "set_PID(250, 4.5e-4, 2.5e-4)# 650 2e-4 3e-4 or 2.5e-4\n",
    "\n",
    "trajectory_pos_est = []\n",
    "my_drive.axis0.requested_state = AXIS_STATE_CLOSED_LOOP_CONTROL\n",
    "my_drive.axis1.requested_state = AXIS_STATE_CLOSED_LOOP_CONTROL\n",
    "\n",
    "for point in trajectory_pos:\n",
    "    \n",
    "    set0, set1 = point\n",
    "    my_drive.axis0.controller.pos_setpoint = set0\n",
    "    my_drive.axis1.controller.pos_setpoint = set1\n",
    "    \n",
    "    pos0 = my_drive.axis0.encoder.pos_estimate\n",
    "    pos1 = my_drive.axis1.encoder.pos_estimate\n",
    "    trajectory_pos_est.append([pos0, pos1])\n",
    "    \n",
    "    #vel0 = my_drive.axis0.encoder.vel_estimate\n",
    "    #vel1 = my_drive.axis1.encoder.vel_estimate\n",
    "    #trajectory_vel_est.append([vel0, vel1])\n",
    "    \n",
    "    #cur0 = my_drive.axis0.motor.current_control.Iq_measured\n",
    "    #cur1 = my_drive.axis1.motor.current_control.Iq_measured\n",
    "    #trajectory_cur_est.append([cur0, cur1])\n",
    "    \n",
    "    time.sleep(dt)\n",
    "    \n",
    "plt.figure(1, figsize=(20,10))\n",
    "plt.plot(trajectory_pos, '--', label = 'User Position')\n",
    "plt.plot(trajectory_pos_est, '-', label = 'Follower Position ')\n",
    "plt.legend(loc='upper right')\n",
    "plt.title('Position Plot', fontsize=18)\n",
    "plt.xlabel('Encoder position / counts', fontsize=16)\n",
    "plt.ylabel('Time / s', fontsize=16)\n",
    "\n",
    "#plt.figure(2, figsize=(20,10))\n",
    "#plt.plot(trajectory_vel, '--', label = 'User Velocity')\n",
    "#plt.plot(trajectory_vel_est, '-', label = 'Follower Velocity')\n",
    "#plt.legend(loc='upper right')\n",
    "#plt.title('Velocity Plot', fontsize=18)\n",
    "#plt.xlabel('Velocity / counts/s', fontsize=16)\n",
    "#plt.ylabel('Time / s', fontsize=16)\n",
    "\n",
    "#plt.figure(3, figsize=(20,10))\n",
    "#plt.plot(trajectory_cur_est, '-', label = 'Follower Current')\n",
    "#plt.legend(loc='upper right')\n",
    "#plt.title('Current Plot', fontsize=18)\n",
    "#plt.xlabel('Current / A', fontsize=16)\n",
    "#plt.ylabel('Time / s', fontsize=16)\n",
    "\n",
    "my_drive.axis0.requested_state = AXIS_STATE_IDLE\n",
    "my_drive.axis1.requested_state = AXIS_STATE_IDLE"
   ]
  },
  {
   "cell_type": "code",
   "execution_count": 25,
   "metadata": {},
   "outputs": [
    {
     "ename": "AttributeError",
     "evalue": "'RemoteObject' object has no attribute 'vel_estimate'",
     "output_type": "error",
     "traceback": [
      "\u001b[0;31m---------------------------------------------------------------------------\u001b[0m",
      "\u001b[0;31mAttributeError\u001b[0m                            Traceback (most recent call last)",
      "\u001b[0;32m<ipython-input-25-406bbfc4bdbc>\u001b[0m in \u001b[0;36m<module>\u001b[0;34m()\u001b[0m\n\u001b[1;32m     16\u001b[0m     \u001b[0mtrajectory_pos_est\u001b[0m\u001b[0;34m.\u001b[0m\u001b[0mappend\u001b[0m\u001b[0;34m(\u001b[0m\u001b[0;34m[\u001b[0m\u001b[0mpos0\u001b[0m\u001b[0;34m,\u001b[0m \u001b[0mpos1\u001b[0m\u001b[0;34m]\u001b[0m\u001b[0;34m)\u001b[0m\u001b[0;34m\u001b[0m\u001b[0m\n\u001b[1;32m     17\u001b[0m \u001b[0;34m\u001b[0m\u001b[0m\n\u001b[0;32m---> 18\u001b[0;31m     \u001b[0mvel0\u001b[0m \u001b[0;34m=\u001b[0m \u001b[0mmy_drive\u001b[0m\u001b[0;34m.\u001b[0m\u001b[0maxis0\u001b[0m\u001b[0;34m.\u001b[0m\u001b[0mencoder\u001b[0m\u001b[0;34m.\u001b[0m\u001b[0mvel_estimate\u001b[0m\u001b[0;34m\u001b[0m\u001b[0m\n\u001b[0m\u001b[1;32m     19\u001b[0m     \u001b[0mvel1\u001b[0m \u001b[0;34m=\u001b[0m \u001b[0mmy_drive\u001b[0m\u001b[0;34m.\u001b[0m\u001b[0maxis1\u001b[0m\u001b[0;34m.\u001b[0m\u001b[0mencoder\u001b[0m\u001b[0;34m.\u001b[0m\u001b[0mvel_estimate\u001b[0m\u001b[0;34m\u001b[0m\u001b[0m\n\u001b[1;32m     20\u001b[0m     \u001b[0mtrajectory_vel_est\u001b[0m\u001b[0;34m.\u001b[0m\u001b[0mappend\u001b[0m\u001b[0;34m(\u001b[0m\u001b[0;34m[\u001b[0m\u001b[0mvel0\u001b[0m\u001b[0;34m,\u001b[0m \u001b[0mvel1\u001b[0m\u001b[0;34m]\u001b[0m\u001b[0;34m)\u001b[0m\u001b[0;34m\u001b[0m\u001b[0m\n",
      "\u001b[0;32m/anaconda3/lib/python3.7/site-packages/fibre/remote_object.py\u001b[0m in \u001b[0;36m__getattribute__\u001b[0;34m(self, name)\u001b[0m\n\u001b[1;32m    243\u001b[0m             \u001b[0;32mreturn\u001b[0m \u001b[0mattr\u001b[0m\u001b[0;34m\u001b[0m\u001b[0m\n\u001b[1;32m    244\u001b[0m         \u001b[0;32melse\u001b[0m\u001b[0;34m:\u001b[0m\u001b[0;34m\u001b[0m\u001b[0m\n\u001b[0;32m--> 245\u001b[0;31m             \u001b[0;32mreturn\u001b[0m \u001b[0mobject\u001b[0m\u001b[0;34m.\u001b[0m\u001b[0m__getattribute__\u001b[0m\u001b[0;34m(\u001b[0m\u001b[0mself\u001b[0m\u001b[0;34m,\u001b[0m \u001b[0mname\u001b[0m\u001b[0;34m)\u001b[0m\u001b[0;34m\u001b[0m\u001b[0m\n\u001b[0m\u001b[1;32m    246\u001b[0m             \u001b[0;31m#raise AttributeError(\"Attribute {} not found\".format(name))\u001b[0m\u001b[0;34m\u001b[0m\u001b[0;34m\u001b[0m\u001b[0m\n\u001b[1;32m    247\u001b[0m \u001b[0;34m\u001b[0m\u001b[0m\n",
      "\u001b[0;31mAttributeError\u001b[0m: 'RemoteObject' object has no attribute 'vel_estimate'"
     ]
    }
   ],
   "source": [
    "'''EXECUTE'''\n",
    "set_PID(600, 2e-4, 2.5e-4)# 650 2e-4 3e-4\n",
    "\n",
    "trajectory_pos_est = []\n",
    "my_drive.axis0.requested_state = AXIS_STATE_CLOSED_LOOP_CONTROL\n",
    "my_drive.axis1.requested_state = AXIS_STATE_CLOSED_LOOP_CONTROL\n",
    "\n",
    "for point in trajectory_pos:\n",
    "    \n",
    "    set0, set1 = point\n",
    "    my_drive.axis0.controller.pos_setpoint = set0\n",
    "    my_drive.axis1.controller.pos_setpoint = set1\n",
    "    \n",
    "    pos0 = my_drive.axis0.encoder.pos_estimate\n",
    "    pos1 = my_drive.axis1.encoder.pos_estimate\n",
    "    trajectory_pos_est.append([pos0, pos1])\n",
    "    \n",
    "    vel0 = my_drive.axis0.encoder.vel_estimate\n",
    "    vel1 = my_drive.axis1.encoder.vel_estimate\n",
    "    trajectory_vel_est.append([vel0, vel1])\n",
    "    \n",
    "    cur0 = my_drive.axis0.motor.current_control.Iq_measured\n",
    "    cur1 = my_drive.axis1.motor.current_control.Iq_measured\n",
    "    trajectory_cur_est.append([cur0, cur1])\n",
    "    \n",
    "    time.sleep(dt)\n",
    "    \n",
    "plt.figure(1, figsize=(20,10))\n",
    "plt.plot(trajectory_pos, '--', label = 'User Position')\n",
    "plt.plot(trajectory_pos_est, '-', label = 'Follower Position ')\n",
    "plt.legend(loc='upper right')\n",
    "plt.title('Position Plot', fontsize=18)\n",
    "plt.xlabel('Encoder position / counts', fontsize=16)\n",
    "plt.ylabel('Time / s', fontsize=16)\n",
    "\n",
    "plt.figure(2, figsize=(20,10))\n",
    "plt.plot(trajectory_vel, '--', label = 'User Velocity')\n",
    "plt.plot(trajectory_vel_est, '-', label = 'Follower Velocity')\n",
    "plt.legend(loc='upper right')\n",
    "plt.title('Velocity Plot', fontsize=18)\n",
    "plt.xlabel('Velocity / counts/s', fontsize=16)\n",
    "plt.ylabel('Time / s', fontsize=16)\n",
    "\n",
    "plt.figure(3, figsize=(20,10))\n",
    "plt.plot(trajectory_cur_est, '-', label = 'Follower Current')\n",
    "plt.legend(loc='upper right')\n",
    "plt.title('Current Plot', fontsize=18)\n",
    "plt.xlabel('Current / A', fontsize=16)\n",
    "plt.ylabel('Time / s', fontsize=16)\n",
    "\n",
    "my_drive.axis0.requested_state = AXIS_STATE_IDLE\n",
    "my_drive.axis1.requested_state = AXIS_STATE_IDLE"
   ]
  },
  {
   "cell_type": "code",
   "execution_count": 107,
   "metadata": {},
   "outputs": [
    {
     "name": "stdout",
     "output_type": "stream",
     "text": [
      "received unexpected ACK: 14801\n"
     ]
    },
    {
     "ename": "KeyboardInterrupt",
     "evalue": "",
     "output_type": "error",
     "traceback": [
      "\u001b[0;31m---------------------------------------------------------------------------\u001b[0m",
      "\u001b[0;31mKeyboardInterrupt\u001b[0m                         Traceback (most recent call last)",
      "\u001b[0;32m<ipython-input-107-60d3cb8ef46e>\u001b[0m in \u001b[0;36m<module>\u001b[0;34m()\u001b[0m\n\u001b[1;32m      8\u001b[0m \u001b[0;32mwhile\u001b[0m \u001b[0;32mTrue\u001b[0m\u001b[0;34m:\u001b[0m\u001b[0;34m\u001b[0m\u001b[0m\n\u001b[1;32m      9\u001b[0m \u001b[0;34m\u001b[0m\u001b[0m\n\u001b[0;32m---> 10\u001b[0;31m     \u001b[0mpos0\u001b[0m \u001b[0;34m=\u001b[0m \u001b[0mmy_drive\u001b[0m\u001b[0;34m.\u001b[0m\u001b[0maxis0\u001b[0m\u001b[0;34m.\u001b[0m\u001b[0mencoder\u001b[0m\u001b[0;34m.\u001b[0m\u001b[0mpos_estimate\u001b[0m\u001b[0;34m\u001b[0m\u001b[0m\n\u001b[0m\u001b[1;32m     11\u001b[0m     \u001b[0mpos1\u001b[0m \u001b[0;34m=\u001b[0m \u001b[0mmy_drive\u001b[0m\u001b[0;34m.\u001b[0m\u001b[0maxis1\u001b[0m\u001b[0;34m.\u001b[0m\u001b[0mencoder\u001b[0m\u001b[0;34m.\u001b[0m\u001b[0mpos_estimate\u001b[0m\u001b[0;34m\u001b[0m\u001b[0m\n\u001b[1;32m     12\u001b[0m \u001b[0;34m\u001b[0m\u001b[0m\n",
      "\u001b[0;32m/anaconda3/lib/python3.7/site-packages/fibre/remote_object.py\u001b[0m in \u001b[0;36m__getattribute__\u001b[0;34m(self, name)\u001b[0m\n\u001b[1;32m    237\u001b[0m         \u001b[0;32mif\u001b[0m \u001b[0misinstance\u001b[0m\u001b[0;34m(\u001b[0m\u001b[0mattr\u001b[0m\u001b[0;34m,\u001b[0m \u001b[0mRemoteProperty\u001b[0m\u001b[0;34m)\u001b[0m\u001b[0;34m:\u001b[0m\u001b[0;34m\u001b[0m\u001b[0m\n\u001b[1;32m    238\u001b[0m             \u001b[0;32mif\u001b[0m \u001b[0mattr\u001b[0m\u001b[0;34m.\u001b[0m\u001b[0m_can_read\u001b[0m\u001b[0;34m:\u001b[0m\u001b[0;34m\u001b[0m\u001b[0m\n\u001b[0;32m--> 239\u001b[0;31m                 \u001b[0;32mreturn\u001b[0m \u001b[0mattr\u001b[0m\u001b[0;34m.\u001b[0m\u001b[0mget_value\u001b[0m\u001b[0;34m(\u001b[0m\u001b[0;34m)\u001b[0m\u001b[0;34m\u001b[0m\u001b[0m\n\u001b[0m\u001b[1;32m    240\u001b[0m             \u001b[0;32melse\u001b[0m\u001b[0;34m:\u001b[0m\u001b[0;34m\u001b[0m\u001b[0m\n\u001b[1;32m    241\u001b[0m                 \u001b[0;32mraise\u001b[0m \u001b[0mException\u001b[0m\u001b[0;34m(\u001b[0m\u001b[0;34m\"Cannot read from property {}\"\u001b[0m\u001b[0;34m.\u001b[0m\u001b[0mformat\u001b[0m\u001b[0;34m(\u001b[0m\u001b[0mname\u001b[0m\u001b[0;34m)\u001b[0m\u001b[0;34m)\u001b[0m\u001b[0;34m\u001b[0m\u001b[0m\n",
      "\u001b[0;32m/anaconda3/lib/python3.7/site-packages/fibre/remote_object.py\u001b[0m in \u001b[0;36mget_value\u001b[0;34m(self)\u001b[0m\n\u001b[1;32m     70\u001b[0m \u001b[0;34m\u001b[0m\u001b[0m\n\u001b[1;32m     71\u001b[0m     \u001b[0;32mdef\u001b[0m \u001b[0mget_value\u001b[0m\u001b[0;34m(\u001b[0m\u001b[0mself\u001b[0m\u001b[0;34m)\u001b[0m\u001b[0;34m:\u001b[0m\u001b[0;34m\u001b[0m\u001b[0m\n\u001b[0;32m---> 72\u001b[0;31m         \u001b[0mbuffer\u001b[0m \u001b[0;34m=\u001b[0m \u001b[0mself\u001b[0m\u001b[0;34m.\u001b[0m\u001b[0m_parent\u001b[0m\u001b[0;34m.\u001b[0m\u001b[0m__channel__\u001b[0m\u001b[0;34m.\u001b[0m\u001b[0mremote_endpoint_operation\u001b[0m\u001b[0;34m(\u001b[0m\u001b[0mself\u001b[0m\u001b[0;34m.\u001b[0m\u001b[0m_id\u001b[0m\u001b[0;34m,\u001b[0m \u001b[0;32mNone\u001b[0m\u001b[0;34m,\u001b[0m \u001b[0;32mTrue\u001b[0m\u001b[0;34m,\u001b[0m \u001b[0mself\u001b[0m\u001b[0;34m.\u001b[0m\u001b[0m_codec\u001b[0m\u001b[0;34m.\u001b[0m\u001b[0mget_length\u001b[0m\u001b[0;34m(\u001b[0m\u001b[0;34m)\u001b[0m\u001b[0;34m)\u001b[0m\u001b[0;34m\u001b[0m\u001b[0m\n\u001b[0m\u001b[1;32m     73\u001b[0m         \u001b[0;32mreturn\u001b[0m \u001b[0mself\u001b[0m\u001b[0;34m.\u001b[0m\u001b[0m_codec\u001b[0m\u001b[0;34m.\u001b[0m\u001b[0mdeserialize\u001b[0m\u001b[0;34m(\u001b[0m\u001b[0mbuffer\u001b[0m\u001b[0;34m)\u001b[0m\u001b[0;34m\u001b[0m\u001b[0m\n\u001b[1;32m     74\u001b[0m \u001b[0;34m\u001b[0m\u001b[0m\n",
      "\u001b[0;32m/anaconda3/lib/python3.7/site-packages/fibre/protocol.py\u001b[0m in \u001b[0;36mremote_endpoint_operation\u001b[0;34m(self, endpoint_id, input, expect_ack, output_length)\u001b[0m\n\u001b[1;32m    295\u001b[0m                     \u001b[0mself\u001b[0m\u001b[0;34m.\u001b[0m\u001b[0m_my_lock\u001b[0m\u001b[0;34m.\u001b[0m\u001b[0macquire\u001b[0m\u001b[0;34m(\u001b[0m\u001b[0;34m)\u001b[0m\u001b[0;34m\u001b[0m\u001b[0m\n\u001b[1;32m    296\u001b[0m                     \u001b[0;32mtry\u001b[0m\u001b[0;34m:\u001b[0m\u001b[0;34m\u001b[0m\u001b[0m\n\u001b[0;32m--> 297\u001b[0;31m                         \u001b[0mself\u001b[0m\u001b[0;34m.\u001b[0m\u001b[0m_output\u001b[0m\u001b[0;34m.\u001b[0m\u001b[0mprocess_packet\u001b[0m\u001b[0;34m(\u001b[0m\u001b[0mpacket\u001b[0m\u001b[0;34m)\u001b[0m\u001b[0;34m\u001b[0m\u001b[0m\n\u001b[0m\u001b[1;32m    298\u001b[0m                     \u001b[0;32mexcept\u001b[0m \u001b[0mChannelDamagedException\u001b[0m\u001b[0;34m:\u001b[0m\u001b[0;34m\u001b[0m\u001b[0m\n\u001b[1;32m    299\u001b[0m                         \u001b[0mattempt\u001b[0m \u001b[0;34m+=\u001b[0m \u001b[0;36m1\u001b[0m\u001b[0;34m\u001b[0m\u001b[0m\n",
      "\u001b[0;32m/anaconda3/lib/python3.7/site-packages/fibre/usbbulk_transport.py\u001b[0m in \u001b[0;36mprocess_packet\u001b[0;34m(self, usbBuffer)\u001b[0m\n\u001b[1;32m     96\u001b[0m   \u001b[0;32mdef\u001b[0m \u001b[0mprocess_packet\u001b[0m\u001b[0;34m(\u001b[0m\u001b[0mself\u001b[0m\u001b[0;34m,\u001b[0m \u001b[0musbBuffer\u001b[0m\u001b[0;34m)\u001b[0m\u001b[0;34m:\u001b[0m\u001b[0;34m\u001b[0m\u001b[0m\n\u001b[1;32m     97\u001b[0m     \u001b[0;32mtry\u001b[0m\u001b[0;34m:\u001b[0m\u001b[0;34m\u001b[0m\u001b[0m\n\u001b[0;32m---> 98\u001b[0;31m       \u001b[0mret\u001b[0m \u001b[0;34m=\u001b[0m \u001b[0mself\u001b[0m\u001b[0;34m.\u001b[0m\u001b[0mepw\u001b[0m\u001b[0;34m.\u001b[0m\u001b[0mwrite\u001b[0m\u001b[0;34m(\u001b[0m\u001b[0musbBuffer\u001b[0m\u001b[0;34m,\u001b[0m \u001b[0;36m0\u001b[0m\u001b[0;34m)\u001b[0m\u001b[0;34m\u001b[0m\u001b[0m\n\u001b[0m\u001b[1;32m     99\u001b[0m       \u001b[0;32mif\u001b[0m \u001b[0mself\u001b[0m\u001b[0;34m.\u001b[0m\u001b[0m_was_damaged\u001b[0m\u001b[0;34m:\u001b[0m\u001b[0;34m\u001b[0m\u001b[0m\n\u001b[1;32m    100\u001b[0m         \u001b[0mself\u001b[0m\u001b[0;34m.\u001b[0m\u001b[0m_logger\u001b[0m\u001b[0;34m.\u001b[0m\u001b[0mdebug\u001b[0m\u001b[0;34m(\u001b[0m\u001b[0;34m\"Recovered from USB halt/stall condition\"\u001b[0m\u001b[0;34m)\u001b[0m\u001b[0;34m\u001b[0m\u001b[0m\n",
      "\u001b[0;32m/anaconda3/lib/python3.7/site-packages/usb/core.py\u001b[0m in \u001b[0;36mwrite\u001b[0;34m(self, data, timeout)\u001b[0m\n\u001b[1;32m    385\u001b[0m         \u001b[0mFor\u001b[0m \u001b[0mdetails\u001b[0m\u001b[0;34m,\u001b[0m \u001b[0msee\u001b[0m \u001b[0mthe\u001b[0m \u001b[0mDevice\u001b[0m\u001b[0;34m.\u001b[0m\u001b[0mwrite\u001b[0m\u001b[0;34m(\u001b[0m\u001b[0;34m)\u001b[0m \u001b[0mmethod\u001b[0m\u001b[0;34m.\u001b[0m\u001b[0;34m\u001b[0m\u001b[0m\n\u001b[1;32m    386\u001b[0m         \"\"\"\n\u001b[0;32m--> 387\u001b[0;31m         \u001b[0;32mreturn\u001b[0m \u001b[0mself\u001b[0m\u001b[0;34m.\u001b[0m\u001b[0mdevice\u001b[0m\u001b[0;34m.\u001b[0m\u001b[0mwrite\u001b[0m\u001b[0;34m(\u001b[0m\u001b[0mself\u001b[0m\u001b[0;34m,\u001b[0m \u001b[0mdata\u001b[0m\u001b[0;34m,\u001b[0m \u001b[0mtimeout\u001b[0m\u001b[0;34m)\u001b[0m\u001b[0;34m\u001b[0m\u001b[0m\n\u001b[0m\u001b[1;32m    388\u001b[0m \u001b[0;34m\u001b[0m\u001b[0m\n\u001b[1;32m    389\u001b[0m     \u001b[0;32mdef\u001b[0m \u001b[0mread\u001b[0m\u001b[0;34m(\u001b[0m\u001b[0mself\u001b[0m\u001b[0;34m,\u001b[0m \u001b[0msize_or_buffer\u001b[0m\u001b[0;34m,\u001b[0m \u001b[0mtimeout\u001b[0m \u001b[0;34m=\u001b[0m \u001b[0;32mNone\u001b[0m\u001b[0;34m)\u001b[0m\u001b[0;34m:\u001b[0m\u001b[0;34m\u001b[0m\u001b[0m\n",
      "\u001b[0;32m/anaconda3/lib/python3.7/site-packages/usb/core.py\u001b[0m in \u001b[0;36mwrite\u001b[0;34m(self, endpoint, data, timeout)\u001b[0m\n\u001b[1;32m    946\u001b[0m                 \u001b[0mintf\u001b[0m\u001b[0;34m.\u001b[0m\u001b[0mbInterfaceNumber\u001b[0m\u001b[0;34m,\u001b[0m\u001b[0;34m\u001b[0m\u001b[0m\n\u001b[1;32m    947\u001b[0m                 \u001b[0m_interop\u001b[0m\u001b[0;34m.\u001b[0m\u001b[0mas_array\u001b[0m\u001b[0;34m(\u001b[0m\u001b[0mdata\u001b[0m\u001b[0;34m)\u001b[0m\u001b[0;34m,\u001b[0m\u001b[0;34m\u001b[0m\u001b[0m\n\u001b[0;32m--> 948\u001b[0;31m                 \u001b[0mself\u001b[0m\u001b[0;34m.\u001b[0m\u001b[0m__get_timeout\u001b[0m\u001b[0;34m(\u001b[0m\u001b[0mtimeout\u001b[0m\u001b[0;34m)\u001b[0m\u001b[0;34m\u001b[0m\u001b[0m\n\u001b[0m\u001b[1;32m    949\u001b[0m             )\n\u001b[1;32m    950\u001b[0m \u001b[0;34m\u001b[0m\u001b[0m\n",
      "\u001b[0;32m/anaconda3/lib/python3.7/site-packages/usb/backend/libusb1.py\u001b[0m in \u001b[0;36mbulk_write\u001b[0;34m(self, dev_handle, ep, intf, data, timeout)\u001b[0m\n\u001b[1;32m    822\u001b[0m                             \u001b[0mintf\u001b[0m\u001b[0;34m,\u001b[0m\u001b[0;34m\u001b[0m\u001b[0m\n\u001b[1;32m    823\u001b[0m                             \u001b[0mdata\u001b[0m\u001b[0;34m,\u001b[0m\u001b[0;34m\u001b[0m\u001b[0m\n\u001b[0;32m--> 824\u001b[0;31m                             timeout)\n\u001b[0m\u001b[1;32m    825\u001b[0m \u001b[0;34m\u001b[0m\u001b[0m\n\u001b[1;32m    826\u001b[0m     \u001b[0;34m@\u001b[0m\u001b[0mmethodtrace\u001b[0m\u001b[0;34m(\u001b[0m\u001b[0m_logger\u001b[0m\u001b[0;34m)\u001b[0m\u001b[0;34m\u001b[0m\u001b[0m\n",
      "\u001b[0;32m/anaconda3/lib/python3.7/site-packages/usb/backend/libusb1.py\u001b[0m in \u001b[0;36m__write\u001b[0;34m(self, fn, dev_handle, ep, intf, data, timeout)\u001b[0m\n\u001b[1;32m    915\u001b[0m                   \u001b[0mlength\u001b[0m\u001b[0;34m,\u001b[0m\u001b[0;34m\u001b[0m\u001b[0m\n\u001b[1;32m    916\u001b[0m                   \u001b[0mbyref\u001b[0m\u001b[0;34m(\u001b[0m\u001b[0mtransferred\u001b[0m\u001b[0;34m)\u001b[0m\u001b[0;34m,\u001b[0m\u001b[0;34m\u001b[0m\u001b[0m\n\u001b[0;32m--> 917\u001b[0;31m                   timeout)\n\u001b[0m\u001b[1;32m    918\u001b[0m         \u001b[0;31m# do not assume LIBUSB_ERROR_TIMEOUT means no I/O.\u001b[0m\u001b[0;34m\u001b[0m\u001b[0;34m\u001b[0m\u001b[0m\n\u001b[1;32m    919\u001b[0m         \u001b[0;32mif\u001b[0m \u001b[0;32mnot\u001b[0m \u001b[0;34m(\u001b[0m\u001b[0mtransferred\u001b[0m\u001b[0;34m.\u001b[0m\u001b[0mvalue\u001b[0m \u001b[0;32mand\u001b[0m \u001b[0mretval\u001b[0m \u001b[0;34m==\u001b[0m \u001b[0mLIBUSB_ERROR_TIMEOUT\u001b[0m\u001b[0;34m)\u001b[0m\u001b[0;34m:\u001b[0m\u001b[0;34m\u001b[0m\u001b[0m\n",
      "\u001b[0;31mKeyboardInterrupt\u001b[0m: "
     ]
    }
   ],
   "source": [
    "'''REGION'''\n",
    "\n",
    "set_PID(100, 4.5e-4, 2.5e-4)# 650 2e-4 3e-4\n",
    "\n",
    "my_drive.axis0.requested_state = AXIS_STATE_CLOSED_LOOP_CONTROL\n",
    "my_drive.axis1.requested_state = AXIS_STATE_CLOSED_LOOP_CONTROL\n",
    "\n",
    "while True:\n",
    "    \n",
    "    pos0 = my_drive.axis0.encoder.pos_estimate\n",
    "    pos1 = my_drive.axis1.encoder.pos_estimate\n",
    "    \n",
    "    if check_in_array(pos0, pos1, trajectory_pos) == False: # current position not in saved array\n",
    "        \n",
    "        # find closest point in array from current location\n",
    "        set0, set1 = find_closest(pos0, pos1, trajectory_pos)\n",
    "        \n",
    "        my_drive.axis0.controller.pos_setpoint = set0\n",
    "        my_drive.axis1.controller.pos_setpoint = set1\n",
    "\n",
    "    else:\n",
    "        #do nothing\n",
    "        pass\n",
    "    \n",
    "    "
   ]
  },
  {
   "cell_type": "code",
   "execution_count": 62,
   "metadata": {},
   "outputs": [],
   "source": [
    "set_PID(60, 3e-4, 0)\n",
    "my_drive.axis0.requested_state = AXIS_STATE_CLOSED_LOOP_CONTROL\n",
    "my_drive.axis1.requested_state = AXIS_STATE_CLOSED_LOOP_CONTROL"
   ]
  },
  {
   "cell_type": "code",
   "execution_count": 265,
   "metadata": {},
   "outputs": [
    {
     "data": {
      "image/png": "[encoded data removed]",
      "text/plain": [
       "<Figure size 432x288 with 1 Axes>"
      ]
     },
     "metadata": {
      "needs_background": "light"
     },
     "output_type": "display_data"
    }
   ],
   "source": [
    "'''FOLLOWER'''\n",
    "\n",
    "trajectory = []\n",
    "duration = 2 # seconds\n",
    "dt = 0.01 # seconds\n",
    "num = int(duration/dt)\n",
    "\n",
    "for _ in range(num):\n",
    "    pos0 = my_drive.axis0.encoder.pos_estimate\n",
    "    pos1 = my_drive.axis1.encoder.pos_estimate\n",
    "\n",
    "    trajectory.append([pos0, pos1])\n",
    "    time.sleep(dt)\n",
    "    \n",
    "plt.plot(trajectory)\n",
    "\n",
    "time.sleep(2)\n",
    "\n",
    "set_PID(60, 3e-4, 1e-4)\n",
    "\n",
    "trajectory_est = []\n",
    "my_drive.axis0.requested_state = AXIS_STATE_CLOSED_LOOP_CONTROL\n",
    "my_drive.axis1.requested_state = AXIS_STATE_CLOSED_LOOP_CONTROL\n",
    "\n",
    "for point in trajectory:\n",
    "    pos0 = my_drive.axis0.encoder.pos_estimate\n",
    "    pos1 = my_drive.axis1.encoder.pos_estimate\n",
    "    trajectory_est.append([pos0, pos1])\n",
    "    \n",
    "    set0, set1 = point\n",
    "    my_drive.axis0.controller.pos_setpoint = set0\n",
    "    my_drive.axis1.controller.pos_setpoint = set1\n",
    "    \n",
    "    time.sleep(dt)\n",
    "    \n",
    "#for point in reversed(trajectory):\n",
    "#    pos0 = my_drive.axis0.encoder.pos_estimate\n",
    "#    pos1 = my_drive.axis1.encoder.pos_estimate\n",
    "#    trajectory_est.append([pos0, pos1])\n",
    "   \n",
    "#    set0, set1 = point\n",
    "#    my_drive.axis0.controller.pos_setpoint = set0\n",
    "#    my_drive.axis1.controller.pos_setpoint = set1\n",
    "    \n",
    "#    time.sleep(dt)\n",
    "    \n",
    "plt.plot(trajectory, '--')\n",
    "plt.plot(trajectory_est)\n",
    "\n",
    "my_drive.axis0.requested_state = AXIS_STATE_IDLE\n",
    "my_drive.axis1.requested_state = AXIS_STATE_IDLE"
   ]
  },
  {
   "cell_type": "code",
   "execution_count": 231,
   "metadata": {},
   "outputs": [
    {
     "name": "stdout",
     "output_type": "stream",
     "text": [
      "hold:  -95.94629669189453 -50.21567153930664\n",
      "cpr0: -15.07359504699707 cpr1: 25.982053756713867\t vel_setpoint0.0"
     ]
    },
    {
     "ename": "KeyboardInterrupt",
     "evalue": "",
     "output_type": "error",
     "traceback": [
      "\u001b[0;31m---------------------------------------------------------------------------\u001b[0m",
      "\u001b[0;31mKeyboardInterrupt\u001b[0m                         Traceback (most recent call last)",
      "\u001b[0;32m<ipython-input-231-824c6223256e>\u001b[0m in \u001b[0;36m<module>\u001b[0;34m()\u001b[0m\n\u001b[1;32m     19\u001b[0m \u001b[0;34m\u001b[0m\u001b[0m\n\u001b[1;32m     20\u001b[0m     \u001b[0msys\u001b[0m\u001b[0;34m.\u001b[0m\u001b[0mstdout\u001b[0m\u001b[0;34m.\u001b[0m\u001b[0mwrite\u001b[0m\u001b[0;34m(\u001b[0m\u001b[0;34m\"\\r\\rcpr0: \"\u001b[0m \u001b[0;34m+\u001b[0m \u001b[0mstr\u001b[0m\u001b[0;34m(\u001b[0m\u001b[0mpos0\u001b[0m\u001b[0;34m)\u001b[0m                       \u001b[0;34m+\u001b[0m \u001b[0;34m\" cpr1: \"\u001b[0m \u001b[0;34m+\u001b[0m \u001b[0mstr\u001b[0m\u001b[0;34m(\u001b[0m\u001b[0mpos1\u001b[0m\u001b[0;34m)\u001b[0m               \u001b[0;34m+\u001b[0m \u001b[0;34m\"\\t vel_setpoint\"\u001b[0m \u001b[0;34m+\u001b[0m \u001b[0mstr\u001b[0m\u001b[0;34m(\u001b[0m\u001b[0mmy_drive\u001b[0m\u001b[0;34m.\u001b[0m\u001b[0maxis0\u001b[0m\u001b[0;34m.\u001b[0m\u001b[0mcontroller\u001b[0m\u001b[0;34m.\u001b[0m\u001b[0mvel_setpoint\u001b[0m\u001b[0;34m)\u001b[0m\u001b[0;34m)\u001b[0m\u001b[0;34m\u001b[0m\u001b[0m\n\u001b[0;32m---> 21\u001b[0;31m     \u001b[0mtime\u001b[0m\u001b[0;34m.\u001b[0m\u001b[0msleep\u001b[0m\u001b[0;34m(\u001b[0m\u001b[0;36m0.1\u001b[0m\u001b[0;34m)\u001b[0m\u001b[0;34m\u001b[0m\u001b[0m\n\u001b[0m\u001b[1;32m     22\u001b[0m \u001b[0;34m\u001b[0m\u001b[0m\n\u001b[1;32m     23\u001b[0m \u001b[0mmy_drive\u001b[0m\u001b[0;34m.\u001b[0m\u001b[0maxis0\u001b[0m\u001b[0;34m.\u001b[0m\u001b[0mrequested_state\u001b[0m \u001b[0;34m=\u001b[0m \u001b[0mAXIS_STATE_IDLE\u001b[0m\u001b[0;34m\u001b[0m\u001b[0m\n",
      "\u001b[0;31mKeyboardInterrupt\u001b[0m: "
     ]
    }
   ],
   "source": [
    "set_PID(0, 3e-4, 1e-4)\n",
    "\n",
    "trajectory = []\n",
    "\n",
    "hold0 = my_drive.axis0.encoder.pos_estimate\n",
    "hold1 = my_drive.axis1.encoder.pos_estimate\n",
    "print(\"hold: \", hold0, hold1)\n",
    "\n",
    "my_drive.axis0.controller.pos_setpoint = hold0\n",
    "my_drive.axis1.controller.pos_setpoint = hold1\n",
    "\n",
    "my_drive.axis0.requested_state = AXIS_STATE_CLOSED_LOOP_CONTROL\n",
    "my_drive.axis1.requested_state = AXIS_STATE_CLOSED_LOOP_CONTROL\n",
    "\n",
    "for _ in range(100):\n",
    "    pos0 = my_drive.axis0.encoder.pos_estimate\n",
    "    pos1 = my_drive.axis1.encoder.pos_estimate\n",
    "    trajectory.append([pos0, pos1])\n",
    "\n",
    "    sys.stdout.write(\"\\r\\rcpr0: \" + str(pos0) \\\n",
    "                      + \" cpr1: \" + str(pos1) \\\n",
    "              + \"\\t vel_setpoint\" + str(my_drive.axis0.controller.vel_setpoint)) \n",
    "    time.sleep(0.1)\n",
    "    \n",
    "my_drive.axis0.requested_state = AXIS_STATE_IDLE\n",
    "my_drive.axis1.requested_state = AXIS_STATE_IDLE"
   ]
  },
  {
   "cell_type": "code",
   "execution_count": 313,
   "metadata": {},
   "outputs": [
    {
     "name": "stdout",
     "output_type": "stream",
     "text": [
      "\n",
      "hold:  -95.94629669189453 -50.21567153930664\n",
      "cpr0: -18.056589126586914 cpr1:1631936.125\t vel_setpoint0.0"
     ]
    },
    {
     "ename": "KeyboardInterrupt",
     "evalue": "",
     "output_type": "error",
     "traceback": [
      "\u001b[0;31m---------------------------------------------------------------------------\u001b[0m",
      "\u001b[0;31mKeyboardInterrupt\u001b[0m                         Traceback (most recent call last)",
      "\u001b[0;32m<ipython-input-313-b39ff77ebf6e>\u001b[0m in \u001b[0;36m<module>\u001b[0;34m()\u001b[0m\n\u001b[1;32m     10\u001b[0m     \u001b[0mpos1\u001b[0m \u001b[0;34m=\u001b[0m \u001b[0mmy_drive\u001b[0m\u001b[0;34m.\u001b[0m\u001b[0maxis1\u001b[0m\u001b[0;34m.\u001b[0m\u001b[0mencoder\u001b[0m\u001b[0;34m.\u001b[0m\u001b[0mpos_estimate\u001b[0m\u001b[0;34m\u001b[0m\u001b[0m\n\u001b[1;32m     11\u001b[0m     \u001b[0msys\u001b[0m\u001b[0;34m.\u001b[0m\u001b[0mstdout\u001b[0m\u001b[0;34m.\u001b[0m\u001b[0mwrite\u001b[0m\u001b[0;34m(\u001b[0m\u001b[0;34m\"\\r\\rcpr0: \"\u001b[0m \u001b[0;34m+\u001b[0m \u001b[0mstr\u001b[0m\u001b[0;34m(\u001b[0m\u001b[0mpos0\u001b[0m\u001b[0;34m)\u001b[0m \u001b[0;34m+\u001b[0m \u001b[0;34m\" cpr1:\"\u001b[0m \u001b[0;34m+\u001b[0m \u001b[0mstr\u001b[0m\u001b[0;34m(\u001b[0m\u001b[0mpos1\u001b[0m\u001b[0;34m)\u001b[0m \u001b[0;34m+\u001b[0m \u001b[0;34m\"\\t vel_setpoint\"\u001b[0m \u001b[0;34m+\u001b[0m \u001b[0mstr\u001b[0m\u001b[0;34m(\u001b[0m\u001b[0mmy_drive\u001b[0m\u001b[0;34m.\u001b[0m\u001b[0maxis0\u001b[0m\u001b[0;34m.\u001b[0m\u001b[0mcontroller\u001b[0m\u001b[0;34m.\u001b[0m\u001b[0mvel_setpoint\u001b[0m\u001b[0;34m)\u001b[0m\u001b[0;34m)\u001b[0m\u001b[0;34m\u001b[0m\u001b[0m\n\u001b[0;32m---> 12\u001b[0;31m     \u001b[0mtime\u001b[0m\u001b[0;34m.\u001b[0m\u001b[0msleep\u001b[0m\u001b[0;34m(\u001b[0m\u001b[0;36m0.1\u001b[0m\u001b[0;34m)\u001b[0m\u001b[0;34m\u001b[0m\u001b[0m\n\u001b[0m\u001b[1;32m     13\u001b[0m \u001b[0;34m\u001b[0m\u001b[0m\n\u001b[1;32m     14\u001b[0m \u001b[0;34m\u001b[0m\u001b[0m\n",
      "\u001b[0;31mKeyboardInterrupt\u001b[0m: "
     ]
    }
   ],
   "source": [
    "print()\n",
    "print(\"hold: \", hold0, hold1)\n",
    "\n",
    "my_drive.axis0.controller.pos_setpoint = hold0\n",
    "# my_drive.axis1.controller.pos_setpoint = hold1\n",
    "\n",
    "\n",
    "while(1):\n",
    "    pos0 = my_drive.axis0.encoder.pos_estimate\n",
    "    pos1 = my_drive.axis1.encoder.pos_estimate\n",
    "    sys.stdout.write(\"\\r\\rcpr0: \" + str(pos0) + \" cpr1:\" + str(pos1) + \"\\t vel_setpoint\" + str(my_drive.axis0.controller.vel_setpoint)) \n",
    "    time.sleep(0.1)\n",
    "    \n",
    "    \n",
    "my_drive.axis0.requested_state = AXIS_STATE_IDLE\n",
    "my_drive.axis1.requested_state = AXIS_STATE_IDLE"
   ]
  },
  {
   "cell_type": "code",
   "execution_count": null,
   "metadata": {},
   "outputs": [],
   "source": [
    "'''MOVING IN CIRCLES'''\n",
    "\n",
    "duration = 10 # seconds\n",
    "dt = 0.01 # seconds\n",
    "num = int(duration/dt)\n",
    "\n",
    "my_drive.axis0.requested_state = AXIS_STATE_CLOSED_LOOP_CONTROL\n",
    "my_drive.axis1.requested_state = AXIS_STATE_CLOSED_LOOP_CONTROL\n",
    "\n",
    "set_PID(8, 0.0006, 0.0)\n",
    "\n",
    "# A sine wave to test\n",
    "t0 = time.monotonic()\n",
    "time.sleep(1.7)\n",
    "t1 = time.monotonic()\n",
    "\n",
    "for _ in range(num):\n",
    "    \n",
    "    setpoint = 1000.0 * math.sin((time.monotonic() - t0)*3)\n",
    "    setpoint1 = 1000.0 * math.sin((time.monotonic() - t1)*3)\n",
    "    # print(\"goto \" + str(int(setpoint)))\n",
    "\n",
    "    # go up and down trajectory\n",
    "    my_drive.axis0.controller.pos_setpoint = setpoint-1000\n",
    "    my_drive.axis1.controller.pos_setpoint = (setpoint-1000)\n",
    "\n",
    "    # make circle\n",
    "    #my_drive.axis0.controller.pos_setpoint = setpoint-1500\n",
    "    #my_drive.axis1.controller.pos_setpoint = (setpoint1-1500)\n",
    "    \n",
    "    pos0 = my_drive.axis0.encoder.pos_estimate\n",
    "    pos1 = my_drive.axis1.encoder.pos_estimate\n",
    "\n",
    "    trajectory.append([pos0, pos1])\n",
    "    time.sleep(dt)\n",
    "    \n",
    "plt.plot(trajectory)\n",
    "\n",
    "my_drive.axis0.requested_state = AXIS_STATE_IDLE\n",
    "my_drive.axis1.requested_state = AXIS_STATE_IDLE"
   ]
  },
  {
   "cell_type": "code",
   "execution_count": null,
   "metadata": {},
   "outputs": [],
   "source": [
    "# ---------------------------------Index Saving Setup---------------------------------------------------"
   ]
  },
  {
   "cell_type": "code",
   "execution_count": null,
   "metadata": {},
   "outputs": [],
   "source": [
    "# With this configuration, we only need to do this after each reboot:\n",
    "# my_drive.axis0.requested_state = AXIS_STATE_ENCODER_INDEX_SEARCH"
   ]
  },
  {
   "cell_type": "code",
   "execution_count": 195,
   "metadata": {},
   "outputs": [],
   "source": [
    "my_drive.axis0.encoder.config.use_index = True"
   ]
  },
  {
   "cell_type": "code",
   "execution_count": 196,
   "metadata": {},
   "outputs": [],
   "source": [
    "my_drive.axis0.requested_state = AXIS_STATE_ENCODER_INDEX_SEARCH"
   ]
  },
  {
   "cell_type": "code",
   "execution_count": 197,
   "metadata": {},
   "outputs": [],
   "source": [
    "my_drive.axis0.requested_state = AXIS_STATE_FULL_CALIBRATION_SEQUENCE"
   ]
  },
  {
   "cell_type": "code",
   "execution_count": 198,
   "metadata": {},
   "outputs": [],
   "source": [
    "my_drive.axis0.encoder.config.pre_calibrated = True"
   ]
  },
  {
   "cell_type": "code",
   "execution_count": 199,
   "metadata": {},
   "outputs": [],
   "source": [
    "my_drive.axis0.requested_state = AXIS_STATE_ENCODER_INDEX_SEARCH"
   ]
  },
  {
   "cell_type": "code",
   "execution_count": 200,
   "metadata": {},
   "outputs": [],
   "source": [
    "my_drive.axis0.motor.config.pre_calibrated = True"
   ]
  },
  {
   "cell_type": "code",
   "execution_count": 201,
   "metadata": {},
   "outputs": [],
   "source": [
    "my_drive.save_configuration()"
   ]
  },
  {
   "cell_type": "code",
   "execution_count": 21,
   "metadata": {},
   "outputs": [],
   "source": [
    "my_drive.axis1.encoder.config.use_index = True"
   ]
  },
  {
   "cell_type": "code",
   "execution_count": 23,
   "metadata": {},
   "outputs": [],
   "source": [
    "my_drive.axis1.requested_state = AXIS_STATE_ENCODER_INDEX_SEARCH"
   ]
  },
  {
   "cell_type": "code",
   "execution_count": 24,
   "metadata": {},
   "outputs": [],
   "source": [
    "my_drive.axis1.requested_state = AXIS_STATE_FULL_CALIBRATION_SEQUENCE"
   ]
  },
  {
   "cell_type": "code",
   "execution_count": 25,
   "metadata": {},
   "outputs": [],
   "source": [
    "my_drive.axis1.encoder.config.pre_calibrated = True"
   ]
  },
  {
   "cell_type": "code",
   "execution_count": 26,
   "metadata": {},
   "outputs": [],
   "source": [
    "my_drive.axis1.requested_state = AXIS_STATE_ENCODER_INDEX_SEARCH"
   ]
  },
  {
   "cell_type": "code",
   "execution_count": 27,
   "metadata": {},
   "outputs": [],
   "source": [
    "my_drive.axis1.motor.config.pre_calibrated = True"
   ]
  },
  {
   "cell_type": "code",
   "execution_count": 383,
   "metadata": {},
   "outputs": [],
   "source": [
    "my_drive.save_configuration()"
   ]
  },
  {
   "cell_type": "code",
   "execution_count": 71,
   "metadata": {},
   "outputs": [],
   "source": [
    "# ---------------------------------Testings-----------------------------------------------------------"
   ]
  },
  {
   "cell_type": "code",
   "execution_count": 184,
   "metadata": {},
   "outputs": [
    {
     "data": {
      "text/plain": [
       "2.999999761581421"
      ]
     },
     "execution_count": 184,
     "metadata": {},
     "output_type": "execute_result"
    }
   ],
   "source": [
    "my_drive.axis1.encoder.pos_estimate"
   ]
  },
  {
   "cell_type": "code",
   "execution_count": 185,
   "metadata": {},
   "outputs": [
    {
     "data": {
      "text/plain": [
       "0.0"
      ]
     },
     "execution_count": 185,
     "metadata": {},
     "output_type": "execute_result"
    }
   ],
   "source": [
    "my_drive.axis1.encoder.vel_estimate"
   ]
  },
  {
   "cell_type": "code",
   "execution_count": 68,
   "metadata": {},
   "outputs": [
    {
     "data": {
      "text/plain": [
       "0.0"
      ]
     },
     "execution_count": 68,
     "metadata": {},
     "output_type": "execute_result"
    }
   ],
   "source": [
    "my_drive.axis0.motor.current_control.Iq_measured"
   ]
  },
  {
   "cell_type": "code",
   "execution_count": null,
   "metadata": {},
   "outputs": [],
   "source": [
    "# ---------------------------------Configurations------------------------------------------------------"
   ]
  },
  {
   "cell_type": "code",
   "execution_count": null,
   "metadata": {},
   "outputs": [],
   "source": [
    "my_drive.axis0.motor.config.pre_calibrated = False \n",
    "my_drive.axis0.motor.config.pole_pairs = 7 \n",
    "my_drive.axis0.motor.config.calibration_current = 8.0 \n",
    "my_drive.axis0.motor.config.resistance_calib_max_voltage = 2.0 \n",
    "my_drive.axis0.motor.config.phase_inductance = 0.0\n",
    "my_drive.axis0.motor.config.phase_resistance = 0.0 \n",
    "my_drive.axis0.motor.config.direction = -1 \n",
    "my_drive.axis0.motor.config.motor_type = 2 \n",
    "my_drive.axis0.motor.config.current_lim = 20.0 \n",
    "my_drive.axis0.motor.config.requested_current_range = 60.0 \n",
    "my_drive.axis0.encoder.config.mode = 0 \n",
    "my_drive.axis0.encoder.config.use_index = False\n",
    "my_drive.axis0.encoder.config.pre_calibrated = False\n",
    "my_drive.axis0.encoder.config.idx_search_speed = 10.0 \n",
    "my_drive.axis0.encoder.config.cpr = 8192\n",
    "my_drive.axis0.encoder.config.offset = -4392 \n",
    "my_drive.axis0.encoder.config.offset_float = -0.030671894550323486 \n",
    "my_drive.axis0.encoder.config.calib_range = 0.019999999552965164\n",
    "\n",
    "my_drive.axis1.motor.config.pre_calibrated = False \n",
    "my_drive.axis1.motor.config.pole_pairs = 7 \n",
    "my_drive.axis1.motor.config.calibration_current = 8.0 \n",
    "my_drive.axis1.motor.config.resistance_calib_max_voltage = 2.0 \n",
    "my_drive.axis1.motor.config.phase_inductance = 0.0\n",
    "my_drive.axis1.motor.config.phase_resistance = 0.0 \n",
    "my_drive.axis1.motor.config.direction = -1 \n",
    "my_drive.axis1.motor.config.motor_type = 2 \n",
    "my_drive.axis1.motor.config.current_lim = 20.0 \n",
    "my_drive.axis1.motor.config.requested_current_range = 60.0 \n",
    "my_drive.axis1.encoder.config.mode = 0 \n",
    "my_drive.axis1.encoder.config.use_index = False\n",
    "my_drive.axis1.encoder.config.pre_calibrated = False\n",
    "my_drive.axis1.encoder.config.idx_search_speed = 10.0 \n",
    "my_drive.axis1.encoder.config.cpr = 8192\n",
    "my_drive.axis1.encoder.config.offset = -4392 \n",
    "my_drive.axis1.encoder.config.offset_float = -0.030671894550323486 \n",
    "my_drive.axis1.encoder.config.calib_range = 0.019999999552965164"
   ]
  },
  {
   "cell_type": "code",
   "execution_count": null,
   "metadata": {},
   "outputs": [],
   "source": [
    "    # Default control\n",
    "    my_drive.axis0.controller.config.vel_integrator_gain = 0.0010000000474974513\n",
    "    my_drive.axis0.controller.config.vel_gain = 0.0005000000237487257\n",
    "    my_drive.axis0.controller.config.pos_gain = 20.0\n",
    "\n",
    "    # Spring-like control\n",
    "    my_drive.axis0.controller.config.vel_integrator_gain = 0\n",
    "    my_drive.axis0.controller.config.vel_gain = 0.0003\n",
    "    my_drive.axis0.controller.config.pos_gain = 5\n",
    "\n",
    "    # Testing out control\n",
    "    my_drive.axis0.controller.config.vel_integrator_gain = 0\n",
    "    my_drive.axis0.controller.config.vel_gain = 0.00035\n",
    "    my_drive.axis0.controller.config.pos_gain = 6"
   ]
  },
  {
   "cell_type": "code",
   "execution_count": null,
   "metadata": {},
   "outputs": [],
   "source": [
    "# ----------------------------------Other features-----------------------------------------------------"
   ]
  },
  {
   "cell_type": "code",
   "execution_count": 223,
   "metadata": {},
   "outputs": [
    {
     "name": "stdout",
     "output_type": "stream",
     "text": [
      "Bus voltage is 24.201343536376953V\n",
      "Position setpoint is 3.140000104904175\n"
     ]
    }
   ],
   "source": [
    "# To read a value, simply read the property\n",
    "print(\"Bus voltage is \" + str(my_drive.vbus_voltage) + \"V\")\n",
    "\n",
    "# Or to change a value, just assign to the property\n",
    "my_drive.axis0.controller.pos_setpoint = 3.14\n",
    "print(\"Position setpoint is \" + str(my_drive.axis0.controller.pos_setpoint))"
   ]
  },
  {
   "cell_type": "code",
   "execution_count": 159,
   "metadata": {
    "scrolled": true
   },
   "outputs": [
    {
     "name": "stdout",
     "output_type": "stream",
     "text": [
      "voltage on GPIO1 is 0.8741455078125 Volt\n",
      "voltage on GPIO2 is 0.7315429449081421 Volt\n",
      "voltage on GPIO3 is 0.903149425983429 Volt\n",
      "voltage on GPIO4 is 0.8677001595497131 Volt\n",
      "voltage on GPIO5 is 1.408300757408142 Volt\n",
      "voltage on GPIO6 is 0.857226550579071 Volt\n",
      "voltage on GPIO7 is 0.8725341558456421 Volt\n",
      "voltage on GPIO8 is 0.874951183795929 Volt\n"
     ]
    }
   ],
   "source": [
    "# And this is how function calls are done:\n",
    "for i in [1,2,3,4,5,6,7,8]:\n",
    "    print('voltage on GPIO{} is {} Volt'.format(i, my_drive.get_adc_voltage(i)))"
   ]
  },
  {
   "cell_type": "code",
   "execution_count": 42,
   "metadata": {},
   "outputs": [
    {
     "ename": "AttributeError",
     "evalue": "'RemoteObject' object has no attribute 'GPIO_set_to_analog'",
     "output_type": "error",
     "traceback": [
      "\u001b[0;31m---------------------------------------------------------------------------\u001b[0m",
      "\u001b[0;31mAttributeError\u001b[0m                            Traceback (most recent call last)",
      "\u001b[0;32m<ipython-input-42-7cf62efb25fb>\u001b[0m in \u001b[0;36m<module>\u001b[0;34m()\u001b[0m\n\u001b[0;32m----> 1\u001b[0;31m \u001b[0mmy_drive\u001b[0m\u001b[0;34m.\u001b[0m\u001b[0mGPIO_set_to_analog\u001b[0m\u001b[0;34m(\u001b[0m\u001b[0mmy_drive\u001b[0m\u001b[0;34m.\u001b[0m\u001b[0mget_gpio_port_by_pin\u001b[0m\u001b[0;34m(\u001b[0m\u001b[0;36m1\u001b[0m\u001b[0;34m)\u001b[0m\u001b[0;34m,\u001b[0m \u001b[0;36m1\u001b[0m\u001b[0;34m)\u001b[0m\u001b[0;34m;\u001b[0m\u001b[0;34m\u001b[0m\u001b[0m\n\u001b[0m",
      "\u001b[0;32m/anaconda3/lib/python3.7/site-packages/fibre/remote_object.py\u001b[0m in \u001b[0;36m__getattribute__\u001b[0;34m(self, name)\u001b[0m\n\u001b[1;32m    243\u001b[0m             \u001b[0;32mreturn\u001b[0m \u001b[0mattr\u001b[0m\u001b[0;34m\u001b[0m\u001b[0m\n\u001b[1;32m    244\u001b[0m         \u001b[0;32melse\u001b[0m\u001b[0;34m:\u001b[0m\u001b[0;34m\u001b[0m\u001b[0m\n\u001b[0;32m--> 245\u001b[0;31m             \u001b[0;32mreturn\u001b[0m \u001b[0mobject\u001b[0m\u001b[0;34m.\u001b[0m\u001b[0m__getattribute__\u001b[0m\u001b[0;34m(\u001b[0m\u001b[0mself\u001b[0m\u001b[0;34m,\u001b[0m \u001b[0mname\u001b[0m\u001b[0;34m)\u001b[0m\u001b[0;34m\u001b[0m\u001b[0m\n\u001b[0m\u001b[1;32m    246\u001b[0m             \u001b[0;31m#raise AttributeError(\"Attribute {} not found\".format(name))\u001b[0m\u001b[0;34m\u001b[0m\u001b[0;34m\u001b[0m\u001b[0m\n\u001b[1;32m    247\u001b[0m \u001b[0;34m\u001b[0m\u001b[0m\n",
      "\u001b[0;31mAttributeError\u001b[0m: 'RemoteObject' object has no attribute 'GPIO_set_to_analog'"
     ]
    }
   ],
   "source": [
    "my_drive.GPIO_set_to_analog(my_drive.get_gpio_port_by_pin(1), 1);"
   ]
  },
  {
   "cell_type": "code",
   "execution_count": 160,
   "metadata": {},
   "outputs": [
    {
     "data": {
      "text/plain": [
       "0.8596435189247131"
      ]
     },
     "execution_count": 160,
     "metadata": {},
     "output_type": "execute_result"
    }
   ],
   "source": [
    "my_drive.get_adc_voltage(1)"
   ]
  },
  {
   "cell_type": "code",
   "execution_count": 43,
   "metadata": {},
   "outputs": [
    {
     "ename": "AttributeError",
     "evalue": "'RemoteObject' object has no attribute 'get_gpio_port_by_pin'",
     "output_type": "error",
     "traceback": [
      "\u001b[0;31m---------------------------------------------------------------------------\u001b[0m",
      "\u001b[0;31mAttributeError\u001b[0m                            Traceback (most recent call last)",
      "\u001b[0;32m<ipython-input-43-5e772b7c7d72>\u001b[0m in \u001b[0;36m<module>\u001b[0;34m()\u001b[0m\n\u001b[0;32m----> 1\u001b[0;31m \u001b[0mmy_drive\u001b[0m\u001b[0;34m.\u001b[0m\u001b[0mget_gpio_port_by_pin\u001b[0m\u001b[0;34m(\u001b[0m\u001b[0;36m1\u001b[0m\u001b[0;34m)\u001b[0m\u001b[0;34m\u001b[0m\u001b[0m\n\u001b[0m",
      "\u001b[0;32m/anaconda3/lib/python3.7/site-packages/fibre/remote_object.py\u001b[0m in \u001b[0;36m__getattribute__\u001b[0;34m(self, name)\u001b[0m\n\u001b[1;32m    243\u001b[0m             \u001b[0;32mreturn\u001b[0m \u001b[0mattr\u001b[0m\u001b[0;34m\u001b[0m\u001b[0m\n\u001b[1;32m    244\u001b[0m         \u001b[0;32melse\u001b[0m\u001b[0;34m:\u001b[0m\u001b[0;34m\u001b[0m\u001b[0m\n\u001b[0;32m--> 245\u001b[0;31m             \u001b[0;32mreturn\u001b[0m \u001b[0mobject\u001b[0m\u001b[0;34m.\u001b[0m\u001b[0m__getattribute__\u001b[0m\u001b[0;34m(\u001b[0m\u001b[0mself\u001b[0m\u001b[0;34m,\u001b[0m \u001b[0mname\u001b[0m\u001b[0;34m)\u001b[0m\u001b[0;34m\u001b[0m\u001b[0m\n\u001b[0m\u001b[1;32m    246\u001b[0m             \u001b[0;31m#raise AttributeError(\"Attribute {} not found\".format(name))\u001b[0m\u001b[0;34m\u001b[0m\u001b[0;34m\u001b[0m\u001b[0m\n\u001b[1;32m    247\u001b[0m \u001b[0;34m\u001b[0m\u001b[0m\n",
      "\u001b[0;31mAttributeError\u001b[0m: 'RemoteObject' object has no attribute 'get_gpio_port_by_pin'"
     ]
    }
   ],
   "source": [
    "my_drive.get_gpio_port_by_pin(1)"
   ]
  },
  {
   "cell_type": "code",
   "execution_count": 206,
   "metadata": {},
   "outputs": [
    {
     "ename": "KeyboardInterrupt",
     "evalue": "",
     "output_type": "error",
     "traceback": [
      "\u001b[0;31m---------------------------------------------------------------------------\u001b[0m",
      "\u001b[0;31mKeyboardInterrupt\u001b[0m                         Traceback (most recent call last)",
      "\u001b[0;32m<ipython-input-206-6305a5fc6b11>\u001b[0m in \u001b[0;36m<module>\u001b[0;34m()\u001b[0m\n\u001b[1;32m     19\u001b[0m \u001b[0;34m\u001b[0m\u001b[0m\n\u001b[1;32m     20\u001b[0m \u001b[0;34m\u001b[0m\u001b[0m\n\u001b[0;32m---> 21\u001b[0;31m     \u001b[0mtime\u001b[0m\u001b[0;34m.\u001b[0m\u001b[0msleep\u001b[0m\u001b[0;34m(\u001b[0m\u001b[0;36m0.001\u001b[0m\u001b[0;34m)\u001b[0m\u001b[0;34m\u001b[0m\u001b[0m\n\u001b[0m\u001b[1;32m     22\u001b[0m \u001b[0;34m\u001b[0m\u001b[0m\n\u001b[1;32m     23\u001b[0m \u001b[0;31m# Some more things you can try:\u001b[0m\u001b[0;34m\u001b[0m\u001b[0;34m\u001b[0m\u001b[0m\n",
      "\u001b[0;31mKeyboardInterrupt\u001b[0m: "
     ]
    }
   ],
   "source": [
    "# A sine wave to test\n",
    "t0 = time.monotonic()\n",
    "time.sleep(1.7)\n",
    "t1 = time.monotonic()\n",
    "\n",
    "while True:\n",
    "    # prev 10000.0\n",
    "    setpoint = 1000.0 * math.sin((time.monotonic() - t0)*3)\n",
    "    setpoint1 = 1000.0 * math.sin((time.monotonic() - t1)*3)\n",
    "#     print(\"goto \" + str(int(setpoint)))\n",
    "\n",
    "    # go up and down trajectory\n",
    "    #my_drive.axis0.controller.pos_setpoint = setpoint-1000\n",
    "    #my_drive.axis1.controller.pos_setpoint = (setpoint-1000)\n",
    "\n",
    "    # make circle\n",
    "    my_drive.axis0.controller.pos_setpoint = setpoint-1500\n",
    "    my_drive.axis1.controller.pos_setpoint = (setpoint1-1500)\n",
    "    \n",
    "    \n",
    "    time.sleep(0.001)\n",
    "\n",
    "# Some more things you can try:"
   ]
  },
  {
   "cell_type": "code",
   "execution_count": 152,
   "metadata": {},
   "outputs": [
    {
     "ename": "AttributeError",
     "evalue": "Attribute vbus_voltage not found",
     "output_type": "error",
     "traceback": [
      "\u001b[0;31m---------------------------------------------------------------------------\u001b[0m",
      "\u001b[0;31mAttributeError\u001b[0m                            Traceback (most recent call last)",
      "\u001b[0;32m<ipython-input-152-c2a6e399fb1d>\u001b[0m in \u001b[0;36m<module>\u001b[0;34m()\u001b[0m\n\u001b[1;32m      1\u001b[0m \u001b[0;31m# Write to a read-only property:\u001b[0m\u001b[0;34m\u001b[0m\u001b[0;34m\u001b[0m\u001b[0m\n\u001b[0;32m----> 2\u001b[0;31m \u001b[0mmy_drive\u001b[0m\u001b[0;34m.\u001b[0m\u001b[0mvbus_voltage\u001b[0m \u001b[0;34m=\u001b[0m \u001b[0;36m11.0\u001b[0m  \u001b[0;31m# fails with `AttributeError: can't set attribute`\u001b[0m\u001b[0;34m\u001b[0m\u001b[0m\n\u001b[0m\u001b[1;32m      3\u001b[0m \u001b[0;34m\u001b[0m\u001b[0m\n\u001b[1;32m      4\u001b[0m \u001b[0;31m# Assign an incompatible value:\u001b[0m\u001b[0;34m\u001b[0m\u001b[0;34m\u001b[0m\u001b[0m\n\u001b[1;32m      5\u001b[0m \u001b[0mmy_drive\u001b[0m\u001b[0;34m.\u001b[0m\u001b[0mmotor0\u001b[0m\u001b[0;34m.\u001b[0m\u001b[0mpos_setpoint\u001b[0m \u001b[0;34m=\u001b[0m \u001b[0;34m\"I like trains\"\u001b[0m  \u001b[0;31m# fails with `ValueError: could not convert string to float`\u001b[0m\u001b[0;34m\u001b[0m\u001b[0m\n",
      "\u001b[0;32m/anaconda3/lib/python3.7/site-packages/fibre/remote_object.py\u001b[0m in \u001b[0;36m__setattr__\u001b[0;34m(self, name, value)\u001b[0m\n\u001b[1;32m    256\u001b[0m             \u001b[0mobject\u001b[0m\u001b[0;34m.\u001b[0m\u001b[0m__getattribute__\u001b[0m\u001b[0;34m(\u001b[0m\u001b[0mself\u001b[0m\u001b[0;34m,\u001b[0m \u001b[0;34m\"__dict__\"\u001b[0m\u001b[0;34m)\u001b[0m\u001b[0;34m[\u001b[0m\u001b[0mname\u001b[0m\u001b[0;34m]\u001b[0m \u001b[0;34m=\u001b[0m \u001b[0mvalue\u001b[0m\u001b[0;34m\u001b[0m\u001b[0m\n\u001b[1;32m    257\u001b[0m         \u001b[0;32melse\u001b[0m\u001b[0;34m:\u001b[0m\u001b[0;34m\u001b[0m\u001b[0m\n\u001b[0;32m--> 258\u001b[0;31m             \u001b[0;32mraise\u001b[0m \u001b[0mAttributeError\u001b[0m\u001b[0;34m(\u001b[0m\u001b[0;34m\"Attribute {} not found\"\u001b[0m\u001b[0;34m.\u001b[0m\u001b[0mformat\u001b[0m\u001b[0;34m(\u001b[0m\u001b[0mname\u001b[0m\u001b[0;34m)\u001b[0m\u001b[0;34m)\u001b[0m\u001b[0;34m\u001b[0m\u001b[0m\n\u001b[0m\u001b[1;32m    259\u001b[0m \u001b[0;34m\u001b[0m\u001b[0m\n\u001b[1;32m    260\u001b[0m     \u001b[0;32mdef\u001b[0m \u001b[0m_tear_down\u001b[0m\u001b[0;34m(\u001b[0m\u001b[0mself\u001b[0m\u001b[0;34m)\u001b[0m\u001b[0;34m:\u001b[0m\u001b[0;34m\u001b[0m\u001b[0m\n",
      "\u001b[0;31mAttributeError\u001b[0m: Attribute vbus_voltage not found"
     ]
    }
   ],
   "source": [
    "# Write to a read-only property:\n",
    "my_drive.vbus_voltage = 11.0  # fails with `AttributeError: can't set attribute`\n",
    "\n",
    "# Assign an incompatible value:\n",
    "my_drive.motor0.pos_setpoint = \"I like trains\"  # fails with `ValueError: could not convert string to float`"
   ]
  },
  {
   "cell_type": "code",
   "execution_count": null,
   "metadata": {},
   "outputs": [],
   "source": [
    "import sys\n",
    "sys.version"
   ]
  },
  {
   "cell_type": "code",
   "execution_count": null,
   "metadata": {},
   "outputs": [],
   "source": []
  }
 ],
 "metadata": {
  "kernelspec": {
   "display_name": "Python 3",
   "language": "python",
   "name": "python3"
  },
  "language_info": {
   "codemirror_mode": {
    "name": "ipython",
    "version": 3
   },
   "file_extension": ".py",
   "mimetype": "text/x-python",
   "name": "python",
   "nbconvert_exporter": "python",
   "pygments_lexer": "ipython3",
   "version": "3.7.0"
  }
 },
 "nbformat": 4,
 "nbformat_minor": 2
}
