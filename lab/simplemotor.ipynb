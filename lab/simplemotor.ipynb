{
 "cells": [
  {
   "cell_type": "code",
   "execution_count": 19,
   "metadata": {},
   "outputs": [],
   "source": [
    "# ---------------------------------Load Odrive----------------------------------------------------"
   ]
  },
  {
   "cell_type": "code",
   "execution_count": 461,
   "metadata": {},
   "outputs": [
    {
     "name": "stdout",
     "output_type": "stream",
     "text": [
      "finding an odrive...\n"
     ]
    }
   ],
   "source": [
    "\"\"\"\n",
    "Example usage of the ODrive python library to monitor and control ODrive devices\n",
    "\"\"\"\n",
    "\n",
    "from __future__ import print_function\n",
    "\n",
    "import odrive\n",
    "from odrive.enums import *\n",
    "import time\n",
    "import math\n",
    "\n",
    "# Find a connected ODrive (this will block until you connect one)\n",
    "print(\"finding an odrive...\")\n",
    "my_drive = odrive.find_any()\n",
    "\n",
    "# Find an ODrive that is connected on the serial port /dev/ttyUSB0\n",
    "#my_drive = odrive.find_any(\"serial:/dev/ttyUSB0\")"
   ]
  },
  {
   "cell_type": "code",
   "execution_count": 247,
   "metadata": {},
   "outputs": [],
   "source": [
    "# -------------------------------------Reboot-------------------------------------------------------"
   ]
  },
  {
   "cell_type": "code",
   "execution_count": null,
   "metadata": {},
   "outputs": [],
   "source": [
    "my_drive.reboot()"
   ]
  },
  {
   "cell_type": "code",
   "execution_count": 57,
   "metadata": {},
   "outputs": [],
   "source": [
    "# ---------------------------------Configuration Values----------------------------------------------"
   ]
  },
  {
   "cell_type": "code",
   "execution_count": 462,
   "metadata": {},
   "outputs": [
    {
     "data": {
      "text/plain": [
       "control_mode = 3 (int)\n",
       "pos_gain = 5.0 (float)\n",
       "vel_gain = 0.0003000000142492354 (float)\n",
       "vel_integrator_gain = 0.0 (float)\n",
       "vel_limit = 20000.0 (float)"
      ]
     },
     "execution_count": 462,
     "metadata": {},
     "output_type": "execute_result"
    }
   ],
   "source": [
    "my_drive.axis0.controller.config"
   ]
  },
  {
   "cell_type": "code",
   "execution_count": 155,
   "metadata": {},
   "outputs": [],
   "source": [
    "my_drive.axis0.controller.config.control_mode = 3 \n",
    "my_drive.axis0.controller.config.pos_gain = 5.0 \n",
    "my_drive.axis0.controller.config.vel_gain = 0.0003000000142492354 \n",
    "my_drive.axis0.controller.config.vel_integrator_gain = 0.0\n",
    "my_drive.axis0.controller.config.vel_limit = 20000.0 "
   ]
  },
  {
   "cell_type": "code",
   "execution_count": 39,
   "metadata": {},
   "outputs": [],
   "source": [
    "my_drive.axis0.controller.config.pos_gain = 60.0"
   ]
  },
  {
   "cell_type": "code",
   "execution_count": 14,
   "metadata": {},
   "outputs": [],
   "source": [
    "my_drive.axis0.controller.config.vel_gain = 0.0006000000142492354"
   ]
  },
  {
   "cell_type": "code",
   "execution_count": 167,
   "metadata": {},
   "outputs": [],
   "source": [
    "my_drive.axis0.controller.config.vel_integrator_gain = 0.00"
   ]
  },
  {
   "cell_type": "code",
   "execution_count": 102,
   "metadata": {},
   "outputs": [],
   "source": [
    "my_drive.axis1.controller.config.pos_gain = 60.0"
   ]
  },
  {
   "cell_type": "code",
   "execution_count": 103,
   "metadata": {},
   "outputs": [],
   "source": [
    "my_drive.axis1.controller.config.vel_gain = 0.0006000000142492354"
   ]
  },
  {
   "cell_type": "code",
   "execution_count": 184,
   "metadata": {},
   "outputs": [],
   "source": [
    "my_drive.axis1.controller.config.vel_integrator_gain = 0.00"
   ]
  },
  {
   "cell_type": "code",
   "execution_count": 161,
   "metadata": {},
   "outputs": [
    {
     "data": {
      "text/plain": [
       "pre_calibrated = False (bool)\n",
       "pole_pairs = 7 (int)\n",
       "calibration_current = 8.0 (float)\n",
       "resistance_calib_max_voltage = 2.0 (float)\n",
       "phase_inductance = 0.0 (float)\n",
       "phase_resistance = 0.0 (float)\n",
       "direction = -1 (int)\n",
       "motor_type = 2 (int)\n",
       "current_lim = 20.0 (float)\n",
       "requested_current_range = 60.0 (float)"
      ]
     },
     "execution_count": 161,
     "metadata": {},
     "output_type": "execute_result"
    }
   ],
   "source": [
    "my_drive.axis0.motor.config"
   ]
  },
  {
   "cell_type": "code",
   "execution_count": 156,
   "metadata": {},
   "outputs": [],
   "source": [
    "my_drive.axis0.motor.config.pre_calibrated = False \n",
    "my_drive.axis0.motor.config.pole_pairs = 7 \n",
    "my_drive.axis0.motor.config.calibration_current = 8.0 \n",
    "my_drive.axis0.motor.config.resistance_calib_max_voltage = 2.0 \n",
    "my_drive.axis0.motor.config.phase_inductance = 0.0\n",
    "my_drive.axis0.motor.config.phase_resistance = 0.0 \n",
    "my_drive.axis0.motor.config.direction = 1 \n",
    "my_drive.axis0.motor.config.motor_type = 2 \n",
    "my_drive.axis0.motor.config.current_lim = 20.0 \n",
    "my_drive.axis0.motor.config.requested_current_range = 60.0 "
   ]
  },
  {
   "cell_type": "code",
   "execution_count": 162,
   "metadata": {},
   "outputs": [
    {
     "data": {
      "text/plain": [
       "mode = 0 (int)\n",
       "use_index = True (bool)\n",
       "pre_calibrated = False (bool)\n",
       "idx_search_speed = 10.0 (float)\n",
       "cpr = 8192 (int)\n",
       "offset = 28711 (int)\n",
       "offset_float = 1.1356782913208008 (float)\n",
       "calib_range = 0.019999999552965164 (float)"
      ]
     },
     "execution_count": 162,
     "metadata": {},
     "output_type": "execute_result"
    }
   ],
   "source": [
    "my_drive.axis0.encoder.config"
   ]
  },
  {
   "cell_type": "code",
   "execution_count": 157,
   "metadata": {},
   "outputs": [],
   "source": [
    "my_drive.axis0.encoder.config.mode = 0 \n",
    "my_drive.axis0.encoder.config.use_index = False\n",
    "my_drive.axis0.encoder.config.pre_calibrated = False\n",
    "my_drive.axis0.encoder.config.idx_search_speed = 10.0 \n",
    "my_drive.axis0.encoder.config.cpr = 8192\n",
    "my_drive.axis0.encoder.config.offset = -4392 \n",
    "my_drive.axis0.encoder.config.offset_float = -0.030671894550323486 \n",
    "my_drive.axis0.encoder.config.calib_range = 0.019999999552965164"
   ]
  },
  {
   "cell_type": "code",
   "execution_count": 157,
   "metadata": {},
   "outputs": [
    {
     "data": {
      "text/plain": [
       "control_mode = 3 (int)\n",
       "pos_gain = 5.0 (float)\n",
       "vel_gain = 0.0003000000142492354 (float)\n",
       "vel_integrator_gain = 0.0 (float)\n",
       "vel_limit = 20000.0 (float)\n",
       "vel_limit_tolerance = 1.2000000476837158 (float)\n",
       "vel_ramp_rate = 10000.0 (float)\n",
       "setpoints_in_cpr = False (bool)"
      ]
     },
     "execution_count": 157,
     "metadata": {},
     "output_type": "execute_result"
    }
   ],
   "source": [
    "my_drive.axis1.controller.config"
   ]
  },
  {
   "cell_type": "code",
   "execution_count": 83,
   "metadata": {},
   "outputs": [],
   "source": [
    "my_drive.axis1.controller.config.control_mode = 3 \n",
    "my_drive.axis1.controller.config.pos_gain = 5.0 \n",
    "my_drive.axis1.controller.config.vel_gain = 0.0003000000142492354 \n",
    "my_drive.axis1.controller.config.vel_integrator_gain = 0.0\n",
    "my_drive.axis1.controller.config.vel_limit = 20000.0 "
   ]
  },
  {
   "cell_type": "code",
   "execution_count": 454,
   "metadata": {},
   "outputs": [
    {
     "data": {
      "text/plain": [
       "pre_calibrated = False (bool)\n",
       "pole_pairs = 7 (int)\n",
       "calibration_current = 5.0 (float)\n",
       "resistance_calib_max_voltage = 2.0 (float)\n",
       "phase_inductance = 0.0 (float)\n",
       "phase_resistance = 0.0 (float)\n",
       "direction = -1 (int)\n",
       "motor_type = 2 (int)\n",
       "current_lim = 20.0 (float)\n",
       "requested_current_range = 60.0 (float)"
      ]
     },
     "execution_count": 454,
     "metadata": {},
     "output_type": "execute_result"
    }
   ],
   "source": [
    "my_drive.axis1.motor.config"
   ]
  },
  {
   "cell_type": "code",
   "execution_count": 455,
   "metadata": {},
   "outputs": [],
   "source": [
    "my_drive.axis1.motor.config.pre_calibrated = False \n",
    "my_drive.axis1.motor.config.pole_pairs = 7 \n",
    "my_drive.axis1.motor.config.calibration_current = 8.0 \n",
    "my_drive.axis1.motor.config.resistance_calib_max_voltage = 2.0 \n",
    "my_drive.axis1.motor.config.phase_inductance = 0.0\n",
    "my_drive.axis1.motor.config.phase_resistance = 0.0 \n",
    "my_drive.axis1.motor.config.direction = 1 \n",
    "my_drive.axis1.motor.config.motor_type = 2 \n",
    "my_drive.axis1.motor.config.current_lim = 20.0 \n",
    "my_drive.axis1.motor.config.requested_current_range = 60.0 "
   ]
  },
  {
   "cell_type": "code",
   "execution_count": 160,
   "metadata": {},
   "outputs": [
    {
     "data": {
      "text/plain": [
       "mode = 0 (int)\n",
       "use_index = True (bool)\n",
       "pre_calibrated = True (bool)\n",
       "idx_search_speed = 10.0 (float)\n",
       "zero_count_on_find_idx = True (bool)\n",
       "cpr = 8192 (int)\n",
       "offset = -4392 (int)\n",
       "offset_float = -0.030671894550323486 (float)\n",
       "bandwidth = 1000.0 (float)\n",
       "calib_range = 0.019999999552965164 (float)"
      ]
     },
     "execution_count": 160,
     "metadata": {},
     "output_type": "execute_result"
    }
   ],
   "source": [
    "my_drive.axis1.encoder.config"
   ]
  },
  {
   "cell_type": "code",
   "execution_count": 85,
   "metadata": {},
   "outputs": [],
   "source": [
    "my_drive.axis1.encoder.config.mode = 0 \n",
    "my_drive.axis1.encoder.config.use_index = False\n",
    "my_drive.axis1.encoder.config.pre_calibrated = False\n",
    "my_drive.axis1.encoder.config.idx_search_speed = 10.0 \n",
    "my_drive.axis1.encoder.config.cpr = 8192\n",
    "my_drive.axis1.encoder.config.offset = -4392 \n",
    "my_drive.axis1.encoder.config.offset_float = -0.030671894550323486 \n",
    "my_drive.axis1.encoder.config.calib_range = 0.019999999552965164"
   ]
  },
  {
   "cell_type": "code",
   "execution_count": 80,
   "metadata": {},
   "outputs": [
    {
     "data": {
      "text/plain": [
       "18.950830459594727"
      ]
     },
     "execution_count": 80,
     "metadata": {},
     "output_type": "execute_result"
    }
   ],
   "source": [
    "my_drive.vbus_voltage"
   ]
  },
  {
   "cell_type": "code",
   "execution_count": null,
   "metadata": {},
   "outputs": [],
   "source": [
    "# ---------------------------------Motor Setup----------------------------------------------------------"
   ]
  },
  {
   "cell_type": "code",
   "execution_count": 365,
   "metadata": {},
   "outputs": [],
   "source": [
    "# Set up the motor to allow calibration\n",
    "my_drive.axis0.motor.config.calibration_current = 8.0\n",
    "my_drive.axis0.motor.config.current_lim = 20.0\n",
    "my_drive.axis0.motor.config.motor_type = 2"
   ]
  },
  {
   "cell_type": "code",
   "execution_count": 415,
   "metadata": {},
   "outputs": [],
   "source": [
    "# Set up the motor to allow calibration\n",
    "my_drive.axis1.motor.config.calibration_current = 5.0\n",
    "my_drive.axis1.motor.config.current_lim = 20.0\n",
    "my_drive.axis1.motor.config.motor_type = 2"
   ]
  },
  {
   "cell_type": "code",
   "execution_count": 81,
   "metadata": {},
   "outputs": [],
   "source": [
    "# ---------------------------------Calibration modes----------------------------------------------------"
   ]
  },
  {
   "cell_type": "code",
   "execution_count": 253,
   "metadata": {
    "scrolled": true
   },
   "outputs": [
    {
     "name": "stdout",
     "output_type": "stream",
     "text": [
      "starting calibration...\n"
     ]
    }
   ],
   "source": [
    "# Full calibration\n",
    "print(\"starting calibration...\")\n",
    "my_drive.axis0.requested_state = AXIS_STATE_FULL_CALIBRATION_SEQUENCE\n",
    "while my_drive.axis0.current_state != AXIS_STATE_IDLE:\n",
    "    time.sleep(0.1)"
   ]
  },
  {
   "cell_type": "code",
   "execution_count": 463,
   "metadata": {},
   "outputs": [],
   "source": [
    "# Calibration to search index \n",
    "my_drive.axis0.requested_state = AXIS_STATE_ENCODER_INDEX_SEARCH"
   ]
  },
  {
   "cell_type": "code",
   "execution_count": 390,
   "metadata": {},
   "outputs": [
    {
     "name": "stdout",
     "output_type": "stream",
     "text": [
      "starting calibration...\n"
     ]
    }
   ],
   "source": [
    "# Full calibration\n",
    "print(\"starting calibration...\")\n",
    "my_drive.axis1.requested_state = AXIS_STATE_FULL_CALIBRATION_SEQUENCE\n",
    "while my_drive.axis1.current_state != AXIS_STATE_IDLE:\n",
    "    time.sleep(0.1)"
   ]
  },
  {
   "cell_type": "code",
   "execution_count": 469,
   "metadata": {},
   "outputs": [],
   "source": [
    "# Calibration to search index \n",
    "my_drive.axis1.requested_state = AXIS_STATE_ENCODER_INDEX_SEARCH"
   ]
  },
  {
   "cell_type": "code",
   "execution_count": 12,
   "metadata": {},
   "outputs": [],
   "source": [
    "my_drive.axis1.encoder.config.idx_search_speed = 10.0"
   ]
  },
  {
   "cell_type": "code",
   "execution_count": 101,
   "metadata": {},
   "outputs": [],
   "source": [
    "# ---------------------------------Closed Loop Control-------------------------------------------------"
   ]
  },
  {
   "cell_type": "code",
   "execution_count": 34,
   "metadata": {},
   "outputs": [],
   "source": [
    "my_drive.axis0.requested_state = AXIS_STATE_CLOSED_LOOP_CONTROL"
   ]
  },
  {
   "cell_type": "code",
   "execution_count": 90,
   "metadata": {},
   "outputs": [],
   "source": [
    "my_drive.axis0.requested_state = AXIS_STATE_IDLE"
   ]
  },
  {
   "cell_type": "code",
   "execution_count": 20,
   "metadata": {},
   "outputs": [],
   "source": [
    "my_drive.axis0.controller.config.control_mode = 3"
   ]
  },
  {
   "cell_type": "code",
   "execution_count": 44,
   "metadata": {},
   "outputs": [],
   "source": [
    "# 1300 makes axis0 at zero position, with pos_gain 60\n",
    "# -650 makes axis0 at theta1 90 degrees, pos_gain\n",
    "my_drive.axis0.controller.pos_setpoint = 1300"
   ]
  },
  {
   "cell_type": "code",
   "execution_count": null,
   "metadata": {},
   "outputs": [],
   "source": [
    "my_drive.axis0.controller.vel_setpoint = 1"
   ]
  },
  {
   "cell_type": "code",
   "execution_count": null,
   "metadata": {},
   "outputs": [],
   "source": [
    "my_drive.axis0.controller.current_setpoint = 1"
   ]
  },
  {
   "cell_type": "code",
   "execution_count": 90,
   "metadata": {},
   "outputs": [],
   "source": [
    "# Default control\n",
    "my_drive.axis0.controller.config.vel_integrator_gain = 0.0010000000474974513\n",
    "my_drive.axis0.controller.config.vel_gain = 0.0005000000237487257\n",
    "my_drive.axis0.controller.config.pos_gain = 20.0"
   ]
  },
  {
   "cell_type": "code",
   "execution_count": 91,
   "metadata": {},
   "outputs": [],
   "source": [
    "# Spring-like control\n",
    "my_drive.axis0.controller.config.vel_integrator_gain = 0\n",
    "my_drive.axis0.controller.config.vel_gain = 0.0003\n",
    "my_drive.axis0.controller.config.pos_gain = 5"
   ]
  },
  {
   "cell_type": "code",
   "execution_count": 94,
   "metadata": {},
   "outputs": [],
   "source": [
    "# Testing out control\n",
    "my_drive.axis0.controller.config.vel_integrator_gain = 0\n",
    "my_drive.axis0.controller.config.vel_gain = 0.00035\n",
    "my_drive.axis0.controller.config.pos_gain = 6"
   ]
  },
  {
   "cell_type": "code",
   "execution_count": null,
   "metadata": {},
   "outputs": [],
   "source": [
    "CTRL_MODE_CURRENT_CONTROL"
   ]
  },
  {
   "cell_type": "code",
   "execution_count": 87,
   "metadata": {},
   "outputs": [
    {
     "data": {
      "text/plain": [
       "p_gain = 0.0 (float)\n",
       "i_gain = nan (float)\n",
       "v_current_control_integral_d = 0.0 (float)\n",
       "v_current_control_integral_q = 0.0 (float)\n",
       "Ibus = 0.0 (float)\n",
       "final_v_alpha = 0.0 (float)\n",
       "final_v_beta = 0.0 (float)\n",
       "Iq_setpoint = 0.0 (float)\n",
       "Iq_measured = 0.0 (float)\n",
       "max_allowed_current = 60.75 (float)\n",
       "overcurrent_trip_level = 67.5 (float)"
      ]
     },
     "execution_count": 87,
     "metadata": {},
     "output_type": "execute_result"
    }
   ],
   "source": [
    "my_drive.axis0.motor.current_control"
   ]
  },
  {
   "cell_type": "code",
   "execution_count": 458,
   "metadata": {},
   "outputs": [],
   "source": [
    "my_drive.axis1.requested_state = AXIS_STATE_CLOSED_LOOP_CONTROL"
   ]
  },
  {
   "cell_type": "code",
   "execution_count": 472,
   "metadata": {},
   "outputs": [],
   "source": [
    "my_drive.axis1.requested_state = AXIS_STATE_IDLE"
   ]
  },
  {
   "cell_type": "code",
   "execution_count": 24,
   "metadata": {},
   "outputs": [],
   "source": [
    "my_drive.axis1.controller.config.control_mode = 3"
   ]
  },
  {
   "cell_type": "code",
   "execution_count": 51,
   "metadata": {},
   "outputs": [],
   "source": [
    "# 1450 makes axis1 at zero position, with gain 30\n",
    "# 0 makes axis1 at theta2 at 90, with gain 30\n",
    "my_drive.axis1.controller.pos_setpoint = 0"
   ]
  },
  {
   "cell_type": "code",
   "execution_count": null,
   "metadata": {},
   "outputs": [],
   "source": [
    "# ---------------------------------Index Saving Setup---------------------------------------------------"
   ]
  },
  {
   "cell_type": "code",
   "execution_count": null,
   "metadata": {},
   "outputs": [],
   "source": [
    "# With this configuration, we only need to do this after each reboot:\n",
    "# my_drive.axis0.requested_state = AXIS_STATE_ENCODER_INDEX_SEARCH"
   ]
  },
  {
   "cell_type": "code",
   "execution_count": 195,
   "metadata": {},
   "outputs": [],
   "source": [
    "my_drive.axis0.encoder.config.use_index = True"
   ]
  },
  {
   "cell_type": "code",
   "execution_count": 196,
   "metadata": {},
   "outputs": [],
   "source": [
    "my_drive.axis0.requested_state = AXIS_STATE_ENCODER_INDEX_SEARCH"
   ]
  },
  {
   "cell_type": "code",
   "execution_count": 197,
   "metadata": {},
   "outputs": [],
   "source": [
    "my_drive.axis0.requested_state = AXIS_STATE_FULL_CALIBRATION_SEQUENCE"
   ]
  },
  {
   "cell_type": "code",
   "execution_count": 198,
   "metadata": {},
   "outputs": [],
   "source": [
    "my_drive.axis0.encoder.config.pre_calibrated = True"
   ]
  },
  {
   "cell_type": "code",
   "execution_count": 199,
   "metadata": {},
   "outputs": [],
   "source": [
    "my_drive.axis0.requested_state = AXIS_STATE_ENCODER_INDEX_SEARCH"
   ]
  },
  {
   "cell_type": "code",
   "execution_count": 200,
   "metadata": {},
   "outputs": [],
   "source": [
    "my_drive.axis0.motor.config.pre_calibrated = True"
   ]
  },
  {
   "cell_type": "code",
   "execution_count": 201,
   "metadata": {},
   "outputs": [],
   "source": [
    "my_drive.save_configuration()"
   ]
  },
  {
   "cell_type": "code",
   "execution_count": 473,
   "metadata": {},
   "outputs": [],
   "source": [
    "my_drive.axis1.encoder.config.use_index = True"
   ]
  },
  {
   "cell_type": "code",
   "execution_count": 475,
   "metadata": {},
   "outputs": [],
   "source": [
    "my_drive.axis1.requested_state = AXIS_STATE_ENCODER_INDEX_SEARCH"
   ]
  },
  {
   "cell_type": "code",
   "execution_count": 476,
   "metadata": {},
   "outputs": [],
   "source": [
    "my_drive.axis1.requested_state = AXIS_STATE_FULL_CALIBRATION_SEQUENCE"
   ]
  },
  {
   "cell_type": "code",
   "execution_count": 437,
   "metadata": {},
   "outputs": [],
   "source": [
    "my_drive.axis1.encoder.config.pre_calibrated = False"
   ]
  },
  {
   "cell_type": "code",
   "execution_count": 381,
   "metadata": {},
   "outputs": [],
   "source": [
    "my_drive.axis1.requested_state = AXIS_STATE_ENCODER_INDEX_SEARCH"
   ]
  },
  {
   "cell_type": "code",
   "execution_count": 438,
   "metadata": {},
   "outputs": [],
   "source": [
    "my_drive.axis1.motor.config.pre_calibrated = False"
   ]
  },
  {
   "cell_type": "code",
   "execution_count": 102,
   "metadata": {},
   "outputs": [],
   "source": [
    "my_drive.save_configuration()"
   ]
  },
  {
   "cell_type": "code",
   "execution_count": 71,
   "metadata": {},
   "outputs": [],
   "source": [
    "# ---------------------------------Testings-----------------------------------------------------------"
   ]
  },
  {
   "cell_type": "code",
   "execution_count": 184,
   "metadata": {},
   "outputs": [
    {
     "data": {
      "text/plain": [
       "2.999999761581421"
      ]
     },
     "execution_count": 184,
     "metadata": {},
     "output_type": "execute_result"
    }
   ],
   "source": [
    "my_drive.axis1.encoder.pos_estimate"
   ]
  },
  {
   "cell_type": "code",
   "execution_count": 185,
   "metadata": {},
   "outputs": [
    {
     "data": {
      "text/plain": [
       "0.0"
      ]
     },
     "execution_count": 185,
     "metadata": {},
     "output_type": "execute_result"
    }
   ],
   "source": [
    "my_drive.axis1.encoder.vel_estimate"
   ]
  },
  {
   "cell_type": "code",
   "execution_count": 68,
   "metadata": {},
   "outputs": [
    {
     "data": {
      "text/plain": [
       "0.0"
      ]
     },
     "execution_count": 68,
     "metadata": {},
     "output_type": "execute_result"
    }
   ],
   "source": [
    "my_drive.axis0.motor.current_control.Iq_measured"
   ]
  },
  {
   "cell_type": "code",
   "execution_count": null,
   "metadata": {},
   "outputs": [],
   "source": [
    "# ----------------------------------Other features-----------------------------------------------------"
   ]
  },
  {
   "cell_type": "code",
   "execution_count": null,
   "metadata": {},
   "outputs": [],
   "source": [
    "# To read a value, simply read the property\n",
    "print(\"Bus voltage is \" + str(my_drive.vbus_voltage) + \"V\")\n",
    "\n",
    "# Or to change a value, just assign to the property\n",
    "my_drive.axis0.controller.pos_setpoint = 3.14\n",
    "print(\"Position setpoint is \" + str(my_drive.axis0.controller.pos_setpoint))"
   ]
  },
  {
   "cell_type": "code",
   "execution_count": 41,
   "metadata": {
    "scrolled": true
   },
   "outputs": [
    {
     "name": "stdout",
     "output_type": "stream",
     "text": [
      "voltage on GPIO1 is 0.7508788704872131 Volt\n",
      "voltage on GPIO2 is 0.6380859017372131 Volt\n",
      "voltage on GPIO3 is 0.652587890625 Volt\n",
      "voltage on GPIO4 is 0.701733410358429 Volt\n",
      "voltage on GPIO5 is 1.4381103515625 Volt\n",
      "voltage on GPIO6 is nan Volt\n",
      "voltage on GPIO7 is nan Volt\n",
      "voltage on GPIO8 is nan Volt\n"
     ]
    }
   ],
   "source": [
    "# And this is how function calls are done:\n",
    "for i in [1,2,3,4,5,6,7,8]:\n",
    "    print('voltage on GPIO{} is {} Volt'.format(i, my_drive.get_adc_voltage(i)))"
   ]
  },
  {
   "cell_type": "code",
   "execution_count": 42,
   "metadata": {},
   "outputs": [
    {
     "ename": "AttributeError",
     "evalue": "'RemoteObject' object has no attribute 'GPIO_set_to_analog'",
     "output_type": "error",
     "traceback": [
      "\u001b[0;31m---------------------------------------------------------------------------\u001b[0m",
      "\u001b[0;31mAttributeError\u001b[0m                            Traceback (most recent call last)",
      "\u001b[0;32m<ipython-input-42-7cf62efb25fb>\u001b[0m in \u001b[0;36m<module>\u001b[0;34m()\u001b[0m\n\u001b[0;32m----> 1\u001b[0;31m \u001b[0mmy_drive\u001b[0m\u001b[0;34m.\u001b[0m\u001b[0mGPIO_set_to_analog\u001b[0m\u001b[0;34m(\u001b[0m\u001b[0mmy_drive\u001b[0m\u001b[0;34m.\u001b[0m\u001b[0mget_gpio_port_by_pin\u001b[0m\u001b[0;34m(\u001b[0m\u001b[0;36m1\u001b[0m\u001b[0;34m)\u001b[0m\u001b[0;34m,\u001b[0m \u001b[0;36m1\u001b[0m\u001b[0;34m)\u001b[0m\u001b[0;34m;\u001b[0m\u001b[0;34m\u001b[0m\u001b[0m\n\u001b[0m",
      "\u001b[0;32m/anaconda3/lib/python3.7/site-packages/fibre/remote_object.py\u001b[0m in \u001b[0;36m__getattribute__\u001b[0;34m(self, name)\u001b[0m\n\u001b[1;32m    243\u001b[0m             \u001b[0;32mreturn\u001b[0m \u001b[0mattr\u001b[0m\u001b[0;34m\u001b[0m\u001b[0m\n\u001b[1;32m    244\u001b[0m         \u001b[0;32melse\u001b[0m\u001b[0;34m:\u001b[0m\u001b[0;34m\u001b[0m\u001b[0m\n\u001b[0;32m--> 245\u001b[0;31m             \u001b[0;32mreturn\u001b[0m \u001b[0mobject\u001b[0m\u001b[0;34m.\u001b[0m\u001b[0m__getattribute__\u001b[0m\u001b[0;34m(\u001b[0m\u001b[0mself\u001b[0m\u001b[0;34m,\u001b[0m \u001b[0mname\u001b[0m\u001b[0;34m)\u001b[0m\u001b[0;34m\u001b[0m\u001b[0m\n\u001b[0m\u001b[1;32m    246\u001b[0m             \u001b[0;31m#raise AttributeError(\"Attribute {} not found\".format(name))\u001b[0m\u001b[0;34m\u001b[0m\u001b[0;34m\u001b[0m\u001b[0m\n\u001b[1;32m    247\u001b[0m \u001b[0;34m\u001b[0m\u001b[0m\n",
      "\u001b[0;31mAttributeError\u001b[0m: 'RemoteObject' object has no attribute 'GPIO_set_to_analog'"
     ]
    }
   ],
   "source": [
    "my_drive.GPIO_set_to_analog(my_drive.get_gpio_port_by_pin(1), 1);"
   ]
  },
  {
   "cell_type": "code",
   "execution_count": 45,
   "metadata": {},
   "outputs": [
    {
     "data": {
      "text/plain": [
       "0.760546863079071"
      ]
     },
     "execution_count": 45,
     "metadata": {},
     "output_type": "execute_result"
    }
   ],
   "source": [
    "my_drive.get_adc_voltage(1)"
   ]
  },
  {
   "cell_type": "code",
   "execution_count": 43,
   "metadata": {},
   "outputs": [
    {
     "ename": "AttributeError",
     "evalue": "'RemoteObject' object has no attribute 'get_gpio_port_by_pin'",
     "output_type": "error",
     "traceback": [
      "\u001b[0;31m---------------------------------------------------------------------------\u001b[0m",
      "\u001b[0;31mAttributeError\u001b[0m                            Traceback (most recent call last)",
      "\u001b[0;32m<ipython-input-43-5e772b7c7d72>\u001b[0m in \u001b[0;36m<module>\u001b[0;34m()\u001b[0m\n\u001b[0;32m----> 1\u001b[0;31m \u001b[0mmy_drive\u001b[0m\u001b[0;34m.\u001b[0m\u001b[0mget_gpio_port_by_pin\u001b[0m\u001b[0;34m(\u001b[0m\u001b[0;36m1\u001b[0m\u001b[0;34m)\u001b[0m\u001b[0;34m\u001b[0m\u001b[0m\n\u001b[0m",
      "\u001b[0;32m/anaconda3/lib/python3.7/site-packages/fibre/remote_object.py\u001b[0m in \u001b[0;36m__getattribute__\u001b[0;34m(self, name)\u001b[0m\n\u001b[1;32m    243\u001b[0m             \u001b[0;32mreturn\u001b[0m \u001b[0mattr\u001b[0m\u001b[0;34m\u001b[0m\u001b[0m\n\u001b[1;32m    244\u001b[0m         \u001b[0;32melse\u001b[0m\u001b[0;34m:\u001b[0m\u001b[0;34m\u001b[0m\u001b[0m\n\u001b[0;32m--> 245\u001b[0;31m             \u001b[0;32mreturn\u001b[0m \u001b[0mobject\u001b[0m\u001b[0;34m.\u001b[0m\u001b[0m__getattribute__\u001b[0m\u001b[0;34m(\u001b[0m\u001b[0mself\u001b[0m\u001b[0;34m,\u001b[0m \u001b[0mname\u001b[0m\u001b[0;34m)\u001b[0m\u001b[0;34m\u001b[0m\u001b[0m\n\u001b[0m\u001b[1;32m    246\u001b[0m             \u001b[0;31m#raise AttributeError(\"Attribute {} not found\".format(name))\u001b[0m\u001b[0;34m\u001b[0m\u001b[0;34m\u001b[0m\u001b[0m\n\u001b[1;32m    247\u001b[0m \u001b[0;34m\u001b[0m\u001b[0m\n",
      "\u001b[0;31mAttributeError\u001b[0m: 'RemoteObject' object has no attribute 'get_gpio_port_by_pin'"
     ]
    }
   ],
   "source": [
    "my_drive.get_gpio_port_by_pin(1)"
   ]
  },
  {
   "cell_type": "code",
   "execution_count": 151,
   "metadata": {},
   "outputs": [
    {
     "ename": "ChannelBrokenException",
     "evalue": "",
     "output_type": "error",
     "traceback": [
      "\u001b[0;31m---------------------------------------------------------------------------\u001b[0m",
      "\u001b[0;31mUSBError\u001b[0m                                  Traceback (most recent call last)",
      "\u001b[0;32m/anaconda3/lib/python3.7/site-packages/fibre/usbbulk_transport.py\u001b[0m in \u001b[0;36mprocess_packet\u001b[0;34m(self, usbBuffer)\u001b[0m\n\u001b[1;32m     97\u001b[0m     \u001b[0;32mtry\u001b[0m\u001b[0;34m:\u001b[0m\u001b[0;34m\u001b[0m\u001b[0m\n\u001b[0;32m---> 98\u001b[0;31m       \u001b[0mret\u001b[0m \u001b[0;34m=\u001b[0m \u001b[0mself\u001b[0m\u001b[0;34m.\u001b[0m\u001b[0mepw\u001b[0m\u001b[0;34m.\u001b[0m\u001b[0mwrite\u001b[0m\u001b[0;34m(\u001b[0m\u001b[0musbBuffer\u001b[0m\u001b[0;34m,\u001b[0m \u001b[0;36m0\u001b[0m\u001b[0;34m)\u001b[0m\u001b[0;34m\u001b[0m\u001b[0m\n\u001b[0m\u001b[1;32m     99\u001b[0m       \u001b[0;32mif\u001b[0m \u001b[0mself\u001b[0m\u001b[0;34m.\u001b[0m\u001b[0m_was_damaged\u001b[0m\u001b[0;34m:\u001b[0m\u001b[0;34m\u001b[0m\u001b[0m\n",
      "\u001b[0;32m/anaconda3/lib/python3.7/site-packages/usb/core.py\u001b[0m in \u001b[0;36mwrite\u001b[0;34m(self, data, timeout)\u001b[0m\n\u001b[1;32m    386\u001b[0m         \"\"\"\n\u001b[0;32m--> 387\u001b[0;31m         \u001b[0;32mreturn\u001b[0m \u001b[0mself\u001b[0m\u001b[0;34m.\u001b[0m\u001b[0mdevice\u001b[0m\u001b[0;34m.\u001b[0m\u001b[0mwrite\u001b[0m\u001b[0;34m(\u001b[0m\u001b[0mself\u001b[0m\u001b[0;34m,\u001b[0m \u001b[0mdata\u001b[0m\u001b[0;34m,\u001b[0m \u001b[0mtimeout\u001b[0m\u001b[0;34m)\u001b[0m\u001b[0;34m\u001b[0m\u001b[0m\n\u001b[0m\u001b[1;32m    388\u001b[0m \u001b[0;34m\u001b[0m\u001b[0m\n",
      "\u001b[0;32m/anaconda3/lib/python3.7/site-packages/usb/core.py\u001b[0m in \u001b[0;36mwrite\u001b[0;34m(self, endpoint, data, timeout)\u001b[0m\n\u001b[1;32m    939\u001b[0m \u001b[0;34m\u001b[0m\u001b[0m\n\u001b[0;32m--> 940\u001b[0;31m         \u001b[0mintf\u001b[0m\u001b[0;34m,\u001b[0m \u001b[0mep\u001b[0m \u001b[0;34m=\u001b[0m \u001b[0mself\u001b[0m\u001b[0;34m.\u001b[0m\u001b[0m_ctx\u001b[0m\u001b[0;34m.\u001b[0m\u001b[0msetup_request\u001b[0m\u001b[0;34m(\u001b[0m\u001b[0mself\u001b[0m\u001b[0;34m,\u001b[0m \u001b[0mendpoint\u001b[0m\u001b[0;34m)\u001b[0m\u001b[0;34m\u001b[0m\u001b[0m\n\u001b[0m\u001b[1;32m    941\u001b[0m         \u001b[0mfn\u001b[0m \u001b[0;34m=\u001b[0m \u001b[0mfn_map\u001b[0m\u001b[0;34m[\u001b[0m\u001b[0mutil\u001b[0m\u001b[0;34m.\u001b[0m\u001b[0mendpoint_type\u001b[0m\u001b[0;34m(\u001b[0m\u001b[0mep\u001b[0m\u001b[0;34m.\u001b[0m\u001b[0mbmAttributes\u001b[0m\u001b[0;34m)\u001b[0m\u001b[0;34m]\u001b[0m\u001b[0;34m\u001b[0m\u001b[0m\n",
      "\u001b[0;32m/anaconda3/lib/python3.7/site-packages/usb/core.py\u001b[0m in \u001b[0;36mwrapper\u001b[0;34m(self, *args, **kwargs)\u001b[0m\n\u001b[1;32m    101\u001b[0m             \u001b[0mself\u001b[0m\u001b[0;34m.\u001b[0m\u001b[0mlock\u001b[0m\u001b[0;34m.\u001b[0m\u001b[0macquire\u001b[0m\u001b[0;34m(\u001b[0m\u001b[0;34m)\u001b[0m\u001b[0;34m\u001b[0m\u001b[0m\n\u001b[0;32m--> 102\u001b[0;31m             \u001b[0;32mreturn\u001b[0m \u001b[0mf\u001b[0m\u001b[0;34m(\u001b[0m\u001b[0mself\u001b[0m\u001b[0;34m,\u001b[0m \u001b[0;34m*\u001b[0m\u001b[0margs\u001b[0m\u001b[0;34m,\u001b[0m \u001b[0;34m**\u001b[0m\u001b[0mkwargs\u001b[0m\u001b[0;34m)\u001b[0m\u001b[0;34m\u001b[0m\u001b[0m\n\u001b[0m\u001b[1;32m    103\u001b[0m         \u001b[0;32mfinally\u001b[0m\u001b[0;34m:\u001b[0m\u001b[0;34m\u001b[0m\u001b[0m\n",
      "\u001b[0;32m/anaconda3/lib/python3.7/site-packages/usb/core.py\u001b[0m in \u001b[0;36msetup_request\u001b[0;34m(self, device, endpoint)\u001b[0m\n\u001b[1;32m    215\u001b[0m         \u001b[0mintf\u001b[0m\u001b[0;34m,\u001b[0m \u001b[0mep\u001b[0m \u001b[0;34m=\u001b[0m \u001b[0mself\u001b[0m\u001b[0;34m.\u001b[0m\u001b[0mget_interface_and_endpoint\u001b[0m\u001b[0;34m(\u001b[0m\u001b[0mdevice\u001b[0m\u001b[0;34m,\u001b[0m \u001b[0mendpoint_address\u001b[0m\u001b[0;34m)\u001b[0m\u001b[0;34m\u001b[0m\u001b[0m\n\u001b[0;32m--> 216\u001b[0;31m         \u001b[0mself\u001b[0m\u001b[0;34m.\u001b[0m\u001b[0mmanaged_claim_interface\u001b[0m\u001b[0;34m(\u001b[0m\u001b[0mdevice\u001b[0m\u001b[0;34m,\u001b[0m \u001b[0mintf\u001b[0m\u001b[0;34m)\u001b[0m\u001b[0;34m\u001b[0m\u001b[0m\n\u001b[0m\u001b[1;32m    217\u001b[0m         \u001b[0;32mreturn\u001b[0m \u001b[0;34m(\u001b[0m\u001b[0mintf\u001b[0m\u001b[0;34m,\u001b[0m \u001b[0mep\u001b[0m\u001b[0;34m)\u001b[0m\u001b[0;34m\u001b[0m\u001b[0m\n",
      "\u001b[0;32m/anaconda3/lib/python3.7/site-packages/usb/core.py\u001b[0m in \u001b[0;36mwrapper\u001b[0;34m(self, *args, **kwargs)\u001b[0m\n\u001b[1;32m    101\u001b[0m             \u001b[0mself\u001b[0m\u001b[0;34m.\u001b[0m\u001b[0mlock\u001b[0m\u001b[0;34m.\u001b[0m\u001b[0macquire\u001b[0m\u001b[0;34m(\u001b[0m\u001b[0;34m)\u001b[0m\u001b[0;34m\u001b[0m\u001b[0m\n\u001b[0;32m--> 102\u001b[0;31m             \u001b[0;32mreturn\u001b[0m \u001b[0mf\u001b[0m\u001b[0;34m(\u001b[0m\u001b[0mself\u001b[0m\u001b[0;34m,\u001b[0m \u001b[0;34m*\u001b[0m\u001b[0margs\u001b[0m\u001b[0;34m,\u001b[0m \u001b[0;34m**\u001b[0m\u001b[0mkwargs\u001b[0m\u001b[0;34m)\u001b[0m\u001b[0;34m\u001b[0m\u001b[0m\n\u001b[0m\u001b[1;32m    103\u001b[0m         \u001b[0;32mfinally\u001b[0m\u001b[0;34m:\u001b[0m\u001b[0;34m\u001b[0m\u001b[0m\n",
      "\u001b[0;32m/anaconda3/lib/python3.7/site-packages/usb/core.py\u001b[0m in \u001b[0;36mmanaged_claim_interface\u001b[0;34m(self, device, intf)\u001b[0m\n\u001b[1;32m    166\u001b[0m         \u001b[0;32mif\u001b[0m \u001b[0mi\u001b[0m \u001b[0;32mnot\u001b[0m \u001b[0;32min\u001b[0m \u001b[0mself\u001b[0m\u001b[0;34m.\u001b[0m\u001b[0m_claimed_intf\u001b[0m\u001b[0;34m:\u001b[0m\u001b[0;34m\u001b[0m\u001b[0m\n\u001b[0;32m--> 167\u001b[0;31m             \u001b[0mself\u001b[0m\u001b[0;34m.\u001b[0m\u001b[0mbackend\u001b[0m\u001b[0;34m.\u001b[0m\u001b[0mclaim_interface\u001b[0m\u001b[0;34m(\u001b[0m\u001b[0mself\u001b[0m\u001b[0;34m.\u001b[0m\u001b[0mhandle\u001b[0m\u001b[0;34m,\u001b[0m \u001b[0mi\u001b[0m\u001b[0;34m)\u001b[0m\u001b[0;34m\u001b[0m\u001b[0m\n\u001b[0m\u001b[1;32m    168\u001b[0m             \u001b[0mself\u001b[0m\u001b[0;34m.\u001b[0m\u001b[0m_claimed_intf\u001b[0m\u001b[0;34m.\u001b[0m\u001b[0madd\u001b[0m\u001b[0;34m(\u001b[0m\u001b[0mi\u001b[0m\u001b[0;34m)\u001b[0m\u001b[0;34m\u001b[0m\u001b[0m\n",
      "\u001b[0;32m/anaconda3/lib/python3.7/site-packages/usb/backend/libusb1.py\u001b[0m in \u001b[0;36mclaim_interface\u001b[0;34m(self, dev_handle, intf)\u001b[0m\n\u001b[1;32m    810\u001b[0m     \u001b[0;32mdef\u001b[0m \u001b[0mclaim_interface\u001b[0m\u001b[0;34m(\u001b[0m\u001b[0mself\u001b[0m\u001b[0;34m,\u001b[0m \u001b[0mdev_handle\u001b[0m\u001b[0;34m,\u001b[0m \u001b[0mintf\u001b[0m\u001b[0;34m)\u001b[0m\u001b[0;34m:\u001b[0m\u001b[0;34m\u001b[0m\u001b[0m\n\u001b[0;32m--> 811\u001b[0;31m         \u001b[0m_check\u001b[0m\u001b[0;34m(\u001b[0m\u001b[0mself\u001b[0m\u001b[0;34m.\u001b[0m\u001b[0mlib\u001b[0m\u001b[0;34m.\u001b[0m\u001b[0mlibusb_claim_interface\u001b[0m\u001b[0;34m(\u001b[0m\u001b[0mdev_handle\u001b[0m\u001b[0;34m.\u001b[0m\u001b[0mhandle\u001b[0m\u001b[0;34m,\u001b[0m \u001b[0mintf\u001b[0m\u001b[0;34m)\u001b[0m\u001b[0;34m)\u001b[0m\u001b[0;34m\u001b[0m\u001b[0m\n\u001b[0m\u001b[1;32m    812\u001b[0m \u001b[0;34m\u001b[0m\u001b[0m\n",
      "\u001b[0;32m/anaconda3/lib/python3.7/site-packages/usb/backend/libusb1.py\u001b[0m in \u001b[0;36m_check\u001b[0;34m(ret)\u001b[0m\n\u001b[1;32m    594\u001b[0m         \u001b[0;32melse\u001b[0m\u001b[0;34m:\u001b[0m\u001b[0;34m\u001b[0m\u001b[0m\n\u001b[0;32m--> 595\u001b[0;31m             \u001b[0;32mraise\u001b[0m \u001b[0mUSBError\u001b[0m\u001b[0;34m(\u001b[0m\u001b[0m_strerror\u001b[0m\u001b[0;34m(\u001b[0m\u001b[0mret\u001b[0m\u001b[0;34m)\u001b[0m\u001b[0;34m,\u001b[0m \u001b[0mret\u001b[0m\u001b[0;34m,\u001b[0m \u001b[0m_libusb_errno\u001b[0m\u001b[0;34m[\u001b[0m\u001b[0mret\u001b[0m\u001b[0;34m]\u001b[0m\u001b[0;34m)\u001b[0m\u001b[0;34m\u001b[0m\u001b[0m\n\u001b[0m\u001b[1;32m    596\u001b[0m \u001b[0;34m\u001b[0m\u001b[0m\n",
      "\u001b[0;31mUSBError\u001b[0m: [Errno 19] No such device (it may have been disconnected)",
      "\nDuring handling of the above exception, another exception occurred:\n",
      "\u001b[0;31mChannelBrokenException\u001b[0m                    Traceback (most recent call last)",
      "\u001b[0;32m<ipython-input-151-331bd04f1beb>\u001b[0m in \u001b[0;36m<module>\u001b[0;34m()\u001b[0m\n\u001b[1;32m      6\u001b[0m \u001b[0;31m#     print(\"goto \" + str(int(setpoint)))\u001b[0m\u001b[0;34m\u001b[0m\u001b[0;34m\u001b[0m\u001b[0m\n\u001b[1;32m      7\u001b[0m     \u001b[0;31m#my_drive.axis0.controller.pos_setpoint = setpoint+1300\u001b[0m\u001b[0;34m\u001b[0m\u001b[0;34m\u001b[0m\u001b[0m\n\u001b[0;32m----> 8\u001b[0;31m     \u001b[0mmy_drive\u001b[0m\u001b[0;34m.\u001b[0m\u001b[0maxis1\u001b[0m\u001b[0;34m.\u001b[0m\u001b[0mcontroller\u001b[0m\u001b[0;34m.\u001b[0m\u001b[0mpos_setpoint\u001b[0m \u001b[0;34m=\u001b[0m \u001b[0;34m-\u001b[0m\u001b[0;34m(\u001b[0m\u001b[0msetpoint\u001b[0m\u001b[0;34m+\u001b[0m\u001b[0;36m1450\u001b[0m\u001b[0;34m)\u001b[0m\u001b[0;34m\u001b[0m\u001b[0m\n\u001b[0m\u001b[1;32m      9\u001b[0m     \u001b[0mtime\u001b[0m\u001b[0;34m.\u001b[0m\u001b[0msleep\u001b[0m\u001b[0;34m(\u001b[0m\u001b[0;36m0.001\u001b[0m\u001b[0;34m)\u001b[0m\u001b[0;34m\u001b[0m\u001b[0m\n\u001b[1;32m     10\u001b[0m \u001b[0;34m\u001b[0m\u001b[0m\n",
      "\u001b[0;32m/anaconda3/lib/python3.7/site-packages/fibre/remote_object.py\u001b[0m in \u001b[0;36m__setattr__\u001b[0;34m(self, name, value)\u001b[0m\n\u001b[1;32m    250\u001b[0m         \u001b[0;32mif\u001b[0m \u001b[0misinstance\u001b[0m\u001b[0;34m(\u001b[0m\u001b[0mattr\u001b[0m\u001b[0;34m,\u001b[0m \u001b[0mRemoteProperty\u001b[0m\u001b[0;34m)\u001b[0m\u001b[0;34m:\u001b[0m\u001b[0;34m\u001b[0m\u001b[0m\n\u001b[1;32m    251\u001b[0m             \u001b[0;32mif\u001b[0m \u001b[0mattr\u001b[0m\u001b[0;34m.\u001b[0m\u001b[0m_can_write\u001b[0m\u001b[0;34m:\u001b[0m\u001b[0;34m\u001b[0m\u001b[0m\n\u001b[0;32m--> 252\u001b[0;31m                 \u001b[0mattr\u001b[0m\u001b[0;34m.\u001b[0m\u001b[0mset_value\u001b[0m\u001b[0;34m(\u001b[0m\u001b[0mvalue\u001b[0m\u001b[0;34m)\u001b[0m\u001b[0;34m\u001b[0m\u001b[0m\n\u001b[0m\u001b[1;32m    253\u001b[0m             \u001b[0;32melse\u001b[0m\u001b[0;34m:\u001b[0m\u001b[0;34m\u001b[0m\u001b[0m\n\u001b[1;32m    254\u001b[0m                 \u001b[0;32mraise\u001b[0m \u001b[0mException\u001b[0m\u001b[0;34m(\u001b[0m\u001b[0;34m\"Cannot write to property {}\"\u001b[0m\u001b[0;34m.\u001b[0m\u001b[0mformat\u001b[0m\u001b[0;34m(\u001b[0m\u001b[0mname\u001b[0m\u001b[0;34m)\u001b[0m\u001b[0;34m)\u001b[0m\u001b[0;34m\u001b[0m\u001b[0m\n",
      "\u001b[0;32m/anaconda3/lib/python3.7/site-packages/fibre/remote_object.py\u001b[0m in \u001b[0;36mset_value\u001b[0;34m(self, value)\u001b[0m\n\u001b[1;32m     76\u001b[0m         \u001b[0mbuffer\u001b[0m \u001b[0;34m=\u001b[0m \u001b[0mself\u001b[0m\u001b[0;34m.\u001b[0m\u001b[0m_codec\u001b[0m\u001b[0;34m.\u001b[0m\u001b[0mserialize\u001b[0m\u001b[0;34m(\u001b[0m\u001b[0mvalue\u001b[0m\u001b[0;34m)\u001b[0m\u001b[0;34m\u001b[0m\u001b[0m\n\u001b[1;32m     77\u001b[0m         \u001b[0;31m# TODO: Currenly we wait for an ack here. Settle on the default guarantee.\u001b[0m\u001b[0;34m\u001b[0m\u001b[0;34m\u001b[0m\u001b[0m\n\u001b[0;32m---> 78\u001b[0;31m         \u001b[0mself\u001b[0m\u001b[0;34m.\u001b[0m\u001b[0m_parent\u001b[0m\u001b[0;34m.\u001b[0m\u001b[0m__channel__\u001b[0m\u001b[0;34m.\u001b[0m\u001b[0mremote_endpoint_operation\u001b[0m\u001b[0;34m(\u001b[0m\u001b[0mself\u001b[0m\u001b[0;34m.\u001b[0m\u001b[0m_id\u001b[0m\u001b[0;34m,\u001b[0m \u001b[0mbuffer\u001b[0m\u001b[0;34m,\u001b[0m \u001b[0;32mTrue\u001b[0m\u001b[0;34m,\u001b[0m \u001b[0;36m0\u001b[0m\u001b[0;34m)\u001b[0m\u001b[0;34m\u001b[0m\u001b[0m\n\u001b[0m\u001b[1;32m     79\u001b[0m \u001b[0;34m\u001b[0m\u001b[0m\n\u001b[1;32m     80\u001b[0m     \u001b[0;32mdef\u001b[0m \u001b[0m_dump\u001b[0m\u001b[0;34m(\u001b[0m\u001b[0mself\u001b[0m\u001b[0;34m)\u001b[0m\u001b[0;34m:\u001b[0m\u001b[0;34m\u001b[0m\u001b[0m\n",
      "\u001b[0;32m/anaconda3/lib/python3.7/site-packages/fibre/protocol.py\u001b[0m in \u001b[0;36mremote_endpoint_operation\u001b[0;34m(self, endpoint_id, input, expect_ack, output_length)\u001b[0m\n\u001b[1;32m    295\u001b[0m                     \u001b[0mself\u001b[0m\u001b[0;34m.\u001b[0m\u001b[0m_my_lock\u001b[0m\u001b[0;34m.\u001b[0m\u001b[0macquire\u001b[0m\u001b[0;34m(\u001b[0m\u001b[0;34m)\u001b[0m\u001b[0;34m\u001b[0m\u001b[0m\n\u001b[1;32m    296\u001b[0m                     \u001b[0;32mtry\u001b[0m\u001b[0;34m:\u001b[0m\u001b[0;34m\u001b[0m\u001b[0m\n\u001b[0;32m--> 297\u001b[0;31m                         \u001b[0mself\u001b[0m\u001b[0;34m.\u001b[0m\u001b[0m_output\u001b[0m\u001b[0;34m.\u001b[0m\u001b[0mprocess_packet\u001b[0m\u001b[0;34m(\u001b[0m\u001b[0mpacket\u001b[0m\u001b[0;34m)\u001b[0m\u001b[0;34m\u001b[0m\u001b[0m\n\u001b[0m\u001b[1;32m    298\u001b[0m                     \u001b[0;32mexcept\u001b[0m \u001b[0mChannelDamagedException\u001b[0m\u001b[0;34m:\u001b[0m\u001b[0;34m\u001b[0m\u001b[0m\n\u001b[1;32m    299\u001b[0m                         \u001b[0mattempt\u001b[0m \u001b[0;34m+=\u001b[0m \u001b[0;36m1\u001b[0m\u001b[0;34m\u001b[0m\u001b[0m\n",
      "\u001b[0;32m/anaconda3/lib/python3.7/site-packages/fibre/usbbulk_transport.py\u001b[0m in \u001b[0;36mprocess_packet\u001b[0;34m(self, usbBuffer)\u001b[0m\n\u001b[1;32m    103\u001b[0m     \u001b[0;32mexcept\u001b[0m \u001b[0musb\u001b[0m\u001b[0;34m.\u001b[0m\u001b[0mcore\u001b[0m\u001b[0;34m.\u001b[0m\u001b[0mUSBError\u001b[0m \u001b[0;32mas\u001b[0m \u001b[0mex\u001b[0m\u001b[0;34m:\u001b[0m\u001b[0;34m\u001b[0m\u001b[0m\n\u001b[1;32m    104\u001b[0m       \u001b[0;32mif\u001b[0m \u001b[0mex\u001b[0m\u001b[0;34m.\u001b[0m\u001b[0merrno\u001b[0m \u001b[0;34m==\u001b[0m \u001b[0;36m19\u001b[0m \u001b[0;32mor\u001b[0m \u001b[0mex\u001b[0m\u001b[0;34m.\u001b[0m\u001b[0merrno\u001b[0m \u001b[0;34m==\u001b[0m \u001b[0;36m32\u001b[0m\u001b[0;34m:\u001b[0m \u001b[0;31m# \"no such device\", \"pipe error\"\u001b[0m\u001b[0;34m\u001b[0m\u001b[0m\n\u001b[0;32m--> 105\u001b[0;31m         \u001b[0;32mraise\u001b[0m \u001b[0mfibre\u001b[0m\u001b[0;34m.\u001b[0m\u001b[0mprotocol\u001b[0m\u001b[0;34m.\u001b[0m\u001b[0mChannelBrokenException\u001b[0m\u001b[0;34m(\u001b[0m\u001b[0;34m)\u001b[0m\u001b[0;34m\u001b[0m\u001b[0m\n\u001b[0m\u001b[1;32m    106\u001b[0m       \u001b[0;32melif\u001b[0m \u001b[0mex\u001b[0m\u001b[0;34m.\u001b[0m\u001b[0merrno\u001b[0m \u001b[0;32mis\u001b[0m \u001b[0;32mNone\u001b[0m \u001b[0;32mor\u001b[0m \u001b[0mex\u001b[0m\u001b[0;34m.\u001b[0m\u001b[0merrno\u001b[0m \u001b[0;34m==\u001b[0m \u001b[0;36m60\u001b[0m \u001b[0;32mor\u001b[0m \u001b[0mex\u001b[0m\u001b[0;34m.\u001b[0m\u001b[0merrno\u001b[0m \u001b[0;34m==\u001b[0m \u001b[0;36m110\u001b[0m\u001b[0;34m:\u001b[0m \u001b[0;31m# timeout\u001b[0m\u001b[0;34m\u001b[0m\u001b[0m\n\u001b[1;32m    107\u001b[0m         \u001b[0;32mraise\u001b[0m \u001b[0mTimeoutError\u001b[0m\u001b[0;34m(\u001b[0m\u001b[0;34m)\u001b[0m\u001b[0;34m\u001b[0m\u001b[0m\n",
      "\u001b[0;31mChannelBrokenException\u001b[0m: "
     ]
    }
   ],
   "source": [
    "# A sine wave to test\n",
    "t0 = time.monotonic()\n",
    "while True:\n",
    "    # prev 10000.0\n",
    "    setpoint = 3000.0 * math.sin((time.monotonic() - t0)*3)\n",
    "#     print(\"goto \" + str(int(setpoint)))\n",
    "    #my_drive.axis0.controller.pos_setpoint = setpoint+1300\n",
    "    my_drive.axis1.controller.pos_setpoint = -(setpoint+1450)\n",
    "    time.sleep(0.001)\n",
    "\n",
    "# Some more things you can try:"
   ]
  },
  {
   "cell_type": "code",
   "execution_count": 152,
   "metadata": {},
   "outputs": [
    {
     "ename": "AttributeError",
     "evalue": "Attribute vbus_voltage not found",
     "output_type": "error",
     "traceback": [
      "\u001b[0;31m---------------------------------------------------------------------------\u001b[0m",
      "\u001b[0;31mAttributeError\u001b[0m                            Traceback (most recent call last)",
      "\u001b[0;32m<ipython-input-152-c2a6e399fb1d>\u001b[0m in \u001b[0;36m<module>\u001b[0;34m()\u001b[0m\n\u001b[1;32m      1\u001b[0m \u001b[0;31m# Write to a read-only property:\u001b[0m\u001b[0;34m\u001b[0m\u001b[0;34m\u001b[0m\u001b[0m\n\u001b[0;32m----> 2\u001b[0;31m \u001b[0mmy_drive\u001b[0m\u001b[0;34m.\u001b[0m\u001b[0mvbus_voltage\u001b[0m \u001b[0;34m=\u001b[0m \u001b[0;36m11.0\u001b[0m  \u001b[0;31m# fails with `AttributeError: can't set attribute`\u001b[0m\u001b[0;34m\u001b[0m\u001b[0m\n\u001b[0m\u001b[1;32m      3\u001b[0m \u001b[0;34m\u001b[0m\u001b[0m\n\u001b[1;32m      4\u001b[0m \u001b[0;31m# Assign an incompatible value:\u001b[0m\u001b[0;34m\u001b[0m\u001b[0;34m\u001b[0m\u001b[0m\n\u001b[1;32m      5\u001b[0m \u001b[0mmy_drive\u001b[0m\u001b[0;34m.\u001b[0m\u001b[0mmotor0\u001b[0m\u001b[0;34m.\u001b[0m\u001b[0mpos_setpoint\u001b[0m \u001b[0;34m=\u001b[0m \u001b[0;34m\"I like trains\"\u001b[0m  \u001b[0;31m# fails with `ValueError: could not convert string to float`\u001b[0m\u001b[0;34m\u001b[0m\u001b[0m\n",
      "\u001b[0;32m/anaconda3/lib/python3.7/site-packages/fibre/remote_object.py\u001b[0m in \u001b[0;36m__setattr__\u001b[0;34m(self, name, value)\u001b[0m\n\u001b[1;32m    256\u001b[0m             \u001b[0mobject\u001b[0m\u001b[0;34m.\u001b[0m\u001b[0m__getattribute__\u001b[0m\u001b[0;34m(\u001b[0m\u001b[0mself\u001b[0m\u001b[0;34m,\u001b[0m \u001b[0;34m\"__dict__\"\u001b[0m\u001b[0;34m)\u001b[0m\u001b[0;34m[\u001b[0m\u001b[0mname\u001b[0m\u001b[0;34m]\u001b[0m \u001b[0;34m=\u001b[0m \u001b[0mvalue\u001b[0m\u001b[0;34m\u001b[0m\u001b[0m\n\u001b[1;32m    257\u001b[0m         \u001b[0;32melse\u001b[0m\u001b[0;34m:\u001b[0m\u001b[0;34m\u001b[0m\u001b[0m\n\u001b[0;32m--> 258\u001b[0;31m             \u001b[0;32mraise\u001b[0m \u001b[0mAttributeError\u001b[0m\u001b[0;34m(\u001b[0m\u001b[0;34m\"Attribute {} not found\"\u001b[0m\u001b[0;34m.\u001b[0m\u001b[0mformat\u001b[0m\u001b[0;34m(\u001b[0m\u001b[0mname\u001b[0m\u001b[0;34m)\u001b[0m\u001b[0;34m)\u001b[0m\u001b[0;34m\u001b[0m\u001b[0m\n\u001b[0m\u001b[1;32m    259\u001b[0m \u001b[0;34m\u001b[0m\u001b[0m\n\u001b[1;32m    260\u001b[0m     \u001b[0;32mdef\u001b[0m \u001b[0m_tear_down\u001b[0m\u001b[0;34m(\u001b[0m\u001b[0mself\u001b[0m\u001b[0;34m)\u001b[0m\u001b[0;34m:\u001b[0m\u001b[0;34m\u001b[0m\u001b[0m\n",
      "\u001b[0;31mAttributeError\u001b[0m: Attribute vbus_voltage not found"
     ]
    }
   ],
   "source": [
    "# Write to a read-only property:\n",
    "my_drive.vbus_voltage = 11.0  # fails with `AttributeError: can't set attribute`\n",
    "\n",
    "# Assign an incompatible value:\n",
    "my_drive.motor0.pos_setpoint = \"I like trains\"  # fails with `ValueError: could not convert string to float`"
   ]
  },
  {
   "cell_type": "code",
   "execution_count": null,
   "metadata": {},
   "outputs": [],
   "source": [
    "import sys\n",
    "sys.version"
   ]
  },
  {
   "cell_type": "code",
   "execution_count": null,
   "metadata": {},
   "outputs": [],
   "source": []
  }
 ],
 "metadata": {
  "kernelspec": {
   "display_name": "Python 3",
   "language": "python",
   "name": "python3"
  },
  "language_info": {
   "codemirror_mode": {
    "name": "ipython",
    "version": 3
   },
   "file_extension": ".py",
   "mimetype": "text/x-python",
   "name": "python",
   "nbconvert_exporter": "python",
   "pygments_lexer": "ipython3",
   "version": "3.7.0"
  }
 },
 "nbformat": 4,
 "nbformat_minor": 2
}
